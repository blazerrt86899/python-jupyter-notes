{
 "cells": [
  {
   "cell_type": "code",
   "execution_count": 1,
   "metadata": {},
   "outputs": [],
   "source": [
    "#Question 1\n",
    "\n"
   ]
  },
  {
   "cell_type": "code",
   "execution_count": 4,
   "metadata": {},
   "outputs": [
    {
     "name": "stdout",
     "output_type": "stream",
     "text": [
      "Enter Your name: Romu Tiwari\n",
      "Enter Your age: 22\n",
      "Enter your year of birth: 1998\n",
      "Your name is Romu Tiwari and your age is 22 years.\n",
      "You will turn 100 years in 2098\n"
     ]
    }
   ],
   "source": [
    "name = input(\"Enter Your name: \")\n",
    "age =  int(input(\"Enter Your age: \"))\n",
    "yearofbirth = int(input(\"Enter your year of birth: \"))\n",
    "print(f\"Your name is {name} and your age is {age} years.\")\n",
    "print(f\"You will turn 100 years in {yearofbirth + 100}\")\n"
   ]
  },
  {
   "cell_type": "code",
   "execution_count": 5,
   "metadata": {},
   "outputs": [],
   "source": [
    "#Question 2\n"
   ]
  },
  {
   "cell_type": "code",
   "execution_count": 7,
   "metadata": {},
   "outputs": [
    {
     "name": "stdout",
     "output_type": "stream",
     "text": [
      "Enter a number: 56\n",
      "Number is even and number is 56\n"
     ]
    }
   ],
   "source": [
    "num = int(input(\"Enter a number: \"))\n",
    "if num % 2 == 0:\n",
    "    print(\"Number is even and number is {}\".format(num))\n",
    "else:\n",
    "    print(\"Number is odd and number is {}\".format(num))"
   ]
  },
  {
   "cell_type": "code",
   "execution_count": 9,
   "metadata": {},
   "outputs": [
    {
     "name": "stdout",
     "output_type": "stream",
     "text": [
      "Enter a number: 21\n",
      "Enter number for a check: 7\n",
      "21 is an odd number\n",
      "21 is divided by 7 completely.\n"
     ]
    }
   ],
   "source": [
    "#extension\n",
    "num = int(input(\"Enter a number: \"))\n",
    "check = int(input(\"Enter number for a check: \"))\n",
    "\n",
    "if num % 4 == 0:\n",
    "    print(\"{} is divisible by 4\".format(num))\n",
    "\n",
    "if num % 2 == 0:\n",
    "    print(\"{} is an even number\".format(num))\n",
    "else:\n",
    "    print(\"{} is an odd number\".format(num))\n",
    "\n",
    "    \n",
    "if num % check == 0:\n",
    "    print(f\"{num} is divided by {check} completely.\")\n",
    "else:\n",
    "    print(f\"{check} do no divide {num} completely.\")"
   ]
  },
  {
   "cell_type": "code",
   "execution_count": 10,
   "metadata": {},
   "outputs": [],
   "source": [
    "#Question 3\n"
   ]
  },
  {
   "cell_type": "code",
   "execution_count": null,
   "metadata": {},
   "outputs": [],
   "source": []
  }
 ],
 "metadata": {
  "kernelspec": {
   "display_name": "Python 3",
   "language": "python",
   "name": "python3"
  },
  "language_info": {
   "codemirror_mode": {
    "name": "ipython",
    "version": 3
   },
   "file_extension": ".py",
   "mimetype": "text/x-python",
   "name": "python",
   "nbconvert_exporter": "python",
   "pygments_lexer": "ipython3",
   "version": "3.6.5"
  }
 },
 "nbformat": 4,
 "nbformat_minor": 2
}
