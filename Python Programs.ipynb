{
 "cells": [
  {
   "cell_type": "code",
   "execution_count": 1,
   "metadata": {},
   "outputs": [],
   "source": [
    "#ARMSTRONG NUMBERS"
   ]
  },
  {
   "cell_type": "code",
   "execution_count": 16,
   "metadata": {},
   "outputs": [],
   "source": [
    "def armstrong_number(low,high):\n",
    "    for i in range(low,high):\n",
    "        result = 0\n",
    "        num = i\n",
    "        n = len(str(i))\n",
    "        while(i!=0):\n",
    "            digit = i%10\n",
    "            result = result + digit**n\n",
    "            i = i//10\n",
    "        \n",
    "        if num == result:\n",
    "            print(num)"
   ]
  },
  {
   "cell_type": "code",
   "execution_count": 17,
   "metadata": {},
   "outputs": [
    {
     "name": "stdout",
     "output_type": "stream",
     "text": [
      "153\n",
      "370\n",
      "371\n",
      "407\n"
     ]
    }
   ],
   "source": [
    "armstrong_number(10,1001)"
   ]
  },
  {
   "cell_type": "code",
   "execution_count": 18,
   "metadata": {},
   "outputs": [],
   "source": [
    "#Pattern Program"
   ]
  },
  {
   "cell_type": "code",
   "execution_count": 26,
   "metadata": {},
   "outputs": [
    {
     "name": "stdout",
     "output_type": "stream",
     "text": [
      "Enter number of rows: 5\n",
      "1\n",
      "2\n",
      "3\n",
      "4\n",
      "5\n"
     ]
    }
   ],
   "source": [
    "rows = int(input('Enter number of rows: '))\n",
    "for i in range(1,rows+1):\n",
    "    for j in range(1,i+1):\n",
    "        print(j,end='')\n",
    "    print()\n",
    "        "
   ]
  },
  {
   "cell_type": "code",
   "execution_count": 27,
   "metadata": {},
   "outputs": [
    {
     "name": "stdout",
     "output_type": "stream",
     "text": [
      "Enter number of rows:7\n",
      "1\n",
      "22\n",
      "333\n",
      "4444\n",
      "55555\n",
      "666666\n",
      "7777777\n"
     ]
    }
   ],
   "source": [
    "rows = int(input(\"Enter number of rows:\"))\n",
    "for i in range(1,rows+1):\n",
    "    for j in range(1,i+1):\n",
    "        print(i,end='')\n",
    "    print()"
   ]
  },
  {
   "cell_type": "code",
   "execution_count": 28,
   "metadata": {},
   "outputs": [],
   "source": [
    "#Star Pattern"
   ]
  },
  {
   "cell_type": "code",
   "execution_count": 29,
   "metadata": {},
   "outputs": [
    {
     "name": "stdout",
     "output_type": "stream",
     "text": [
      "Enter number of rows:5\n",
      "*\n",
      "**\n",
      "***\n",
      "****\n",
      "*****\n"
     ]
    }
   ],
   "source": [
    "rows = int(input(\"Enter number of rows:\"))\n",
    "for i in range(1,rows+1):\n",
    "    for j in range(1,i+1):\n",
    "        print('*',end='')\n",
    "    print()"
   ]
  },
  {
   "cell_type": "code",
   "execution_count": 30,
   "metadata": {},
   "outputs": [
    {
     "name": "stdout",
     "output_type": "stream",
     "text": [
      "Enter number of rows: 6\n",
      "*     \n",
      "**    \n",
      "* *   \n",
      "*  *  \n",
      "*   * \n",
      "******\n"
     ]
    }
   ],
   "source": [
    "rows = int(input(\"Enter number of rows: \"))\n",
    "for i in range(rows):\n",
    "    for j in range(rows):\n",
    "        if j == 0 or i == rows-1 or i==j:\n",
    "            print('*',end='')\n",
    "        else:\n",
    "            print(end=' ')\n",
    "    print()\n",
    "    "
   ]
  },
  {
   "cell_type": "code",
   "execution_count": 31,
   "metadata": {},
   "outputs": [
    {
     "name": "stdout",
     "output_type": "stream",
     "text": [
      "Enter number of rows: 5\n",
      "*****\n",
      " *  *\n",
      "  * *\n",
      "   **\n",
      "    *\n"
     ]
    }
   ],
   "source": [
    "rows = int(input(\"Enter number of rows: \"))\n",
    "for i in range(rows):\n",
    "    for j in range(rows):\n",
    "        if i == 0 or j == rows-1 or i == j:\n",
    "            print(\"*\",end='')\n",
    "        else:\n",
    "            print(end=' ')\n",
    "    print()"
   ]
  },
  {
   "cell_type": "code",
   "execution_count": 32,
   "metadata": {},
   "outputs": [],
   "source": [
    "#Floyd Triangle"
   ]
  },
  {
   "cell_type": "code",
   "execution_count": 35,
   "metadata": {},
   "outputs": [
    {
     "name": "stdout",
     "output_type": "stream",
     "text": [
      "Enter number of rows: 6\n",
      "1 \n",
      "2 3 \n",
      "4 5 6 \n",
      "7 8 9 10 \n",
      "11 12 13 14 15 \n",
      "16 17 18 19 20 21 \n"
     ]
    }
   ],
   "source": [
    "n = int(input(\"Enter number of rows: \"))\n",
    "num = 1\n",
    "for row in range(1,n+1):\n",
    "    for col in range(1,row+1):\n",
    "        print(num,end=' ')\n",
    "        num+=1\n",
    "    print()"
   ]
  },
  {
   "cell_type": "code",
   "execution_count": 36,
   "metadata": {},
   "outputs": [],
   "source": [
    "#TCS Ninja Coding"
   ]
  },
  {
   "cell_type": "code",
   "execution_count": 37,
   "metadata": {},
   "outputs": [],
   "source": [
    "#series: 1,2,1,3,2,5,3,7,5,11,... (mixture of fib and prime no.)"
   ]
  },
  {
   "cell_type": "code",
   "execution_count": 67,
   "metadata": {},
   "outputs": [],
   "source": [
    "from math import sqrt\n",
    "MAX = 1000\n",
    "\n",
    "def fib_numbers(n):\n",
    "    f = [0]*(n+2)\n",
    "    f[0],f[1] = 0,1\n",
    "    for i in range(2,n+1):\n",
    "        f[i] = f[i-1] + f[i-2]\n",
    "    return f[n]\n",
    "    \n",
    "    \n",
    "def prime_numbers(n):\n",
    "    count = 0\n",
    "    for i in range(2,MAX+1):\n",
    "        flag = 0\n",
    "        for j in range(2,int(sqrt(i))+1):\n",
    "            if(i%j == 0):\n",
    "                flag = 1\n",
    "                break\n",
    "        if flag == 0:\n",
    "            count+=1\n",
    "            \n",
    "        if count == n:\n",
    "            return i\n",
    "            break"
   ]
  },
  {
   "cell_type": "code",
   "execution_count": 68,
   "metadata": {},
   "outputs": [],
   "source": [
    "\n",
    "def findNthTerm(n):\n",
    "    \n",
    "    if n%2 == 0:\n",
    "        prime_numbers(n//2)\n",
    "        print(n)\n",
    "    else:\n",
    "        fib_numbers((n//2)+1)\n",
    "        print(n)\n",
    "\n"
   ]
  },
  {
   "cell_type": "code",
   "execution_count": 69,
   "metadata": {},
   "outputs": [
    {
     "name": "stdout",
     "output_type": "stream",
     "text": [
      "14\n"
     ]
    }
   ],
   "source": [
    "findNthTerm(14)"
   ]
  },
  {
   "cell_type": "code",
   "execution_count": null,
   "metadata": {},
   "outputs": [],
   "source": []
  },
  {
   "cell_type": "code",
   "execution_count": 1,
   "metadata": {},
   "outputs": [],
   "source": [
    "#HACKER RANK CHallenges\n"
   ]
  },
  {
   "cell_type": "code",
   "execution_count": 7,
   "metadata": {},
   "outputs": [
    {
     "name": "stdout",
     "output_type": "stream",
     "text": [
      "4\n",
      "5\n",
      "6\n",
      "\n",
      "7\n",
      "8\n",
      "\n"
     ]
    },
    {
     "ename": "ValueError",
     "evalue": "invalid literal for int() with base 10: ''",
     "output_type": "error",
     "traceback": [
      "\u001b[1;31m---------------------------------------------------------------------------\u001b[0m",
      "\u001b[1;31mValueError\u001b[0m                                Traceback (most recent call last)",
      "\u001b[1;32m<ipython-input-7-a7270d748ca5>\u001b[0m in \u001b[0;36m<module>\u001b[1;34m()\u001b[0m\n\u001b[0;32m      3\u001b[0m \u001b[1;32mfor\u001b[0m \u001b[0mi\u001b[0m \u001b[1;32min\u001b[0m \u001b[0mrange\u001b[0m\u001b[1;33m(\u001b[0m\u001b[1;36m0\u001b[0m\u001b[1;33m,\u001b[0m\u001b[0mk\u001b[0m\u001b[1;33m)\u001b[0m\u001b[1;33m:\u001b[0m\u001b[1;33m\u001b[0m\u001b[0m\n\u001b[0;32m      4\u001b[0m     \u001b[0mname\u001b[0m \u001b[1;33m=\u001b[0m \u001b[0minput\u001b[0m\u001b[1;33m(\u001b[0m\u001b[1;33m)\u001b[0m\u001b[1;33m\u001b[0m\u001b[0m\n\u001b[1;32m----> 5\u001b[1;33m     \u001b[0mscore\u001b[0m \u001b[1;33m=\u001b[0m \u001b[0mint\u001b[0m\u001b[1;33m(\u001b[0m\u001b[0minput\u001b[0m\u001b[1;33m(\u001b[0m\u001b[1;33m)\u001b[0m\u001b[1;33m)\u001b[0m\u001b[1;33m\u001b[0m\u001b[0m\n\u001b[0m\u001b[0;32m      6\u001b[0m     \u001b[0mlst\u001b[0m \u001b[1;33m=\u001b[0m \u001b[1;33m[\u001b[0m\u001b[0mname\u001b[0m\u001b[1;33m,\u001b[0m\u001b[0mscore\u001b[0m\u001b[1;33m]\u001b[0m\u001b[1;33m\u001b[0m\u001b[0m\n\u001b[0;32m      7\u001b[0m \u001b[1;33m\u001b[0m\u001b[0m\n",
      "\u001b[1;31mValueError\u001b[0m: invalid literal for int() with base 10: ''"
     ]
    }
   ],
   "source": [
    "lst = []\n",
    "k = int(input())\n",
    "for i in range(0,k):\n",
    "    name = input()\n",
    "    score = int(input())\n",
    "    lst = [name,score]\n",
    "\n",
    "print(lst)\n",
    "\n"
   ]
  },
  {
   "cell_type": "code",
   "execution_count": 8,
   "metadata": {},
   "outputs": [
    {
     "name": "stdout",
     "output_type": "stream",
     "text": [
      "String: romu\n",
      "rroromromu\n"
     ]
    }
   ],
   "source": [
    "str = input(\"String: \")\n",
    "result = ''\n",
    "for i in range(len(str)):\n",
    "    result = result + str[0:i+1]\n",
    "    i+=1\n",
    "print(result)\n",
    "    "
   ]
  },
  {
   "cell_type": "code",
   "execution_count": 9,
   "metadata": {},
   "outputs": [],
   "source": [
    "#python Challenges\n",
    "\n",
    "\n"
   ]
  },
  {
   "cell_type": "code",
   "execution_count": 14,
   "metadata": {},
   "outputs": [],
   "source": [
    "def product(a,b):\n",
    "    product = a*b\n",
    "    if product >1000:\n",
    "        return a+b\n",
    "    else:\n",
    "        return product\n",
    "    "
   ]
  },
  {
   "cell_type": "code",
   "execution_count": 16,
   "metadata": {},
   "outputs": [
    {
     "data": {
      "text/plain": [
       "300"
      ]
     },
     "execution_count": 16,
     "metadata": {},
     "output_type": "execute_result"
    }
   ],
   "source": [
    "product(100,3)"
   ]
  },
  {
   "cell_type": "code",
   "execution_count": 19,
   "metadata": {},
   "outputs": [],
   "source": [
    "def sum(nums):\n",
    "    previous_num = 0\n",
    "    for i in range(nums):\n",
    "        sum = previous_num + i\n",
    "        previous_num = i\n",
    "        print(sum)\n",
    "    "
   ]
  },
  {
   "cell_type": "code",
   "execution_count": 20,
   "metadata": {},
   "outputs": [
    {
     "name": "stdout",
     "output_type": "stream",
     "text": [
      "0\n",
      "1\n",
      "3\n",
      "5\n",
      "7\n",
      "9\n",
      "11\n",
      "13\n",
      "15\n",
      "17\n"
     ]
    }
   ],
   "source": [
    "sum(10)"
   ]
  },
  {
   "cell_type": "code",
   "execution_count": 24,
   "metadata": {},
   "outputs": [],
   "source": [
    "def even_string(string):\n",
    "    for i in range(len(string)):\n",
    "        if i%2==0:\n",
    "            print(i,string[i])"
   ]
  },
  {
   "cell_type": "code",
   "execution_count": 25,
   "metadata": {},
   "outputs": [
    {
     "name": "stdout",
     "output_type": "stream",
     "text": [
      "0 p\n",
      "2 n\n",
      "4 t\n",
      "6 v\n"
     ]
    }
   ],
   "source": [
    "even_string('pynative')"
   ]
  },
  {
   "cell_type": "code",
   "execution_count": 26,
   "metadata": {},
   "outputs": [],
   "source": [
    "def remove_chars(string,n):\n",
    "    return string[n:]"
   ]
  },
  {
   "cell_type": "code",
   "execution_count": 27,
   "metadata": {},
   "outputs": [
    {
     "data": {
      "text/plain": [
       "'tive'"
      ]
     },
     "execution_count": 27,
     "metadata": {},
     "output_type": "execute_result"
    }
   ],
   "source": [
    "remove_chars('pynative',4)"
   ]
  },
  {
   "cell_type": "code",
   "execution_count": 28,
   "metadata": {},
   "outputs": [],
   "source": [
    "def first_last(nums):\n",
    "    return nums[0]==nums[-1]\n"
   ]
  },
  {
   "cell_type": "code",
   "execution_count": 29,
   "metadata": {},
   "outputs": [
    {
     "data": {
      "text/plain": [
       "True"
      ]
     },
     "execution_count": 29,
     "metadata": {},
     "output_type": "execute_result"
    }
   ],
   "source": [
    "first_last([1,2,3,1])"
   ]
  },
  {
   "cell_type": "code",
   "execution_count": 54,
   "metadata": {},
   "outputs": [],
   "source": [
    "def count(string):\n",
    "    count = 0\n",
    "    stmt = 'Emma'\n",
    "    lst = string.split()\n",
    "    for i in range(len(lst)):\n",
    "        if lst[i] == stmt:\n",
    "            count+=1\n",
    "    return count\n",
    "    "
   ]
  },
  {
   "cell_type": "code",
   "execution_count": 55,
   "metadata": {},
   "outputs": [
    {
     "data": {
      "text/plain": [
       "2"
      ]
     },
     "execution_count": 55,
     "metadata": {},
     "output_type": "execute_result"
    }
   ],
   "source": [
    "count('Emma is a good developer. Emma is also a writer.')"
   ]
  },
  {
   "cell_type": "code",
   "execution_count": 74,
   "metadata": {},
   "outputs": [],
   "source": [
    "def pattern(n):\n",
    "    for i in range(1,n+1):\n",
    "        for j in range(0,i):\n",
    "            print(i,end=' ')\n",
    "        print()"
   ]
  },
  {
   "cell_type": "code",
   "execution_count": 75,
   "metadata": {},
   "outputs": [
    {
     "name": "stdout",
     "output_type": "stream",
     "text": [
      "1 \n",
      "2 2 \n",
      "3 3 3 \n",
      "4 4 4 4 \n",
      "5 5 5 5 5 \n"
     ]
    }
   ],
   "source": [
    "pattern(5)"
   ]
  },
  {
   "cell_type": "code",
   "execution_count": 84,
   "metadata": {},
   "outputs": [],
   "source": [
    "def palindrome(num):\n",
    "    i = num\n",
    "    rev = 0\n",
    "    while num > 0:\n",
    "        digit = num%10\n",
    "        rev = (rev*10)+digit\n",
    "        num = num//10\n",
    "    if i == rev:\n",
    "        return True\n",
    "    else:\n",
    "        return False"
   ]
  },
  {
   "cell_type": "code",
   "execution_count": 85,
   "metadata": {},
   "outputs": [
    {
     "data": {
      "text/plain": [
       "True"
      ]
     },
     "execution_count": 85,
     "metadata": {},
     "output_type": "execute_result"
    }
   ],
   "source": [
    "palindrome(121)"
   ]
  },
  {
   "cell_type": "code",
   "execution_count": 93,
   "metadata": {},
   "outputs": [],
   "source": [
    "def odd_even(odd,even):\n",
    "    lst3 = []\n",
    "    for i in odd:\n",
    "        if i%2 != 0:\n",
    "            lst3.append(i)\n",
    "    for j in even:\n",
    "        if j%2 == 0:\n",
    "            lst3.append(j)\n",
    "    return lst3"
   ]
  },
  {
   "cell_type": "code",
   "execution_count": 94,
   "metadata": {},
   "outputs": [
    {
     "data": {
      "text/plain": [
       "[23, 11, 17, 24, 36, 12]"
      ]
     },
     "execution_count": 94,
     "metadata": {},
     "output_type": "execute_result"
    }
   ],
   "source": [
    "odd_even([10,20,23,11,17],[13,43,24,36,12])"
   ]
  },
  {
   "cell_type": "code",
   "execution_count": 95,
   "metadata": {},
   "outputs": [],
   "source": [
    "#Hacker Rank Challenges"
   ]
  },
  {
   "cell_type": "code",
   "execution_count": 97,
   "metadata": {},
   "outputs": [
    {
     "name": "stdout",
     "output_type": "stream",
     "text": [
      "12\n",
      "4.0\n",
      "is\n",
      "16\n",
      "8.0\n",
      "Hackerrankis\n"
     ]
    }
   ],
   "source": [
    "i = 4\n",
    "d = 4.0\n",
    "s = 'Hackerrank'\n",
    "\n",
    "input1 = int(input())\n",
    "input2 = float(input())\n",
    "input3 = input()\n",
    "\n",
    "print(i+input1)\n",
    "print(d+input2)\n",
    "print(s+input3)"
   ]
  },
  {
   "cell_type": "code",
   "execution_count": 99,
   "metadata": {},
   "outputs": [
    {
     "name": "stdout",
     "output_type": "stream",
     "text": [
      "12.0\n",
      "20\n",
      "8\n",
      "15\n"
     ]
    }
   ],
   "source": [
    "meal_cost = float(input())\n",
    "tip_percent = int(input())\n",
    "tax_percent = int(input())\n",
    "\n",
    "total_cost = meal_cost + ((0.01*tip_percent) + (0.01*tax_percent))*meal_cost\n",
    "\n",
    "print(round(total_cost))"
   ]
  },
  {
   "cell_type": "code",
   "execution_count": 103,
   "metadata": {},
   "outputs": [
    {
     "name": "stdout",
     "output_type": "stream",
     "text": [
      "22\n",
      "Not Weird\n"
     ]
    }
   ],
   "source": [
    "n  = int(input())\n",
    "if n%2!=0:\n",
    "    print('Weird')\n",
    "elif n%2==0:\n",
    "    if n in range(2,6):\n",
    "        print('Not Weird')\n",
    "    elif n in range(6,21):\n",
    "        print('Weird')\n",
    "    elif n > 20:\n",
    "        print('Not Weird')"
   ]
  },
  {
   "cell_type": "code",
   "execution_count": 109,
   "metadata": {},
   "outputs": [],
   "source": [
    "def getThreeChars(str):\n",
    "    i = (len(str)//2)-1\n",
    "    return str[i:i+3]"
   ]
  },
  {
   "cell_type": "code",
   "execution_count": 110,
   "metadata": {},
   "outputs": [
    {
     "data": {
      "text/plain": [
       "'Dip'"
      ]
     },
     "execution_count": 110,
     "metadata": {},
     "output_type": "execute_result"
    }
   ],
   "source": [
    "getThreeChars('JhonDipPeta')"
   ]
  },
  {
   "cell_type": "code",
   "execution_count": 117,
   "metadata": {},
   "outputs": [],
   "source": [
    "def appendMiddle(s1,s2):\n",
    "    return s1[:len(s1)//2-1] + s2 + s1[len(s1)//2-1:]\n",
    "    "
   ]
  },
  {
   "cell_type": "code",
   "execution_count": 118,
   "metadata": {},
   "outputs": [
    {
     "data": {
      "text/plain": [
       "'ChrIamNewStringisdem'"
      ]
     },
     "execution_count": 118,
     "metadata": {},
     "output_type": "execute_result"
    }
   ],
   "source": [
    "appendMiddle('Chrisdem','IamNewString')"
   ]
  },
  {
   "cell_type": "code",
   "execution_count": 125,
   "metadata": {},
   "outputs": [],
   "source": [
    "def mixString(s1,s2):\n",
    "    return s1[0]+s2[0]+s1[len(s1)//2]+s2[len(s2)//2]+s1[-1]+s2[-1]"
   ]
  },
  {
   "cell_type": "code",
   "execution_count": 126,
   "metadata": {},
   "outputs": [
    {
     "data": {
      "text/plain": [
       "'AJrpan'"
      ]
     },
     "execution_count": 126,
     "metadata": {},
     "output_type": "execute_result"
    }
   ],
   "source": [
    "mixString(\"America\",\"Japan\")"
   ]
  },
  {
   "cell_type": "code",
   "execution_count": 132,
   "metadata": {},
   "outputs": [
    {
     "name": "stdout",
     "output_type": "stream",
     "text": [
      "PyNaTive\n",
      "yaivePNT\n"
     ]
    }
   ],
   "source": [
    "input_str = input()\n",
    "words = input_str.split()\n",
    "\n",
    "lower = []\n",
    "upper = []\n",
    "\n",
    "for char in input_str:\n",
    "    if char.islower():\n",
    "        lower.append(char)\n",
    "    else:\n",
    "        upper.append(char)\n",
    "        \n",
    "arranged = ''.join(lower + upper)\n",
    "print(arranged)"
   ]
  },
  {
   "cell_type": "code",
   "execution_count": 133,
   "metadata": {},
   "outputs": [],
   "source": [
    "#string counts"
   ]
  },
  {
   "cell_type": "code",
   "execution_count": 137,
   "metadata": {},
   "outputs": [
    {
     "name": "stdout",
     "output_type": "stream",
     "text": [
      "P@#rtT45&t\n",
      "5\n",
      "2\n",
      "3\n"
     ]
    }
   ],
   "source": [
    "input_str = input()\n",
    "words = input_str.split()\n",
    "charCount = 0\n",
    "digitCount = 0\n",
    "symbolsCount = 0\n",
    "\n",
    "for char in input_str:\n",
    "    if char.islower() or char.isupper():\n",
    "        charCount+=1\n",
    "    elif char.isnumeric():\n",
    "        digitCount+=1\n",
    "    else:\n",
    "        symbolsCount+=1\n",
    "\n",
    "print(charCount)\n",
    "print(digitCount)\n",
    "print(symbolsCount)"
   ]
  },
  {
   "cell_type": "code",
   "execution_count": 138,
   "metadata": {},
   "outputs": [],
   "source": [
    "#python patterns"
   ]
  },
  {
   "cell_type": "code",
   "execution_count": 139,
   "metadata": {},
   "outputs": [
    {
     "name": "stdout",
     "output_type": "stream",
     "text": [
      "Enter the numbr of rows: 6\n",
      "*     \n",
      "**    \n",
      "* *   \n",
      "*  *  \n",
      "*   * \n",
      "******\n"
     ]
    }
   ],
   "source": [
    "n = int(input(\"Enter the numbr of rows: \"))\n",
    "for row in range(n):\n",
    "    for col in range(n):\n",
    "        if col == 0 or row == (n-1) or row == col:\n",
    "            print('*',end='')\n",
    "        else:\n",
    "            print(end = \" \")\n",
    "    print()"
   ]
  },
  {
   "cell_type": "code",
   "execution_count": 142,
   "metadata": {},
   "outputs": [
    {
     "name": "stdout",
     "output_type": "stream",
     "text": [
      "Enter the number: 6\n",
      "720\n"
     ]
    }
   ],
   "source": [
    "#In-Built Factorial\n",
    "import math\n",
    "n = int(input(\"Enter the number: \"))\n",
    "result = math.factorial(n)\n",
    "print(result)"
   ]
  },
  {
   "cell_type": "code",
   "execution_count": 143,
   "metadata": {},
   "outputs": [
    {
     "name": "stdout",
     "output_type": "stream",
     "text": [
      "Enter number: 5\n",
      "Factorial using recursion is: 120\n"
     ]
    }
   ],
   "source": [
    "#factorial-Recursion\n",
    "def fact(n):\n",
    "    if n == 0:\n",
    "        return 1\n",
    "    else:\n",
    "        return n*fact(n-1)\n",
    "    \n",
    "n = int(input(\"Enter number: \"))\n",
    "result = fact(n)\n",
    "print(\"Factorial using recursion is:\",result)"
   ]
  },
  {
   "cell_type": "code",
   "execution_count": 149,
   "metadata": {},
   "outputs": [
    {
     "name": "stdout",
     "output_type": "stream",
     "text": [
      "Enter number: 6\n",
      "720\n"
     ]
    }
   ],
   "source": [
    "#factorial-Loop\n",
    "n = int(input(\"Enter number: \"))\n",
    "fact = 1\n",
    "for i in range(n,0,-1):\n",
    "    fact = fact *i\n",
    "    i+=1\n",
    "print(fact)"
   ]
  },
  {
   "cell_type": "code",
   "execution_count": 157,
   "metadata": {},
   "outputs": [
    {
     "name": "stdout",
     "output_type": "stream",
     "text": [
      "Enter number of rows: 6\n",
      "******\n",
      " *   *\n",
      "  *  *\n",
      "   * *\n",
      "    **\n",
      "     *\n"
     ]
    }
   ],
   "source": [
    "#Hollow Triangle\n",
    "n = int(input(\"Enter number of rows: \"))\n",
    "for row in range(n):\n",
    "    for col in range(n):\n",
    "        if row == 0 or col == n-1 or row == col:\n",
    "            print('*',end='')\n",
    "        else:\n",
    "            print(end=' ')\n",
    "    print()\n",
    "    "
   ]
  },
  {
   "cell_type": "code",
   "execution_count": 159,
   "metadata": {},
   "outputs": [
    {
     "name": "stdout",
     "output_type": "stream",
     "text": [
      "Enter num of rows: 5\n",
      "1 \n",
      "2 3 \n",
      "4 5 6 \n",
      "7 8 9 10 \n",
      "11 12 13 14 15 \n"
     ]
    }
   ],
   "source": [
    "#FLoyd's Triangle\n",
    "n = int(input(\"Enter num of rows: \"))\n",
    "num =1\n",
    "for i in range(1,n+1):\n",
    "    for j in range(1,i+1):\n",
    "        print(num,end=' ')\n",
    "        num+=1\n",
    "    print()\n",
    "        "
   ]
  },
  {
   "cell_type": "code",
   "execution_count": 164,
   "metadata": {},
   "outputs": [
    {
     "name": "stdout",
     "output_type": "stream",
     "text": [
      "Enter a string: BUBUUSAUR\n",
      "B\n",
      "BU\n",
      "BUB\n",
      "BUBU\n",
      "BUBUU\n",
      "BUBUUS\n",
      "BUBUUSA\n",
      "BUBUUSAU\n",
      "BUBUUSAUR\n"
     ]
    }
   ],
   "source": [
    "string = input(\"Enter a string: \")\n",
    "for row in range(len(string)):\n",
    "    for col in range(row+1):\n",
    "        print(string[col],end='')\n",
    "    print()"
   ]
  },
  {
   "cell_type": "code",
   "execution_count": 167,
   "metadata": {},
   "outputs": [
    {
     "name": "stdout",
     "output_type": "stream",
     "text": [
      "Enter number of terms: 6\n",
      "0\n",
      "1\n",
      "1\n",
      "2\n",
      "3\n",
      "5\n"
     ]
    }
   ],
   "source": [
    "#Fibonacci Series\n",
    "n = int(input(\"Enter number of terms: \"))\n",
    "first = 0\n",
    "second = 1\n",
    "for i in range(n):\n",
    "    print(first)\n",
    "    temp = first\n",
    "    first = second\n",
    "    second = temp + second\n",
    "    "
   ]
  },
  {
   "cell_type": "code",
   "execution_count": 168,
   "metadata": {},
   "outputs": [
    {
     "name": "stdout",
     "output_type": "stream",
     "text": [
      "Enter number of  rows: 5\n",
      "12345\n",
      "1234\n",
      "123\n",
      "12\n",
      "1\n"
     ]
    }
   ],
   "source": [
    "#number pattern\n",
    "n = int(input(\"Enter number of  rows: \"))\n",
    "for row in range(n,0,-1):\n",
    "    for col in range(1,row+1):\n",
    "        print(col,end='')\n",
    "    print()"
   ]
  },
  {
   "cell_type": "code",
   "execution_count": 169,
   "metadata": {},
   "outputs": [
    {
     "name": "stdout",
     "output_type": "stream",
     "text": [
      "Enter number of  rows: 5\n",
      "55555\n",
      "4444\n",
      "333\n",
      "22\n",
      "1\n"
     ]
    }
   ],
   "source": [
    "#number pattern\n",
    "n = int(input(\"Enter number of  rows: \"))\n",
    "for row in range(n,0,-1):\n",
    "    for col in range(1,row+1):\n",
    "        print(row,end='')\n",
    "    print()"
   ]
  },
  {
   "cell_type": "code",
   "execution_count": 172,
   "metadata": {},
   "outputs": [
    {
     "name": "stdout",
     "output_type": "stream",
     "text": [
      "Enter number: 1\n",
      "Not a prime\n"
     ]
    }
   ],
   "source": [
    "#prime numbers\n",
    "n = int(input(\"Enter number: \"))\n",
    "if n > 1:\n",
    "    for i in range(2,n):\n",
    "        if n%i==0:\n",
    "            print(\"Not a prime\")\n",
    "            break\n",
    "    else:\n",
    "        print(n,\"is prime\")\n",
    "else:\n",
    "    print(\"Not a prime\")"
   ]
  },
  {
   "cell_type": "code",
   "execution_count": 174,
   "metadata": {},
   "outputs": [
    {
     "name": "stdout",
     "output_type": "stream",
     "text": [
      "Enter lower range:5\n",
      "Enter higher range: 90\n",
      "5 is prime\n",
      "7 is prime\n",
      "11 is prime\n",
      "13 is prime\n",
      "17 is prime\n",
      "19 is prime\n",
      "23 is prime\n",
      "29 is prime\n",
      "31 is prime\n",
      "37 is prime\n",
      "41 is prime\n",
      "43 is prime\n",
      "47 is prime\n",
      "53 is prime\n",
      "59 is prime\n",
      "61 is prime\n",
      "67 is prime\n",
      "71 is prime\n",
      "73 is prime\n",
      "79 is prime\n",
      "83 is prime\n",
      "89 is prime\n"
     ]
    }
   ],
   "source": [
    "#prime number in range\n",
    "low = int(input(\"Enter lower range:\"))\n",
    "high = int(input(\"Enter higher range: \"))\n",
    "\n",
    "for i in range(low,high+1):\n",
    "    if i > 1:\n",
    "        for j in range(2,i):\n",
    "            if i%j==0:\n",
    "                break\n",
    "        else:\n",
    "            print(i,\"is prime\")\n",
    "    else:\n",
    "        print(\"Number should be greater than 1\")"
   ]
  },
  {
   "cell_type": "code",
   "execution_count": 185,
   "metadata": {},
   "outputs": [
    {
     "name": "stdout",
     "output_type": "stream",
     "text": [
      "Enter number of rows: 8\n",
      "       *       \n",
      "      * *      \n",
      "     *   *     \n",
      "    *     *    \n",
      "   *       *   \n",
      "  *         *  \n",
      " *           * \n",
      "***************\n"
     ]
    }
   ],
   "source": [
    "#equilateral Hollow Triangle\n",
    "n = int(input(\"Enter number of rows: \"))\n",
    "\n",
    "for row in range(1,n+1):\n",
    "    for col in range(1,2*n):\n",
    "        if row == n or row+col == n+1 or col-row == n-1:\n",
    "            print('*',end='')\n",
    "        else:\n",
    "            print(end = ' ')\n",
    "    print()"
   ]
  },
  {
   "cell_type": "code",
   "execution_count": 191,
   "metadata": {},
   "outputs": [
    {
     "name": "stdout",
     "output_type": "stream",
     "text": [
      "Enter number of rows: 4\n",
      "   *   \n",
      "  * *  \n",
      " *   * \n",
      "* * * *\n"
     ]
    }
   ],
   "source": [
    "#equilateral Hollow Triangle 2\n",
    "n = int(input(\"Enter number of rows: \"))\n",
    "k=2\n",
    "\n",
    "for row in range(1,n+1):\n",
    "    for col in range(1,2*n):\n",
    "        if row+col == n+1 or col-row == n-1:\n",
    "            print('*',end='')\n",
    "        elif row == n and col!=k:\n",
    "            print(\"*\",end=\"\")\n",
    "            k+=2\n",
    "        else:\n",
    "            print(end = ' ')\n",
    "    print()"
   ]
  },
  {
   "cell_type": "code",
   "execution_count": null,
   "metadata": {},
   "outputs": [],
   "source": []
  },
  {
   "cell_type": "code",
   "execution_count": null,
   "metadata": {},
   "outputs": [],
   "source": []
  },
  {
   "cell_type": "code",
   "execution_count": null,
   "metadata": {},
   "outputs": [],
   "source": []
  },
  {
   "cell_type": "code",
   "execution_count": 192,
   "metadata": {},
   "outputs": [],
   "source": [
    "#Basic Calculator Program"
   ]
  },
  {
   "cell_type": "code",
   "execution_count": 2,
   "metadata": {},
   "outputs": [
    {
     "name": "stdout",
     "output_type": "stream",
     "text": [
      "Please select from 1,2,3,4\n",
      "1. Add\n",
      "2. Subtract\n",
      "3. Multiplication\n",
      "4. Division\n",
      "\n",
      "Enter Number 1: 4\n",
      "Enter number 2: 5\n",
      "Enter the operation number: 5\n",
      "Invalid Input\n"
     ]
    }
   ],
   "source": [
    "import math\n",
    "\n",
    "#add\n",
    "def add(n1,n2):\n",
    "    return n1+n2\n",
    "\n",
    "#subtract\n",
    "def subtract(n1,n2):\n",
    "    return abs(n1-n2)\n",
    "\n",
    "#multiply\n",
    "def multiply(n1,n2):\n",
    "    return n1*n2\n",
    "\n",
    "#division\n",
    "def division(n1,n2):\n",
    "    return n1/n2\n",
    "\n",
    "\n",
    "print(\"Please select from 1,2,3,4\\n\"\\\n",
    "     \"1. Add\\n\"\\\n",
    "     \"2. Subtract\\n\"\\\n",
    "     \"3. Multiplication\\n\"\\\n",
    "     \"4. Division\\n\")\n",
    "\n",
    "n1 = int(input(\"Enter Number 1: \"))\n",
    "n2 = int(input(\"Enter number 2: \"))\n",
    "\n",
    "select = int(input(\"Enter the operation number: \"))\n",
    "\n",
    "if select > 4:\n",
    "    print(\"Invalid Input\")\n",
    "\n",
    "\n",
    "\n",
    "if select == 1:\n",
    "    print(n1, \"+\", n2,\"=\",add(n1,n2))\n",
    "    \n",
    "elif select == 2:\n",
    "    print(n1, \"-\", n2,\"=\",subtract(n1,n2))\n",
    "\n",
    "    \n",
    "elif select == 3:\n",
    "    print(n1, \"*\", n2,\"=\",multiply(n1,n2))\n",
    "    \n",
    "\n",
    "elif select == 4:\n",
    "    print(n1, \"/\", n2,\"=\",division(n1,n2))\n",
    "    \n",
    "    \n",
    "    \n"
   ]
  },
  {
   "cell_type": "code",
   "execution_count": null,
   "metadata": {},
   "outputs": [],
   "source": []
  },
  {
   "cell_type": "code",
   "execution_count": null,
   "metadata": {},
   "outputs": [],
   "source": []
  },
  {
   "cell_type": "code",
   "execution_count": null,
   "metadata": {},
   "outputs": [],
   "source": []
  }
 ],
 "metadata": {
  "kernelspec": {
   "display_name": "Python 3",
   "language": "python",
   "name": "python3"
  },
  "language_info": {
   "codemirror_mode": {
    "name": "ipython",
    "version": 3
   },
   "file_extension": ".py",
   "mimetype": "text/x-python",
   "name": "python",
   "nbconvert_exporter": "python",
   "pygments_lexer": "ipython3",
   "version": "3.6.5"
  }
 },
 "nbformat": 4,
 "nbformat_minor": 2
}
