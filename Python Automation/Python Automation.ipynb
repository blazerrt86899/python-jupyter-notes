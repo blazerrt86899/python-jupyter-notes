{
 "cells": [
  {
   "cell_type": "markdown",
   "metadata": {},
   "source": [
    "# Automate the boring stuff with PYTHON\n"
   ]
  },
  {
   "cell_type": "code",
   "execution_count": 541,
   "metadata": {},
   "outputs": [
    {
     "data": {
      "text/plain": [
       "5"
      ]
     },
     "execution_count": 541,
     "metadata": {},
     "output_type": "execute_result"
    }
   ],
   "source": [
    "2+3 "
   ]
  },
  {
   "cell_type": "code",
   "execution_count": 7,
   "metadata": {},
   "outputs": [
    {
     "name": "stdout",
     "output_type": "stream",
     "text": [
      "Hello World\n",
      "What is your name?\n",
      "Enter Name: Romu\n",
      "It is good to see you, Romu\n",
      "What is your age?\n",
      "Enter age: 34\n",
      "You will be 35 in a year\n",
      "Length of my name is: 4\n"
     ]
    }
   ],
   "source": [
    "#This program says hello world and prints age\n",
    "print('Hello World')\n",
    "print('What is your name?')\n",
    "myName = input('Enter Name: ')\n",
    "print('It is good to see you, ' + myName);\n",
    "print('What is your age?')\n",
    "myAge = input('Enter age: ')\n",
    "print('You will be '+ str(int(myAge)+1) + ' in a year')\n",
    "print('Length of my name is: '+str(len(myName)));"
   ]
  },
  {
   "cell_type": "code",
   "execution_count": 12,
   "metadata": {},
   "outputs": [
    {
     "name": "stdout",
     "output_type": "stream",
     "text": [
      "Enter your name\n",
      "ro\n",
      "Enter your name\n",
      "rom\n",
      "Enter your name\n",
      "romu\n",
      "Thank You!!!!!!!!!!\n"
     ]
    }
   ],
   "source": [
    "name=''\n",
    "while name!='romu':\n",
    "    print('Enter your name')\n",
    "    name = input()\n",
    "\n",
    "print('Thank You'+ '!'*10)"
   ]
  },
  {
   "cell_type": "code",
   "execution_count": 15,
   "metadata": {},
   "outputs": [
    {
     "name": "stdout",
     "output_type": "stream",
     "text": [
      "4\n",
      "5\n",
      "6\n",
      "7\n",
      "8\n",
      "9\n",
      "10\n",
      "Thank You\n"
     ]
    }
   ],
   "source": [
    "number = 0\n",
    "while number < 10:\n",
    "    number += 1\n",
    "    if number < 4:\n",
    "        continue\n",
    "    print(number)\n",
    "print('Thank You')"
   ]
  },
  {
   "cell_type": "code",
   "execution_count": 18,
   "metadata": {},
   "outputs": [
    {
     "name": "stdout",
     "output_type": "stream",
     "text": [
      "5050\n"
     ]
    }
   ],
   "source": [
    "total = 0\n",
    "for number in range(101):\n",
    "    total+=number\n",
    "print(total)"
   ]
  },
  {
   "cell_type": "code",
   "execution_count": 19,
   "metadata": {},
   "outputs": [
    {
     "name": "stdout",
     "output_type": "stream",
     "text": [
      "5050\n"
     ]
    }
   ],
   "source": [
    "total = 0\n",
    "number = 0\n",
    "while number < 101:\n",
    "    total += number\n",
    "    number+=1\n",
    "print(total)"
   ]
  },
  {
   "cell_type": "code",
   "execution_count": 20,
   "metadata": {},
   "outputs": [
    {
     "data": {
      "text/plain": [
       "[0, 1, 2, 3, 4, 5, 6, 7, 8, 9]"
      ]
     },
     "execution_count": 20,
     "metadata": {},
     "output_type": "execute_result"
    }
   ],
   "source": [
    "list(range(0,10))"
   ]
  },
  {
   "cell_type": "code",
   "execution_count": 21,
   "metadata": {},
   "outputs": [
    {
     "data": {
      "text/plain": [
       "range(9, 12)"
      ]
     },
     "execution_count": 21,
     "metadata": {},
     "output_type": "execute_result"
    }
   ],
   "source": [
    "range(9,12)"
   ]
  },
  {
   "cell_type": "code",
   "execution_count": 22,
   "metadata": {},
   "outputs": [
    {
     "data": {
      "text/plain": [
       "[0, 2, 4, 6, 8, 10, 12, 14, 16, 18]"
      ]
     },
     "execution_count": 22,
     "metadata": {},
     "output_type": "execute_result"
    }
   ],
   "source": [
    "list(range(0,20,2))"
   ]
  },
  {
   "cell_type": "code",
   "execution_count": 23,
   "metadata": {},
   "outputs": [
    {
     "data": {
      "text/plain": [
       "[]"
      ]
     },
     "execution_count": 23,
     "metadata": {},
     "output_type": "execute_result"
    }
   ],
   "source": [
    "list(range(0,20,-1))"
   ]
  },
  {
   "cell_type": "code",
   "execution_count": 24,
   "metadata": {},
   "outputs": [
    {
     "data": {
      "text/plain": [
       "[20, 19, 18, 17, 16, 15, 14, 13, 12, 11, 10, 9, 8, 7, 6, 5, 4, 3, 2, 1]"
      ]
     },
     "execution_count": 24,
     "metadata": {},
     "output_type": "execute_result"
    }
   ],
   "source": [
    "list(range(20,0,-1))"
   ]
  },
  {
   "cell_type": "code",
   "execution_count": 27,
   "metadata": {},
   "outputs": [
    {
     "data": {
      "text/plain": [
       "[-5, -4, -3, -2, -1, 0, 1, 2, 3, 4, 5]"
      ]
     },
     "execution_count": 27,
     "metadata": {},
     "output_type": "execute_result"
    }
   ],
   "source": [
    "list(range(-5,0,1)) + list(range(0,6))"
   ]
  },
  {
   "cell_type": "code",
   "execution_count": 26,
   "metadata": {},
   "outputs": [
    {
     "data": {
      "text/plain": [
       "[0, 1, 1, 1, 2]"
      ]
     },
     "execution_count": 26,
     "metadata": {},
     "output_type": "execute_result"
    }
   ],
   "source": [
    "[0,1,1] + [1,2]"
   ]
  },
  {
   "cell_type": "code",
   "execution_count": 28,
   "metadata": {},
   "outputs": [
    {
     "name": "stdout",
     "output_type": "stream",
     "text": [
      "8\n",
      "10\n",
      "3\n",
      "6\n",
      "7\n",
      "8\n"
     ]
    }
   ],
   "source": [
    "import random as rd\n",
    "\n",
    "i=0\n",
    "while i < 6:\n",
    "    print(rd.randint(1,10))\n",
    "    i+=1"
   ]
  },
  {
   "cell_type": "code",
   "execution_count": 29,
   "metadata": {},
   "outputs": [
    {
     "name": "stdout",
     "output_type": "stream",
     "text": [
      "Hello Romu\n",
      "Hello Abhishek\n"
     ]
    }
   ],
   "source": [
    "def hello(name):\n",
    "    print('Hello '+name)\n",
    "\n",
    "hello('Romu')\n",
    "hello('Abhishek')"
   ]
  },
  {
   "cell_type": "code",
   "execution_count": 30,
   "metadata": {},
   "outputs": [
    {
     "name": "stdout",
     "output_type": "stream",
     "text": [
      "24\n"
     ]
    }
   ],
   "source": [
    "def addOne(number):\n",
    "    return number + 1\n",
    "\n",
    "newNumber = addOne(23)\n",
    "print(newNumber)"
   ]
  },
  {
   "cell_type": "code",
   "execution_count": 31,
   "metadata": {},
   "outputs": [
    {
     "name": "stdout",
     "output_type": "stream",
     "text": [
      "\n"
     ]
    }
   ],
   "source": [
    "spam = print()"
   ]
  },
  {
   "cell_type": "code",
   "execution_count": 32,
   "metadata": {},
   "outputs": [
    {
     "data": {
      "text/plain": [
       "True"
      ]
     },
     "execution_count": 32,
     "metadata": {},
     "output_type": "execute_result"
    }
   ],
   "source": [
    "spam == None"
   ]
  },
  {
   "cell_type": "code",
   "execution_count": 36,
   "metadata": {},
   "outputs": [
    {
     "name": "stdout",
     "output_type": "stream",
     "text": [
      "42\n",
      "26\n"
     ]
    }
   ],
   "source": [
    "spam = 42\n",
    "def spamEggs():\n",
    "    spam = 26\n",
    "    print(spam)\n",
    "\n",
    "print(spam)\n",
    "spamEggs()"
   ]
  },
  {
   "cell_type": "code",
   "execution_count": 40,
   "metadata": {},
   "outputs": [
    {
     "name": "stdout",
     "output_type": "stream",
     "text": [
      "How many cats do you have?\n",
      "wqw\n",
      "You did not enter a number.\n"
     ]
    }
   ],
   "source": [
    "print('How many cats do you have?')\n",
    "numberOfCats = input()\n",
    "try:\n",
    "    if int(numberOfCats) >= 3:\n",
    "        print('There are many cats.')\n",
    "    else:\n",
    "        print('Add more cats.')\n",
    "except:\n",
    "    print('You did not enter a number.')"
   ]
  },
  {
   "cell_type": "code",
   "execution_count": 542,
   "metadata": {},
   "outputs": [
    {
     "name": "stdout",
     "output_type": "stream",
     "text": [
      "Welcome to Guess the number Game..........!!!!\n",
      "Hello, Enter your name: \n",
      "Abhishek\n",
      "Well, Abhishek I am thinking of a number between 1 and 20\n",
      "Take a guess!!!!!!!!!!\n",
      "15\n",
      "You have guess it too high !!!!!!\n",
      "Take a guess!!!!!!!!!!\n",
      "10\n",
      "You have guessed it too low !!!!!!\n",
      "Take a guess!!!!!!!!!!\n",
      "13\n",
      "You have guess it too high !!!!!!\n",
      "Take a guess!!!!!!!!!!\n",
      "12\n",
      "Good job, Abhishek. You have guessed the number in 4 times.\n"
     ]
    }
   ],
   "source": [
    "## Guess the Number Game\n",
    "\n",
    "import random\n",
    "print('Welcome to Guess the number Game..........!!!!')\n",
    "print('Hello, Enter your name: ')\n",
    "name = input()\n",
    "guessingNumber = random.randint(1,20)\n",
    "print('Well, '+name+' I am thinking of a number between 1 and 20')\n",
    "\n",
    "# the person should guess for 6 times only\n",
    "for guessTaken in range(1,7):\n",
    "    print('Take a guess'+'!'*10)\n",
    "    guess = int(input())\n",
    "    \n",
    "    if guess > guessingNumber:\n",
    "        print('You have guess it too high !!!!!!')\n",
    "    elif guess < guessingNumber:\n",
    "        print('You have guessed it too low !!!!!!')\n",
    "    else:\n",
    "        break\n",
    "\n",
    "if guess == guessingNumber:\n",
    "    print('Good job, '+name+'. You have guessed the number in '+str(guessTaken)+' times.')\n",
    "else:\n",
    "    print('Nope, number i was thinking is'+str(guessingNumber))"
   ]
  },
  {
   "cell_type": "code",
   "execution_count": 46,
   "metadata": {},
   "outputs": [],
   "source": [
    "## Lists ##\n",
    "animals = ['cat','rat', 10,20,40.0]\n"
   ]
  },
  {
   "cell_type": "code",
   "execution_count": 47,
   "metadata": {},
   "outputs": [
    {
     "data": {
      "text/plain": [
       "[10, 20, 40.0]"
      ]
     },
     "execution_count": 47,
     "metadata": {},
     "output_type": "execute_result"
    }
   ],
   "source": [
    "animals[2:]"
   ]
  },
  {
   "cell_type": "code",
   "execution_count": 49,
   "metadata": {},
   "outputs": [],
   "source": [
    "del animals[:2]"
   ]
  },
  {
   "cell_type": "code",
   "execution_count": 50,
   "metadata": {},
   "outputs": [
    {
     "data": {
      "text/plain": [
       "[10, 20, 40.0]"
      ]
     },
     "execution_count": 50,
     "metadata": {},
     "output_type": "execute_result"
    }
   ],
   "source": [
    "animals"
   ]
  },
  {
   "cell_type": "code",
   "execution_count": 57,
   "metadata": {},
   "outputs": [
    {
     "data": {
      "text/plain": [
       "[10, 20, 40.0]"
      ]
     },
     "execution_count": 57,
     "metadata": {},
     "output_type": "execute_result"
    }
   ],
   "source": [
    "animals\n"
   ]
  },
  {
   "cell_type": "code",
   "execution_count": 58,
   "metadata": {},
   "outputs": [
    {
     "data": {
      "text/plain": [
       "['2', '4']"
      ]
     },
     "execution_count": 58,
     "metadata": {},
     "output_type": "execute_result"
    }
   ],
   "source": [
    "list('24')"
   ]
  },
  {
   "cell_type": "code",
   "execution_count": 59,
   "metadata": {},
   "outputs": [
    {
     "data": {
      "text/plain": [
       "['2', '4']"
      ]
     },
     "execution_count": 59,
     "metadata": {},
     "output_type": "execute_result"
    }
   ],
   "source": [
    "list(\"24\")"
   ]
  },
  {
   "cell_type": "code",
   "execution_count": 60,
   "metadata": {},
   "outputs": [
    {
     "ename": "TypeError",
     "evalue": "list() takes at most 1 argument (2 given)",
     "output_type": "error",
     "traceback": [
      "\u001b[1;31m---------------------------------------------------------------------------\u001b[0m",
      "\u001b[1;31mTypeError\u001b[0m                                 Traceback (most recent call last)",
      "\u001b[1;32m<ipython-input-60-0e494b03bb6e>\u001b[0m in \u001b[0;36m<module>\u001b[1;34m()\u001b[0m\n\u001b[1;32m----> 1\u001b[1;33m list(2,323\n\u001b[0m\u001b[0;32m      2\u001b[0m     )\n",
      "\u001b[1;31mTypeError\u001b[0m: list() takes at most 1 argument (2 given)"
     ]
    }
   ],
   "source": [
    "list(2,323)"
   ]
  },
  {
   "cell_type": "code",
   "execution_count": 61,
   "metadata": {},
   "outputs": [
    {
     "ename": "TypeError",
     "evalue": "'int' object is not iterable",
     "output_type": "error",
     "traceback": [
      "\u001b[1;31m---------------------------------------------------------------------------\u001b[0m",
      "\u001b[1;31mTypeError\u001b[0m                                 Traceback (most recent call last)",
      "\u001b[1;32m<ipython-input-61-1f30dcb8960d>\u001b[0m in \u001b[0;36m<module>\u001b[1;34m()\u001b[0m\n\u001b[1;32m----> 1\u001b[1;33m list(3\n\u001b[0m\u001b[0;32m      2\u001b[0m     )\n",
      "\u001b[1;31mTypeError\u001b[0m: 'int' object is not iterable"
     ]
    }
   ],
   "source": [
    "list(3\n",
    "    )"
   ]
  },
  {
   "cell_type": "code",
   "execution_count": 62,
   "metadata": {},
   "outputs": [
    {
     "data": {
      "text/plain": [
       "['2', '3', '2', '4', 'a', 'f', '2', '3', '2']"
      ]
     },
     "execution_count": 62,
     "metadata": {},
     "output_type": "execute_result"
    }
   ],
   "source": [
    "list(\"2324af232\")"
   ]
  },
  {
   "cell_type": "code",
   "execution_count": 63,
   "metadata": {},
   "outputs": [],
   "source": [
    "spam = [2,3,8,-1,2,0]\n",
    "spam.sort()"
   ]
  },
  {
   "cell_type": "code",
   "execution_count": 64,
   "metadata": {},
   "outputs": [
    {
     "data": {
      "text/plain": [
       "[-1, 0, 2, 2, 3, 8]"
      ]
     },
     "execution_count": 64,
     "metadata": {},
     "output_type": "execute_result"
    }
   ],
   "source": [
    "spam\n"
   ]
  },
  {
   "cell_type": "code",
   "execution_count": 65,
   "metadata": {},
   "outputs": [
    {
     "name": "stdout",
     "output_type": "stream",
     "text": [
      "[1, 2, 3, 4, 'Hiiieee']\n"
     ]
    }
   ],
   "source": [
    " def neweggs(aList):\n",
    "        aList.append('Hiiieee')\n",
    "        return aList\n",
    "spam = [1,2,3,4]\n",
    "neweggs(spam)\n",
    "\n",
    "print(spam)"
   ]
  },
  {
   "cell_type": "code",
   "execution_count": 66,
   "metadata": {},
   "outputs": [
    {
     "data": {
      "text/plain": [
       "'big'"
      ]
     },
     "execution_count": 66,
     "metadata": {},
     "output_type": "execute_result"
    }
   ],
   "source": [
    "## Dictionaries\n",
    "\n",
    "myCat = {'size':'big','color':'grey','disposition':'loud'}\n",
    "myCat['size']"
   ]
  },
  {
   "cell_type": "code",
   "execution_count": 68,
   "metadata": {},
   "outputs": [
    {
     "data": {
      "text/plain": [
       "'My cat has grey fur'"
      ]
     },
     "execution_count": 68,
     "metadata": {},
     "output_type": "execute_result"
    }
   ],
   "source": [
    "'My cat has '+myCat['color']+ ' fur'"
   ]
  },
  {
   "cell_type": "code",
   "execution_count": 74,
   "metadata": {},
   "outputs": [
    {
     "name": "stdout",
     "output_type": "stream",
     "text": [
      "{'T': 2, 'H': 2, 'E': 3, ' ': 8, 'Q': 1, 'U': 2, 'I': 1, 'C': 1, 'K': 1, 'B': 1, 'R': 2, 'O': 4, 'W': 1, 'N': 1, 'F': 1, 'X': 1, 'J': 1, 'M': 1, 'P': 1, 'S': 1, 'V': 1, 'L': 1, 'A': 1, 'Z': 1, 'Y': 1, 'D': 1, 'G': 1}\n"
     ]
    }
   ],
   "source": [
    "## Character Count Program\n",
    "message = 'The quick brown fox jumps over the lazy dog'\n",
    "count = {}\n",
    "for character in message.upper():\n",
    "    count.setdefault(character,0)\n",
    "    count[character] += 1\n",
    "\n",
    "print(count)"
   ]
  },
  {
   "cell_type": "code",
   "execution_count": 73,
   "metadata": {},
   "outputs": [
    {
     "name": "stdout",
     "output_type": "stream",
     "text": [
      "{'\\n': 4,\n",
      " ' ': 51,\n",
      " ',': 2,\n",
      " '-': 1,\n",
      " '.': 4,\n",
      " '/': 1,\n",
      " 'a': 14,\n",
      " 'b': 7,\n",
      " 'c': 8,\n",
      " 'd': 5,\n",
      " 'e': 38,\n",
      " 'f': 4,\n",
      " 'g': 8,\n",
      " 'h': 11,\n",
      " 'i': 18,\n",
      " 'j': 3,\n",
      " 'k': 4,\n",
      " 'l': 8,\n",
      " 'm': 5,\n",
      " 'n': 17,\n",
      " 'o': 27,\n",
      " 'p': 4,\n",
      " 'r': 18,\n",
      " 's': 15,\n",
      " 't': 25,\n",
      " 'u': 9,\n",
      " 'v': 2,\n",
      " 'w': 9,\n",
      " 'y': 7}\n"
     ]
    }
   ],
   "source": [
    "## Character Count Level 2\n",
    "import pprint\n",
    "\n",
    "text = '''The Project Gutenberg EBook of Romeo and Juliet, by William Shakespeare\n",
    "This eBook is for the use of anyone anywhere at no cost and with\n",
    "almost no restrictions whatsoever.  You may copy it, give it away or\n",
    "re-use it under the terms of the Project Gutenberg License included\n",
    "with this eBook or online at www.gutenberg.org/license.'''\n",
    "\n",
    "count = {}\n",
    "\n",
    "for character in text.lower():\n",
    "    count.setdefault(character,0)\n",
    "    count[character] += 1\n",
    "\n",
    "pprint.pprint(count)"
   ]
  },
  {
   "cell_type": "code",
   "execution_count": 77,
   "metadata": {},
   "outputs": [
    {
     "name": "stdout",
     "output_type": "stream",
     "text": [
      "[{'name': 'BasketBall', 'size': 7, 'color': 'reddish-orange'}, {'name': 'Football', 'size': 7, 'color': 'white-black'}]\n"
     ]
    }
   ],
   "source": [
    "##Data Structures\n",
    "\n",
    "allGames = []\n",
    "allGames.append({'name':'BasketBall','size':7,'color':'reddish-orange'})\n",
    "allGames.append({'name':'Football','size':7,'color':'white-black'})\n",
    "print(allGames)"
   ]
  },
  {
   "cell_type": "code",
   "execution_count": 78,
   "metadata": {},
   "outputs": [
    {
     "ename": "AttributeError",
     "evalue": "'list' object has no attribute 'keys'",
     "output_type": "error",
     "traceback": [
      "\u001b[1;31m---------------------------------------------------------------------------\u001b[0m",
      "\u001b[1;31mAttributeError\u001b[0m                            Traceback (most recent call last)",
      "\u001b[1;32m<ipython-input-78-ef44cbe4ef8b>\u001b[0m in \u001b[0;36m<module>\u001b[1;34m()\u001b[0m\n\u001b[1;32m----> 1\u001b[1;33m \u001b[0mallGames\u001b[0m\u001b[1;33m.\u001b[0m\u001b[0mkeys\u001b[0m\u001b[1;33m(\u001b[0m\u001b[1;33m)\u001b[0m\u001b[1;33m\u001b[0m\u001b[0m\n\u001b[0m",
      "\u001b[1;31mAttributeError\u001b[0m: 'list' object has no attribute 'keys'"
     ]
    }
   ],
   "source": [
    "allGames.keys()"
   ]
  },
  {
   "cell_type": "code",
   "execution_count": 85,
   "metadata": {},
   "outputs": [
    {
     "data": {
      "text/plain": [
       "['name', 'size', 'color']"
      ]
     },
     "execution_count": 85,
     "metadata": {},
     "output_type": "execute_result"
    }
   ],
   "source": [
    "list(allGames[0].keys())"
   ]
  },
  {
   "cell_type": "code",
   "execution_count": 87,
   "metadata": {},
   "outputs": [
    {
     "name": "stdout",
     "output_type": "stream",
     "text": [
      "name BasketBall\n",
      "size 7\n",
      "color reddish-orange\n"
     ]
    }
   ],
   "source": [
    "for k,v in allGames[0].items():\n",
    "    print(k,v)"
   ]
  },
  {
   "cell_type": "code",
   "execution_count": 88,
   "metadata": {},
   "outputs": [],
   "source": [
    "## TIC TAC TOE "
   ]
  },
  {
   "cell_type": "code",
   "execution_count": 90,
   "metadata": {},
   "outputs": [],
   "source": [
    "theBoard = {'low-L':' ','mid-L':' ','top-L':' ',\n",
    "           'low-M':' ','mid-M':' ','top-M':' ',\n",
    "           'low-R':' ','mid-R':' ','top-R':' '}"
   ]
  },
  {
   "cell_type": "code",
   "execution_count": 91,
   "metadata": {},
   "outputs": [
    {
     "name": "stdout",
     "output_type": "stream",
     "text": [
      "{'low-L': ' ',\n",
      " 'low-M': ' ',\n",
      " 'low-R': ' ',\n",
      " 'mid-L': ' ',\n",
      " 'mid-M': ' ',\n",
      " 'mid-R': ' ',\n",
      " 'top-L': ' ',\n",
      " 'top-M': ' ',\n",
      " 'top-R': ' '}\n"
     ]
    }
   ],
   "source": [
    "pprint.pprint(theBoard)"
   ]
  },
  {
   "cell_type": "code",
   "execution_count": 94,
   "metadata": {},
   "outputs": [],
   "source": [
    "theBoard['low-L'] = ' '"
   ]
  },
  {
   "cell_type": "code",
   "execution_count": 95,
   "metadata": {},
   "outputs": [
    {
     "name": "stdout",
     "output_type": "stream",
     "text": [
      "{'low-L': ' ',\n",
      " 'low-M': ' ',\n",
      " 'low-R': ' ',\n",
      " 'mid-L': ' ',\n",
      " 'mid-M': ' ',\n",
      " 'mid-R': ' ',\n",
      " 'top-L': ' ',\n",
      " 'top-M': ' ',\n",
      " 'top-R': ' '}\n"
     ]
    }
   ],
   "source": [
    "pprint.pprint(theBoard)"
   ]
  },
  {
   "cell_type": "code",
   "execution_count": 104,
   "metadata": {},
   "outputs": [],
   "source": [
    "def printBoard(board):\n",
    "    print(board['top-L'] + '|' + board['top-M'] + '|' + board['top-R'])\n",
    "    print('-----')\n",
    "    print(board['mid-L'] + '|' + board['mid-M'] + '|' + board['mid-R'])\n",
    "    print('-----')\n",
    "    print(board['low-L'] + '|' + board['low-M'] + '|' + board['low-R'])"
   ]
  },
  {
   "cell_type": "code",
   "execution_count": 111,
   "metadata": {},
   "outputs": [
    {
     "name": "stdout",
     "output_type": "stream",
     "text": [
      " | | \n",
      "-----\n",
      " | | \n",
      "-----\n",
      " | | \n"
     ]
    }
   ],
   "source": [
    "printBoard(theBoard)"
   ]
  },
  {
   "cell_type": "code",
   "execution_count": 110,
   "metadata": {},
   "outputs": [],
   "source": [
    "theBoard['mid-M'] = ' '"
   ]
  },
  {
   "cell_type": "code",
   "execution_count": 112,
   "metadata": {},
   "outputs": [
    {
     "data": {
      "text/plain": [
       "dict"
      ]
     },
     "execution_count": 112,
     "metadata": {},
     "output_type": "execute_result"
    }
   ],
   "source": [
    "type(theBoard)"
   ]
  },
  {
   "cell_type": "code",
   "execution_count": 113,
   "metadata": {},
   "outputs": [],
   "source": [
    "## More about Strings"
   ]
  },
  {
   "cell_type": "code",
   "execution_count": 114,
   "metadata": {},
   "outputs": [
    {
     "name": "stdout",
     "output_type": "stream",
     "text": [
      "Say hii to Bob's mother\n"
     ]
    }
   ],
   "source": [
    "print('Say hii to Bob\\'s mother')"
   ]
  },
  {
   "cell_type": "code",
   "execution_count": 115,
   "metadata": {},
   "outputs": [
    {
     "name": "stdout",
     "output_type": "stream",
     "text": [
      "Hello there!\n",
      "How r u?\n",
      "Good\n"
     ]
    }
   ],
   "source": [
    "print('Hello there!\\nHow r u?\\nGood')"
   ]
  },
  {
   "cell_type": "code",
   "execution_count": 118,
   "metadata": {},
   "outputs": [
    {
     "data": {
      "text/plain": [
       "['H', 'E', 'L', 'L', 'O']"
      ]
     },
     "execution_count": 118,
     "metadata": {},
     "output_type": "execute_result"
    }
   ],
   "source": [
    "list('Hello'.upper())"
   ]
  },
  {
   "cell_type": "code",
   "execution_count": 122,
   "metadata": {},
   "outputs": [
    {
     "data": {
      "text/plain": [
       "['HELLO', 'WORLD!', 'HEY', 'THERE']"
      ]
     },
     "execution_count": 122,
     "metadata": {},
     "output_type": "execute_result"
    }
   ],
   "source": [
    "list('hello world! Hey There'.upper().split(' '))"
   ]
  },
  {
   "cell_type": "code",
   "execution_count": 123,
   "metadata": {},
   "outputs": [
    {
     "data": {
      "text/plain": [
       "'Hello'"
      ]
     },
     "execution_count": 123,
     "metadata": {},
     "output_type": "execute_result"
    }
   ],
   "source": [
    "'hello'.title()"
   ]
  },
  {
   "cell_type": "code",
   "execution_count": 124,
   "metadata": {},
   "outputs": [
    {
     "data": {
      "text/plain": [
       "'Abhisexa'"
      ]
     },
     "execution_count": 124,
     "metadata": {},
     "output_type": "execute_result"
    }
   ],
   "source": [
    "'abhisexa'.title()"
   ]
  },
  {
   "cell_type": "code",
   "execution_count": 131,
   "metadata": {},
   "outputs": [
    {
     "data": {
      "text/plain": [
       "'1234'"
      ]
     },
     "execution_count": 131,
     "metadata": {},
     "output_type": "execute_result"
    }
   ],
   "source": [
    "''.join(['1','2','3','4'])"
   ]
  },
  {
   "cell_type": "markdown",
   "metadata": {},
   "source": [
    "Join\n",
    "\n"
   ]
  },
  {
   "cell_type": "code",
   "execution_count": 130,
   "metadata": {},
   "outputs": [
    {
     "data": {
      "text/plain": [
       "['r', 'o', 'm', 'u']"
      ]
     },
     "execution_count": 130,
     "metadata": {},
     "output_type": "execute_result"
    }
   ],
   "source": [
    "list('romu')"
   ]
  },
  {
   "cell_type": "code",
   "execution_count": 132,
   "metadata": {},
   "outputs": [
    {
     "data": {
      "text/plain": [
       "'1\\n2\\n3\\n4'"
      ]
     },
     "execution_count": 132,
     "metadata": {},
     "output_type": "execute_result"
    }
   ],
   "source": [
    "'\\n'.join(['1','2','3','4'])"
   ]
  },
  {
   "cell_type": "code",
   "execution_count": 133,
   "metadata": {},
   "outputs": [
    {
     "name": "stdout",
     "output_type": "stream",
     "text": [
      "1\n",
      "2\n",
      "3\n",
      "4\n"
     ]
    }
   ],
   "source": [
    "print('\\n'.join(['1','2','3','4']))"
   ]
  },
  {
   "cell_type": "code",
   "execution_count": 135,
   "metadata": {},
   "outputs": [],
   "source": [
    "newList = list('My name is Abhishek Srivastava'.split(' '))"
   ]
  },
  {
   "cell_type": "code",
   "execution_count": 136,
   "metadata": {},
   "outputs": [
    {
     "data": {
      "text/plain": [
       "'MynameisAbhishekSrivastava'"
      ]
     },
     "execution_count": 136,
     "metadata": {},
     "output_type": "execute_result"
    }
   ],
   "source": [
    "''.join(newList)"
   ]
  },
  {
   "cell_type": "code",
   "execution_count": 138,
   "metadata": {},
   "outputs": [],
   "source": [
    "spam = 'hello'.rjust(20,'*') "
   ]
  },
  {
   "cell_type": "code",
   "execution_count": 139,
   "metadata": {},
   "outputs": [
    {
     "data": {
      "text/plain": [
       "'***************hello'"
      ]
     },
     "execution_count": 139,
     "metadata": {},
     "output_type": "execute_result"
    }
   ],
   "source": [
    "spam.ljust(20,'-')"
   ]
  },
  {
   "cell_type": "code",
   "execution_count": 140,
   "metadata": {},
   "outputs": [
    {
     "data": {
      "text/plain": [
       "'hello--------------------'"
      ]
     },
     "execution_count": 140,
     "metadata": {},
     "output_type": "execute_result"
    }
   ],
   "source": [
    "'hello'.ljust(25,'-')"
   ]
  },
  {
   "cell_type": "code",
   "execution_count": 141,
   "metadata": {},
   "outputs": [
    {
     "data": {
      "text/plain": [
       "'**********Hello**********'"
      ]
     },
     "execution_count": 141,
     "metadata": {},
     "output_type": "execute_result"
    }
   ],
   "source": [
    "'Hello'.center(25,'*')"
   ]
  },
  {
   "cell_type": "code",
   "execution_count": 142,
   "metadata": {},
   "outputs": [],
   "source": [
    "spam = 'Hello'.center(25,'*')"
   ]
  },
  {
   "cell_type": "code",
   "execution_count": 144,
   "metadata": {},
   "outputs": [
    {
     "data": {
      "text/plain": [
       "'l'"
      ]
     },
     "execution_count": 144,
     "metadata": {},
     "output_type": "execute_result"
    }
   ],
   "source": [
    "spam.strip('*')[2]"
   ]
  },
  {
   "cell_type": "code",
   "execution_count": 145,
   "metadata": {},
   "outputs": [],
   "source": [
    "##Regular Expression \n",
    "\n",
    "#Phone number Validation w/0 Regex\n",
    "def isPhoneNumber(text):\n",
    "    if len(text) != 12:\n",
    "        return False # phone number size\n",
    "    for i in range(0,3):\n",
    "        if not text[i].isdecimal():\n",
    "            return False # Area code \n",
    "    if text[3] != '-':\n",
    "        return False # dash missing\n",
    "    for i in range(4,7):\n",
    "        if not text[i].isdecimal():\n",
    "            return False # no first three digits\n",
    "    if text[7] != '-':\n",
    "        return False # missing dash\n",
    "    for i in range(8,12):\n",
    "        if not text[i].isdecimal():\n",
    "            return False #rest of digits\n",
    "    \n",
    "    return True"
   ]
  },
  {
   "cell_type": "code",
   "execution_count": 147,
   "metadata": {},
   "outputs": [
    {
     "name": "stdout",
     "output_type": "stream",
     "text": [
      "False\n"
     ]
    }
   ],
   "source": [
    "print(isPhoneNumber('hii'))"
   ]
  },
  {
   "cell_type": "code",
   "execution_count": 149,
   "metadata": {},
   "outputs": [
    {
     "name": "stdout",
     "output_type": "stream",
     "text": [
      "Phone Number Found:415-445-3343\n",
      "Phone Number Found:445-433-4343\n"
     ]
    }
   ],
   "source": [
    "## Application check\n",
    "message = 'Call me at 415-445-3343 for home or at 445-433-4343 for office'\n",
    "foundNumber = False\n",
    "for i in range(len(message)):\n",
    "    messageChunk = message[i:i+12]\n",
    "    if isPhoneNumber(messageChunk):\n",
    "        print('Phone Number Found:'+messageChunk)\n",
    "        foundNumber = True\n",
    "if not foundNumber:\n",
    "    print('Could not found any phone number.')"
   ]
  },
  {
   "cell_type": "code",
   "execution_count": 161,
   "metadata": {},
   "outputs": [
    {
     "name": "stdout",
     "output_type": "stream",
     "text": [
      "415-445-3343\n",
      "[('415', '445-3343'), ('445', '433-4343')]\n",
      "('445', '433-4343')\n",
      "415\n",
      "445-3343\n"
     ]
    }
   ],
   "source": [
    "#Phone number Validation with Regex\n",
    "import re\n",
    "message = 'Call me at 415-445-3343 for home or at 445-433-4343 for office'\n",
    "phoneNumberRegex = re.compile(r'(\\d\\d\\d)-(\\d\\d\\d-\\d\\d\\d\\d)')\n",
    "matchObject = phoneNumberRegex.search(message)\n",
    "matchObjectAll = phoneNumberRegex.findall(message)\n",
    "print(matchObject.group())\n",
    "print(matchObjectAll)\n",
    "#print(matchObjectAll[1])\n",
    "\n",
    "#print group based on parenthesis\n",
    "print(matchObject.group(1))\n",
    "print(matchObject.group(2))"
   ]
  },
  {
   "cell_type": "code",
   "execution_count": 167,
   "metadata": {},
   "outputs": [
    {
     "name": "stdout",
     "output_type": "stream",
     "text": [
      "['man', 'copter', 'mobile']\n"
     ]
    }
   ],
   "source": [
    "## Using Pipe Character\n",
    "batRegex = re.compile(r'Bat(man|mobile|copter)')\n",
    "mo = batRegex.findall('Batman lost a Batcopter wheel and Batmobile')\n",
    "print(mo)"
   ]
  },
  {
   "cell_type": "code",
   "execution_count": 168,
   "metadata": {},
   "outputs": [],
   "source": [
    "## Manipulating Files"
   ]
  },
  {
   "cell_type": "code",
   "execution_count": 170,
   "metadata": {},
   "outputs": [
    {
     "data": {
      "text/plain": [
       "'c:\\\\folder1\\\\spam.png'"
      ]
     },
     "execution_count": 170,
     "metadata": {},
     "output_type": "execute_result"
    }
   ],
   "source": [
    "import os\n",
    "os.path.join('c:\\\\folder1','spam.png')"
   ]
  },
  {
   "cell_type": "code",
   "execution_count": 178,
   "metadata": {},
   "outputs": [
    {
     "data": {
      "text/plain": [
       "'C:\\\\Users\\\\ROMU\\\\Desktop\\\\Project ECHO\\\\Udemy\\\\Python\\\\Python Automation'"
      ]
     },
     "execution_count": 178,
     "metadata": {},
     "output_type": "execute_result"
    }
   ],
   "source": [
    "os.getcwd()"
   ]
  },
  {
   "cell_type": "code",
   "execution_count": 177,
   "metadata": {},
   "outputs": [],
   "source": [
    "os.chdir('C:\\\\Users\\\\ROMU\\\\Desktop\\\\Project ECHO\\\\Udemy\\\\Python\\\\Python Automation')"
   ]
  },
  {
   "cell_type": "code",
   "execution_count": 180,
   "metadata": {},
   "outputs": [
    {
     "name": "stdout",
     "output_type": "stream",
     "text": [
      "C:\\Users\\ROMU\\Desktop\\Project ECHO\\Udemy\\Python\\Python Automation\n"
     ]
    }
   ],
   "source": [
    "print(os.getcwd())"
   ]
  },
  {
   "cell_type": "code",
   "execution_count": 181,
   "metadata": {},
   "outputs": [
    {
     "data": {
      "text/plain": [
       "'C:\\\\Users\\\\ROMU\\\\Desktop\\\\Project ECHO\\\\Udemy\\\\Python\\\\Python Automation\\\\spam.png'"
      ]
     },
     "execution_count": 181,
     "metadata": {},
     "output_type": "execute_result"
    }
   ],
   "source": [
    "os.path.abspath('spam.png')"
   ]
  },
  {
   "cell_type": "code",
   "execution_count": 182,
   "metadata": {},
   "outputs": [
    {
     "data": {
      "text/plain": [
       "'folder2\\\\spam.png'"
      ]
     },
     "execution_count": 182,
     "metadata": {},
     "output_type": "execute_result"
    }
   ],
   "source": [
    "os.path.relpath('c:\\\\folder1\\\\folder2\\\\spam.png','c:\\\\folder1')"
   ]
  },
  {
   "cell_type": "code",
   "execution_count": 183,
   "metadata": {},
   "outputs": [
    {
     "data": {
      "text/plain": [
       "'c:\\\\folder1'"
      ]
     },
     "execution_count": 183,
     "metadata": {},
     "output_type": "execute_result"
    }
   ],
   "source": [
    "os.path.dirname('c:\\\\folder1\\\\spam.png')"
   ]
  },
  {
   "cell_type": "code",
   "execution_count": 184,
   "metadata": {},
   "outputs": [
    {
     "data": {
      "text/plain": [
       "'spam.png'"
      ]
     },
     "execution_count": 184,
     "metadata": {},
     "output_type": "execute_result"
    }
   ],
   "source": [
    "os.path.basename('c\\\\folder1\\\\spam.png')"
   ]
  },
  {
   "cell_type": "code",
   "execution_count": 185,
   "metadata": {},
   "outputs": [
    {
     "data": {
      "text/plain": [
       "True"
      ]
     },
     "execution_count": 185,
     "metadata": {},
     "output_type": "execute_result"
    }
   ],
   "source": [
    "os.path.exists('C:\\\\Users\\\\ROMU\\\\Desktop\\\\Project ECHO\\\\Udemy\\\\Python\\\\Python Automation\\\\Python Automation.ipynb')"
   ]
  },
  {
   "cell_type": "code",
   "execution_count": 186,
   "metadata": {},
   "outputs": [
    {
     "data": {
      "text/plain": [
       "True"
      ]
     },
     "execution_count": 186,
     "metadata": {},
     "output_type": "execute_result"
    }
   ],
   "source": [
    "os.path.isfile('C:\\\\Users\\\\ROMU\\\\Desktop\\\\Project ECHO\\\\Udemy\\\\Python\\\\Python Automation\\\\Python Automation.ipynb')"
   ]
  },
  {
   "cell_type": "code",
   "execution_count": 187,
   "metadata": {},
   "outputs": [
    {
     "data": {
      "text/plain": [
       "False"
      ]
     },
     "execution_count": 187,
     "metadata": {},
     "output_type": "execute_result"
    }
   ],
   "source": [
    "os.path.isfile('C:\\\\Users\\\\ROMU\\\\Desktop\\\\Project ECHO\\\\Udemy\\\\Python\\\\Python Automation')"
   ]
  },
  {
   "cell_type": "code",
   "execution_count": 188,
   "metadata": {},
   "outputs": [
    {
     "data": {
      "text/plain": [
       "35511"
      ]
     },
     "execution_count": 188,
     "metadata": {},
     "output_type": "execute_result"
    }
   ],
   "source": [
    "os.path.getsize('C:\\\\Users\\\\ROMU\\\\Desktop\\\\Project ECHO\\\\Udemy\\\\Python\\\\Python Automation\\\\Python Automation.ipynb')"
   ]
  },
  {
   "cell_type": "code",
   "execution_count": 190,
   "metadata": {},
   "outputs": [
    {
     "data": {
      "text/plain": [
       "['1_u16a0WbJeckSdi6kGD3gVA.jpeg',\n",
       " '20171202141137_top-universities-for-ms-in-data-science-in-usa.jpg',\n",
       " '4fb8873465eee78b02785a388cfff85b21df31cc.jpg',\n",
       " 'blogentry-may8.jpg',\n",
       " 'Coursera',\n",
       " 'data-science.jpg',\n",
       " 'Data_Science_Lifecycle_blue.png',\n",
       " 'e11ee6da0263a93e832e1b54049cae0002dfdb7f.jpg',\n",
       " 'Edureka',\n",
       " 'fotolia_144347603_subscription_monthly_m.jpg',\n",
       " 'Machine-learning-1.jpg',\n",
       " 'machine-learning-smart-brain-wallpaper-26779524.jpg',\n",
       " 'MachineLearninginMarketing-1621x1000.jpg',\n",
       " 'maxresdefault.jpg',\n",
       " 'og.jpg',\n",
       " 'OG_Slides_Apache_Spark_Not_Your_Fathers_Database-1024x538.jpg',\n",
       " 'open-source-ecosystem-1024x576.png',\n",
       " 'pexels-photo-185576.jpeg',\n",
       " 'pythonfeatured.jpg',\n",
       " 'Slide1CoverArt.jpg',\n",
       " 'Udemy',\n",
       " 'wallpaper2you_257530.jpg']"
      ]
     },
     "execution_count": 190,
     "metadata": {},
     "output_type": "execute_result"
    }
   ],
   "source": [
    "## List out directories and files inside a file path\n",
    "os.listdir('C:\\\\Users\\\\ROMU\\\\Desktop\\\\Project ECHO')"
   ]
  },
  {
   "cell_type": "code",
   "execution_count": 195,
   "metadata": {},
   "outputs": [],
   "source": [
    "## Calculate Total size of Files\n",
    "\n",
    "totalSize = 0\n",
    "for filename in os.listdir('C:\\\\Users\\\\ROMU\\\\Desktop\\\\Project ECHO'):\n",
    "    if not os.path.isfile(os.path.join('C:\\\\Users\\\\ROMU\\\\Desktop\\\\Project ECHO',filename)):\n",
    "        continue\n",
    "    totalSize = totalSize + os.path.getsize(os.path.join('C:\\\\Users\\\\ROMU\\\\Desktop\\\\Project ECHO',filename))\n",
    "                            "
   ]
  },
  {
   "cell_type": "code",
   "execution_count": 196,
   "metadata": {},
   "outputs": [
    {
     "name": "stdout",
     "output_type": "stream",
     "text": [
      "5022302\n"
     ]
    }
   ],
   "source": [
    "print(totalSize)"
   ]
  },
  {
   "cell_type": "code",
   "execution_count": 198,
   "metadata": {},
   "outputs": [],
   "source": [
    "##Reading from and to files\n",
    "import os"
   ]
  },
  {
   "cell_type": "code",
   "execution_count": 207,
   "metadata": {},
   "outputs": [
    {
     "name": "stdout",
     "output_type": "stream",
     "text": [
      "C:\\Users\\ROMU\\Desktop\\Project ECHO\\Udemy\\Python\\Python Automation\n"
     ]
    }
   ],
   "source": [
    "print(os.getcwd())"
   ]
  },
  {
   "cell_type": "code",
   "execution_count": 218,
   "metadata": {},
   "outputs": [],
   "source": [
    "openFile = open(os.getcwd()+'\\\\hello.txt')"
   ]
  },
  {
   "cell_type": "code",
   "execution_count": 221,
   "metadata": {},
   "outputs": [
    {
     "ename": "ValueError",
     "evalue": "I/O operation on closed file.",
     "output_type": "error",
     "traceback": [
      "\u001b[1;31m---------------------------------------------------------------------------\u001b[0m",
      "\u001b[1;31mValueError\u001b[0m                                Traceback (most recent call last)",
      "\u001b[1;32m<ipython-input-221-6ddff7a93a83>\u001b[0m in \u001b[0;36m<module>\u001b[1;34m()\u001b[0m\n\u001b[1;32m----> 1\u001b[1;33m \u001b[0mopenFile\u001b[0m\u001b[1;33m.\u001b[0m\u001b[0mread\u001b[0m\u001b[1;33m(\u001b[0m\u001b[1;33m)\u001b[0m\u001b[1;33m\u001b[0m\u001b[0m\n\u001b[0m",
      "\u001b[1;31mValueError\u001b[0m: I/O operation on closed file."
     ]
    }
   ],
   "source": [
    "openFile.read()"
   ]
  },
  {
   "cell_type": "code",
   "execution_count": 220,
   "metadata": {},
   "outputs": [],
   "source": [
    "openFile.close()"
   ]
  },
  {
   "cell_type": "code",
   "execution_count": 219,
   "metadata": {},
   "outputs": [
    {
     "data": {
      "text/plain": [
       "['hello hhii\\n', 'how r u ?\\n', '\\n', '\\n', '\\n', 'good']"
      ]
     },
     "execution_count": 219,
     "metadata": {},
     "output_type": "execute_result"
    }
   ],
   "source": [
    "openFile.readlines()"
   ]
  },
  {
   "cell_type": "code",
   "execution_count": 233,
   "metadata": {},
   "outputs": [],
   "source": [
    "newFile = open(os.getcwd()+'\\\\hello2.txt','w')"
   ]
  },
  {
   "cell_type": "code",
   "execution_count": 234,
   "metadata": {},
   "outputs": [
    {
     "data": {
      "text/plain": [
       "9"
      ]
     },
     "execution_count": 234,
     "metadata": {},
     "output_type": "execute_result"
    }
   ],
   "source": [
    "newFile.write('Hello!!!\\n')"
   ]
  },
  {
   "cell_type": "code",
   "execution_count": 235,
   "metadata": {},
   "outputs": [],
   "source": [
    "newFile.close()"
   ]
  },
  {
   "cell_type": "code",
   "execution_count": 237,
   "metadata": {},
   "outputs": [],
   "source": [
    "spamFile = open('spam.txt','w')\n",
    "spamFile.write('Spam is a my Spam\\n, none of your spam ')\n",
    "spamFile.close()"
   ]
  },
  {
   "cell_type": "code",
   "execution_count": 239,
   "metadata": {},
   "outputs": [],
   "source": [
    "spamFile = open('spam.txt','a')\n",
    "spamFile.write('\\n\\n No you can have it !!!!!')\n",
    "spamFile.close()"
   ]
  },
  {
   "cell_type": "code",
   "execution_count": 241,
   "metadata": {},
   "outputs": [
    {
     "data": {
      "text/plain": [
       "['Spam is a my Spam\\n',\n",
       " ', none of your spam \\n',\n",
       " '\\n',\n",
       " ' No you can have it !!!!!']"
      ]
     },
     "execution_count": 241,
     "metadata": {},
     "output_type": "execute_result"
    }
   ],
   "source": [
    "spamFile = open('spam.txt')\n",
    "spamFile.readlines()"
   ]
  },
  {
   "cell_type": "code",
   "execution_count": 242,
   "metadata": {},
   "outputs": [],
   "source": [
    "spamFile.close()"
   ]
  },
  {
   "cell_type": "code",
   "execution_count": 243,
   "metadata": {},
   "outputs": [],
   "source": [
    "## Shelve Module\n",
    "# It can store value of complex DS in a file format\n",
    "import shelve"
   ]
  },
  {
   "cell_type": "code",
   "execution_count": 244,
   "metadata": {},
   "outputs": [],
   "source": [
    "shelfFile = shelve.open('newData')\n",
    "shelfFile['games'] = ['BasketBall','Football','Vollyball','Cricket']\n",
    "shelfFile.close()"
   ]
  },
  {
   "cell_type": "code",
   "execution_count": 245,
   "metadata": {},
   "outputs": [
    {
     "data": {
      "text/plain": [
       "['BasketBall', 'Football', 'Vollyball', 'Cricket']"
      ]
     },
     "execution_count": 245,
     "metadata": {},
     "output_type": "execute_result"
    }
   ],
   "source": [
    "shelfFile = shelve.open('newData')\n",
    "shelfFile['games']"
   ]
  },
  {
   "cell_type": "code",
   "execution_count": 246,
   "metadata": {},
   "outputs": [],
   "source": [
    "shelfFile.close()"
   ]
  },
  {
   "cell_type": "code",
   "execution_count": 248,
   "metadata": {},
   "outputs": [],
   "source": [
    "## Copy and Move Files and Folders\n",
    "## Shell  Utility Module\n",
    "import shutil\n",
    "import os"
   ]
  },
  {
   "cell_type": "code",
   "execution_count": 249,
   "metadata": {},
   "outputs": [
    {
     "data": {
      "text/plain": [
       "'C:\\\\Users\\\\ROMU\\\\Desktop\\\\Project ECHO\\\\Udemy\\\\Python\\\\Python Automation\\\\file\\\\spam.txt'"
      ]
     },
     "execution_count": 249,
     "metadata": {},
     "output_type": "execute_result"
    }
   ],
   "source": [
    "shutil.copy(os.getcwd()+'\\\\spam.txt',os.getcwd()+'\\\\file')"
   ]
  },
  {
   "cell_type": "code",
   "execution_count": 250,
   "metadata": {},
   "outputs": [
    {
     "data": {
      "text/plain": [
       "'C:\\\\Users\\\\ROMU\\\\Desktop\\\\Project ECHO\\\\Udemy\\\\Python\\\\Python Automation\\\\file\\\\newSpam.txt'"
      ]
     },
     "execution_count": 250,
     "metadata": {},
     "output_type": "execute_result"
    }
   ],
   "source": [
    "shutil.copy(os.getcwd()+'\\\\spam.txt',os.getcwd()+'\\\\file\\\\newSpam.txt')"
   ]
  },
  {
   "cell_type": "code",
   "execution_count": 256,
   "metadata": {},
   "outputs": [
    {
     "data": {
      "text/plain": [
       "'C:\\\\Users\\\\ROMU\\\\Desktop\\\\python'"
      ]
     },
     "execution_count": 256,
     "metadata": {},
     "output_type": "execute_result"
    }
   ],
   "source": [
    "shutil.copytree(os.getcwd(),'C:\\\\Users\\\\ROMU\\\\Desktop\\\\python')"
   ]
  },
  {
   "cell_type": "code",
   "execution_count": 257,
   "metadata": {},
   "outputs": [
    {
     "data": {
      "text/plain": [
       "'C:\\\\Users\\\\ROMU\\\\Desktop\\\\Project ECHO\\\\Udemy\\\\Python\\\\Python Automation\\\\file\\\\hello.txt'"
      ]
     },
     "execution_count": 257,
     "metadata": {},
     "output_type": "execute_result"
    }
   ],
   "source": [
    "shutil.move('C:\\\\Users\\\\ROMU\\\\Desktop\\\\python\\\\hello.txt',os.getcwd()+'\\\\file')"
   ]
  },
  {
   "cell_type": "code",
   "execution_count": 258,
   "metadata": {},
   "outputs": [],
   "source": [
    "## Deleting Files\n",
    "import os\n",
    "import shutil"
   ]
  },
  {
   "cell_type": "code",
   "execution_count": 259,
   "metadata": {},
   "outputs": [],
   "source": [
    "os.unlink('hello.txt')"
   ]
  },
  {
   "cell_type": "code",
   "execution_count": 261,
   "metadata": {},
   "outputs": [
    {
     "ename": "OSError",
     "evalue": "[WinError 145] The directory is not empty: 'C:\\\\Users\\\\ROMU\\\\Desktop\\\\Project ECHO\\\\Udemy\\\\Python\\\\Python Automation\\\\file'",
     "output_type": "error",
     "traceback": [
      "\u001b[1;31m---------------------------------------------------------------------------\u001b[0m",
      "\u001b[1;31mOSError\u001b[0m                                   Traceback (most recent call last)",
      "\u001b[1;32m<ipython-input-261-9c17fd9f4b3f>\u001b[0m in \u001b[0;36m<module>\u001b[1;34m()\u001b[0m\n\u001b[1;32m----> 1\u001b[1;33m \u001b[0mos\u001b[0m\u001b[1;33m.\u001b[0m\u001b[0mrmdir\u001b[0m\u001b[1;33m(\u001b[0m\u001b[0mos\u001b[0m\u001b[1;33m.\u001b[0m\u001b[0mgetcwd\u001b[0m\u001b[1;33m(\u001b[0m\u001b[1;33m)\u001b[0m\u001b[1;33m+\u001b[0m\u001b[1;34m'\\\\file'\u001b[0m\u001b[1;33m)\u001b[0m\u001b[1;33m\u001b[0m\u001b[0m\n\u001b[0m",
      "\u001b[1;31mOSError\u001b[0m: [WinError 145] The directory is not empty: 'C:\\\\Users\\\\ROMU\\\\Desktop\\\\Project ECHO\\\\Udemy\\\\Python\\\\Python Automation\\\\file'"
     ]
    }
   ],
   "source": [
    "os.rmdir(os.getcwd()+'\\\\file')\n",
    "# To delete folder if it is empty"
   ]
  },
  {
   "cell_type": "code",
   "execution_count": 262,
   "metadata": {},
   "outputs": [],
   "source": [
    "shutil.rmtree('C:\\\\Users\\\\ROMU\\\\Desktop\\\\python')\n",
    "# be careful while deleting"
   ]
  },
  {
   "cell_type": "code",
   "execution_count": null,
   "metadata": {},
   "outputs": [],
   "source": [
    "# For removing files directly \n",
    "#to recycle bin instead of permanently\n",
    "#use send2Trash third party module\n",
    "#\n",
    "# install by pip install\n",
    "\n",
    "# import send2trash\n",
    "# send2trash.send2trash('') #filename"
   ]
  },
  {
   "cell_type": "code",
   "execution_count": 280,
   "metadata": {},
   "outputs": [
    {
     "name": "stdout",
     "output_type": "stream",
     "text": [
      "**********\n",
      "*        *\n",
      "*        *\n",
      "**********\n"
     ]
    }
   ],
   "source": [
    "## Debugging\n",
    "# Box Printing Program\n",
    "\n",
    "def boxPrint(symbol, width, height):\n",
    "    ## raising exception\n",
    "    if len(symbol) > 1:\n",
    "        raise Exception('\"symbol\" length cannot be greater than 1')\n",
    "    if width < 2 or height < 2 :\n",
    "        raise Exception('\"width\" and \"height\" cannot be less than 2')\n",
    "        \n",
    "    print(symbol * width)\n",
    "    \n",
    "    for i in range(height - 2):\n",
    "        print(symbol + (' ' * (width - 2)) + symbol)\n",
    "              \n",
    "    print(symbol * width)\n",
    "\n",
    "boxPrint('*',10,4)\n",
    "#boxPrint('O',10,5)\n",
    "#boxPrint('$',10,5)"
   ]
  },
  {
   "cell_type": "code",
   "execution_count": 281,
   "metadata": {},
   "outputs": [
    {
     "name": "stdout",
     "output_type": "stream",
     "text": [
      "The traceback information was written to the log file\n"
     ]
    }
   ],
   "source": [
    "# Writing Traceback to a file\n",
    "import traceback\n",
    "try:\n",
    "    raise Exception('This is an error message')\n",
    "except:\n",
    "    errorFile = open('error_log.txt','a')\n",
    "    errorFile.write(traceback.format_exc())\n",
    "    errorFile.close()\n",
    "    print('The traceback information was written to the log file')"
   ]
  },
  {
   "cell_type": "code",
   "execution_count": 286,
   "metadata": {},
   "outputs": [
    {
     "name": "stdout",
     "output_type": "stream",
     "text": [
      "{'ns': 'green', 'sw': 'red'}\n"
     ]
    },
    {
     "ename": "AssertionError",
     "evalue": "Neither values are red{'ns': 'yellow', 'sw': 'green'}",
     "output_type": "error",
     "traceback": [
      "\u001b[1;31m---------------------------------------------------------------------------\u001b[0m",
      "\u001b[1;31mAssertionError\u001b[0m                            Traceback (most recent call last)",
      "\u001b[1;32m<ipython-input-286-906069badfe3>\u001b[0m in \u001b[0;36m<module>\u001b[1;34m()\u001b[0m\n\u001b[0;32m     12\u001b[0m     \u001b[1;32massert\u001b[0m \u001b[1;34m'red'\u001b[0m \u001b[1;32min\u001b[0m \u001b[0mintersection\u001b[0m\u001b[1;33m.\u001b[0m\u001b[0mvalues\u001b[0m\u001b[1;33m(\u001b[0m\u001b[1;33m)\u001b[0m\u001b[1;33m,\u001b[0m \u001b[1;34m'Neither values are red'\u001b[0m \u001b[1;33m+\u001b[0m \u001b[0mstr\u001b[0m\u001b[1;33m(\u001b[0m\u001b[0mintersection\u001b[0m\u001b[1;33m)\u001b[0m\u001b[1;33m\u001b[0m\u001b[0m\n\u001b[0;32m     13\u001b[0m \u001b[0mprint\u001b[0m\u001b[1;33m(\u001b[0m\u001b[0mtrafficLight\u001b[0m\u001b[1;33m)\u001b[0m\u001b[1;33m\u001b[0m\u001b[0m\n\u001b[1;32m---> 14\u001b[1;33m \u001b[0mswitchLights\u001b[0m\u001b[1;33m(\u001b[0m\u001b[0mtrafficLight\u001b[0m\u001b[1;33m)\u001b[0m\u001b[1;33m\u001b[0m\u001b[0m\n\u001b[0m\u001b[0;32m     15\u001b[0m \u001b[0mprint\u001b[0m\u001b[1;33m(\u001b[0m\u001b[0mtrafficLight\u001b[0m\u001b[1;33m)\u001b[0m\u001b[1;33m\u001b[0m\u001b[0m\n",
      "\u001b[1;32m<ipython-input-286-906069badfe3>\u001b[0m in \u001b[0;36mswitchLights\u001b[1;34m(intersection)\u001b[0m\n\u001b[0;32m     10\u001b[0m         \u001b[1;32melif\u001b[0m \u001b[0mintersection\u001b[0m\u001b[1;33m[\u001b[0m\u001b[0mkey\u001b[0m\u001b[1;33m]\u001b[0m \u001b[1;33m==\u001b[0m \u001b[1;34m'red'\u001b[0m\u001b[1;33m:\u001b[0m\u001b[1;33m\u001b[0m\u001b[0m\n\u001b[0;32m     11\u001b[0m             \u001b[0mintersection\u001b[0m\u001b[1;33m[\u001b[0m\u001b[0mkey\u001b[0m\u001b[1;33m]\u001b[0m \u001b[1;33m=\u001b[0m \u001b[1;34m'green'\u001b[0m\u001b[1;33m\u001b[0m\u001b[0m\n\u001b[1;32m---> 12\u001b[1;33m     \u001b[1;32massert\u001b[0m \u001b[1;34m'red'\u001b[0m \u001b[1;32min\u001b[0m \u001b[0mintersection\u001b[0m\u001b[1;33m.\u001b[0m\u001b[0mvalues\u001b[0m\u001b[1;33m(\u001b[0m\u001b[1;33m)\u001b[0m\u001b[1;33m,\u001b[0m \u001b[1;34m'Neither values are red'\u001b[0m \u001b[1;33m+\u001b[0m \u001b[0mstr\u001b[0m\u001b[1;33m(\u001b[0m\u001b[0mintersection\u001b[0m\u001b[1;33m)\u001b[0m\u001b[1;33m\u001b[0m\u001b[0m\n\u001b[0m\u001b[0;32m     13\u001b[0m \u001b[0mprint\u001b[0m\u001b[1;33m(\u001b[0m\u001b[0mtrafficLight\u001b[0m\u001b[1;33m)\u001b[0m\u001b[1;33m\u001b[0m\u001b[0m\n\u001b[0;32m     14\u001b[0m \u001b[0mswitchLights\u001b[0m\u001b[1;33m(\u001b[0m\u001b[0mtrafficLight\u001b[0m\u001b[1;33m)\u001b[0m\u001b[1;33m\u001b[0m\u001b[0m\n",
      "\u001b[1;31mAssertionError\u001b[0m: Neither values are red{'ns': 'yellow', 'sw': 'green'}"
     ]
    }
   ],
   "source": [
    "## Assertions and Assert statements\n",
    "trafficLight = {'ns':'green','sw':'red'}\n",
    "\n",
    "def switchLights(intersection):\n",
    "    for key in intersection.keys():\n",
    "        if intersection[key] == 'green':\n",
    "            intersection[key] = 'yellow'\n",
    "        elif intersection[key] == 'yellow':\n",
    "            intersection[key] = 'red'\n",
    "        elif intersection[key] == 'red':\n",
    "            intersection[key] = 'green'\n",
    "    assert 'red' in intersection.values(), 'Neither values are red' + str(intersection)\n",
    "print(trafficLight)\n",
    "switchLights(trafficLight)\n",
    "print(trafficLight)"
   ]
  },
  {
   "cell_type": "code",
   "execution_count": 302,
   "metadata": {},
   "outputs": [
    {
     "name": "stdout",
     "output_type": "stream",
     "text": [
      "120\n"
     ]
    }
   ],
   "source": [
    "## Logging\n",
    "# Need to import logging module and set levels and format\n",
    "import logging\n",
    "logging.basicConfig(filename='debugLog.txt',level=logging.DEBUG, format ='%(asctime)s - %(levelname)s - %(message)s')\n",
    "#logging.disable(logging.CRITICAL)\n",
    "\n",
    "# buggy factorial program logging\n",
    "#print('Start of program')\n",
    "logging.debug('Start of the program')\n",
    "#print('After log program')\n",
    "\n",
    "def factorial(n):\n",
    "    logging.debug('Start of the factorial(%s) ' % (n))\n",
    "    total = 1\n",
    "    for i in range(1,n+1):\n",
    "        total *= i\n",
    "        logging.debug('i is %s, total is %s ' % (i,total))\n",
    "    logging.debug('Return value is %s ' % (total))\n",
    "    return total\n",
    "\n",
    "print(factorial(5))\n",
    "\n",
    "logging.debug('End of program')"
   ]
  },
  {
   "cell_type": "code",
   "execution_count": 305,
   "metadata": {},
   "outputs": [
    {
     "name": "stdout",
     "output_type": "stream",
     "text": [
      "We are halfway done !!!!!\n",
      "Heads count is 494 and tails count is 506\n"
     ]
    }
   ],
   "source": [
    "## Using Debugger for debugging\n",
    "# Flip coins program\n",
    "import random\n",
    "\n",
    "heads = 0\n",
    "\n",
    "for i in range(1,1001):\n",
    "    if random.randint(0,1) == 1:\n",
    "        heads += 1\n",
    "    if i == 500:\n",
    "        print('We are halfway done !!!!!')\n",
    "\n",
    "print('Heads count is ' + str(heads) + ' and tails count is ' + str(1000 - heads))"
   ]
  },
  {
   "cell_type": "code",
   "execution_count": 312,
   "metadata": {},
   "outputs": [
    {
     "name": "stdout",
     "output_type": "stream",
     "text": [
      "Enter the address you want to search: \n",
      "noida\n"
     ]
    },
    {
     "data": {
      "text/plain": [
       "True"
      ]
     },
     "execution_count": 312,
     "metadata": {},
     "output_type": "execute_result"
    }
   ],
   "source": [
    "## WEB SCRAPING using Python ##\n",
    "\n",
    "#Using webbrowser module\n",
    "import webbrowser\n",
    "\n",
    "print('Enter the address you want to search: ')\n",
    "address = input()\n",
    "\n",
    "webbrowser.open('https://www.google.com/maps/place/'+address)"
   ]
  },
  {
   "cell_type": "code",
   "execution_count": 316,
   "metadata": {},
   "outputs": [],
   "source": [
    "## Downloading files from requests module\n",
    "import requests\n",
    "responseObject = requests.get('https://automatetheboringstuff.com/files/rj.txt')\n"
   ]
  },
  {
   "cell_type": "code",
   "execution_count": 318,
   "metadata": {},
   "outputs": [
    {
     "data": {
      "text/plain": [
       "178978"
      ]
     },
     "execution_count": 318,
     "metadata": {},
     "output_type": "execute_result"
    }
   ],
   "source": [
    "#responseObject.status_code\n",
    "len(responseObject.text)"
   ]
  },
  {
   "cell_type": "code",
   "execution_count": 319,
   "metadata": {},
   "outputs": [
    {
     "name": "stdout",
     "output_type": "stream",
     "text": [
      "The Project Gutenberg EBook of Romeo and Juliet, by William Shakespeare\r\n",
      "\r\n",
      "This eBook is for the use of anyone anywhere at no cost and with\r\n",
      "almost no restrictions whatsoever.  You may copy it, give it away or\r\n",
      "re-use it under the terms of the Project Gutenberg License included\r\n",
      "with this eBook or online at www.gutenberg.org/license\r\n",
      "\r\n",
      "\r\n",
      "Title: Romeo and Juliet\r\n",
      "\r\n",
      "Author: William Shakespeare\r\n",
      "\r\n",
      "Posting Date: May 25, 2012 [EBook #1112]\r\n",
      "Release Date: November, 1997  [Etext #1112]\r\n",
      "\r\n",
      "Language: Eng\n"
     ]
    }
   ],
   "source": [
    "print(responseObject.text[:500])"
   ]
  },
  {
   "cell_type": "code",
   "execution_count": 320,
   "metadata": {},
   "outputs": [],
   "source": [
    "#it will return nothing it status code is 200 OK\n",
    "#otherwise it will give an exception\n",
    "\n",
    "responseObject.raise_for_status()"
   ]
  },
  {
   "cell_type": "code",
   "execution_count": 322,
   "metadata": {},
   "outputs": [
    {
     "ename": "HTTPError",
     "evalue": "404 Client Error: Not Found for url: https://automatetheboringstuff.com/dsfs",
     "output_type": "error",
     "traceback": [
      "\u001b[1;31m---------------------------------------------------------------------------\u001b[0m",
      "\u001b[1;31mHTTPError\u001b[0m                                 Traceback (most recent call last)",
      "\u001b[1;32m<ipython-input-322-2c136571def6>\u001b[0m in \u001b[0;36m<module>\u001b[1;34m()\u001b[0m\n\u001b[0;32m      1\u001b[0m \u001b[0mbadReq\u001b[0m \u001b[1;33m=\u001b[0m \u001b[0mrequests\u001b[0m\u001b[1;33m.\u001b[0m\u001b[0mget\u001b[0m\u001b[1;33m(\u001b[0m\u001b[1;34m'https://automatetheboringstuff.com/dsfs'\u001b[0m\u001b[1;33m)\u001b[0m\u001b[1;33m\u001b[0m\u001b[0m\n\u001b[1;32m----> 2\u001b[1;33m \u001b[0mbadReq\u001b[0m\u001b[1;33m.\u001b[0m\u001b[0mraise_for_status\u001b[0m\u001b[1;33m(\u001b[0m\u001b[1;33m)\u001b[0m\u001b[1;33m\u001b[0m\u001b[0m\n\u001b[0m",
      "\u001b[1;32m~\\Anaconda3\\lib\\site-packages\\requests\\models.py\u001b[0m in \u001b[0;36mraise_for_status\u001b[1;34m(self)\u001b[0m\n\u001b[0;32m    933\u001b[0m \u001b[1;33m\u001b[0m\u001b[0m\n\u001b[0;32m    934\u001b[0m         \u001b[1;32mif\u001b[0m \u001b[0mhttp_error_msg\u001b[0m\u001b[1;33m:\u001b[0m\u001b[1;33m\u001b[0m\u001b[0m\n\u001b[1;32m--> 935\u001b[1;33m             \u001b[1;32mraise\u001b[0m \u001b[0mHTTPError\u001b[0m\u001b[1;33m(\u001b[0m\u001b[0mhttp_error_msg\u001b[0m\u001b[1;33m,\u001b[0m \u001b[0mresponse\u001b[0m\u001b[1;33m=\u001b[0m\u001b[0mself\u001b[0m\u001b[1;33m)\u001b[0m\u001b[1;33m\u001b[0m\u001b[0m\n\u001b[0m\u001b[0;32m    936\u001b[0m \u001b[1;33m\u001b[0m\u001b[0m\n\u001b[0;32m    937\u001b[0m     \u001b[1;32mdef\u001b[0m \u001b[0mclose\u001b[0m\u001b[1;33m(\u001b[0m\u001b[0mself\u001b[0m\u001b[1;33m)\u001b[0m\u001b[1;33m:\u001b[0m\u001b[1;33m\u001b[0m\u001b[0m\n",
      "\u001b[1;31mHTTPError\u001b[0m: 404 Client Error: Not Found for url: https://automatetheboringstuff.com/dsfs"
     ]
    }
   ],
   "source": [
    "badReq = requests.get('https://automatetheboringstuff.com/dsfs')\n",
    "badReq.raise_for_status()"
   ]
  },
  {
   "cell_type": "code",
   "execution_count": 329,
   "metadata": {},
   "outputs": [
    {
     "name": "stdout",
     "output_type": "stream",
     "text": [
      "Written 10000\n",
      "Written 10000\n",
      "Written 10000\n",
      "Written 10000\n",
      "Written 10000\n",
      "Written 10000\n",
      "Written 10000\n",
      "Written 10000\n",
      "Written 10000\n",
      "Written 10000\n",
      "Written 10000\n",
      "Written 10000\n",
      "Written 10000\n",
      "Written 10000\n",
      "Written 10000\n",
      "Written 10000\n",
      "Written 10000\n",
      "Written 10000\n"
     ]
    }
   ],
   "source": [
    "#bit.ly/uniplain\n",
    "# saving the response in binary format\n",
    "rjFile = open('RomeoAndJuliet.txt','wb')\n",
    "data_size = 10000\n",
    "for chunk in responseObject.iter_content(data_size):\n",
    "    rjFile.write(chunk)\n",
    "    print('Written ' + str(data_size))\n",
    "\n",
    "rjFile.close()"
   ]
  },
  {
   "cell_type": "code",
   "execution_count": 331,
   "metadata": {},
   "outputs": [
    {
     "data": {
      "text/plain": [
       "'text/plain'"
      ]
     },
     "execution_count": 331,
     "metadata": {},
     "output_type": "execute_result"
    }
   ],
   "source": [
    "responseObject.headers['content-type']"
   ]
  },
  {
   "cell_type": "code",
   "execution_count": 358,
   "metadata": {},
   "outputs": [
    {
     "data": {
      "text/plain": [
       "[]"
      ]
     },
     "execution_count": 358,
     "metadata": {},
     "output_type": "execute_result"
    }
   ],
   "source": [
    "# Web Scraping using beautifulsoup module\n",
    "# and getting needed information\n",
    "# AliExpress Scraping\n",
    "import bs4\n",
    "import requests\n",
    "\n",
    "response = requests.get('https://www.aliexpress.com/item/4000019293278.html?spm=a2g0o.productlist.0.0.10355ba5gqqEd5&algo_pvid=e92bc1af-d275-4658-83f1-07485f9080e8&algo_expid=e92bc1af-d275-4658-83f1-07485f9080e8-1&btsid=0ab6f83115863689086484986e89f7&ws_ab_test=searchweb0_0,searchweb201602_,searchweb201603_')\n",
    "response.raise_for_status()\n",
    "soupObject = bs4.BeautifulSoup(response.text,'html.parser')\n",
    "# working\n",
    "soupObject.select('#root > div > div.product-main > div > div.product-info > div.product-price > div.product-price-current > span') # css selector\n",
    "# element[0].text\n",
    "# element[0].text.strip()"
   ]
  },
  {
   "cell_type": "code",
   "execution_count": 362,
   "metadata": {},
   "outputs": [
    {
     "name": "stdout",
     "output_type": "stream",
     "text": [
      "A webcomic of romance, sarcasm, math, and language.\n"
     ]
    }
   ],
   "source": [
    "#Scraping XkCD.com\n",
    "import bs4, requests\n",
    "\n",
    "newResponse = requests.get('https://xkcd.com/')\n",
    "newResponse.raise_for_status()\n",
    "soup = bs4.BeautifulSoup(newResponse.text,'html.parser')\n",
    "element = soup.select('#slogan')\n",
    "headingContent = element[0].text\n",
    "print(headingContent)"
   ]
  },
  {
   "cell_type": "code",
   "execution_count": 370,
   "metadata": {},
   "outputs": [
    {
     "name": "stdout",
     "output_type": "stream",
     "text": [
      "Weather Report from National Weather Service is: \n",
      "\n",
      "Severe Weather Threat from the Middle Mississippi Valley to the Ohio Valley; Inclement Weather Continues in Southern California and the Southwest\n",
      "\n",
      "                Severe thunderstorms capable of producing large hail, damaging winds, and a few tornadoes are expected across the middle Mississippi Valley into the Ohio and Tennessee Valleys. Heavy mountain snow and rainfall will continue in southern California and the Desert Southwest through late week. The heavy rainfall may pose a flash flood risk, especially to burn scar locations. \n",
      "                Read More >\n"
     ]
    }
   ],
   "source": [
    "#Scraping weather.gov\n",
    "import bs4, requests\n",
    "\n",
    "weatherReponse = requests.get('https://www.weather.gov/')\n",
    "weatherReponse.raise_for_status()\n",
    "weatherSoupObject = bs4.BeautifulSoup(weatherReponse.text,'html.parser')\n",
    "weatherElement = weatherSoupObject.select('#topnews > div.body')\n",
    "weatherContent = weatherElement[0].text.strip()\n",
    "print('Weather Report from National Weather Service is: ')\n",
    "print('\\n' + weatherContent)"
   ]
  },
  {
   "cell_type": "code",
   "execution_count": 377,
   "metadata": {},
   "outputs": [
    {
     "ename": "WebDriverException",
     "evalue": "Message: 'geckodriver' executable needs to be in PATH. \n",
     "output_type": "error",
     "traceback": [
      "\u001b[1;31m---------------------------------------------------------------------------\u001b[0m",
      "\u001b[1;31mFileNotFoundError\u001b[0m                         Traceback (most recent call last)",
      "\u001b[1;32m~\\Anaconda3\\lib\\site-packages\\selenium\\webdriver\\common\\service.py\u001b[0m in \u001b[0;36mstart\u001b[1;34m(self)\u001b[0m\n\u001b[0;32m     75\u001b[0m                                             \u001b[0mstderr\u001b[0m\u001b[1;33m=\u001b[0m\u001b[0mself\u001b[0m\u001b[1;33m.\u001b[0m\u001b[0mlog_file\u001b[0m\u001b[1;33m,\u001b[0m\u001b[1;33m\u001b[0m\u001b[0m\n\u001b[1;32m---> 76\u001b[1;33m                                             stdin=PIPE)\n\u001b[0m\u001b[0;32m     77\u001b[0m         \u001b[1;32mexcept\u001b[0m \u001b[0mTypeError\u001b[0m\u001b[1;33m:\u001b[0m\u001b[1;33m\u001b[0m\u001b[0m\n",
      "\u001b[1;32m~\\Anaconda3\\lib\\subprocess.py\u001b[0m in \u001b[0;36m__init__\u001b[1;34m(self, args, bufsize, executable, stdin, stdout, stderr, preexec_fn, close_fds, shell, cwd, env, universal_newlines, startupinfo, creationflags, restore_signals, start_new_session, pass_fds, encoding, errors)\u001b[0m\n\u001b[0;32m    708\u001b[0m                                 \u001b[0merrread\u001b[0m\u001b[1;33m,\u001b[0m \u001b[0merrwrite\u001b[0m\u001b[1;33m,\u001b[0m\u001b[1;33m\u001b[0m\u001b[0m\n\u001b[1;32m--> 709\u001b[1;33m                                 restore_signals, start_new_session)\n\u001b[0m\u001b[0;32m    710\u001b[0m         \u001b[1;32mexcept\u001b[0m\u001b[1;33m:\u001b[0m\u001b[1;33m\u001b[0m\u001b[0m\n",
      "\u001b[1;32m~\\Anaconda3\\lib\\subprocess.py\u001b[0m in \u001b[0;36m_execute_child\u001b[1;34m(self, args, executable, preexec_fn, close_fds, pass_fds, cwd, env, startupinfo, creationflags, shell, p2cread, p2cwrite, c2pread, c2pwrite, errread, errwrite, unused_restore_signals, unused_start_new_session)\u001b[0m\n\u001b[0;32m    996\u001b[0m                                          \u001b[0mos\u001b[0m\u001b[1;33m.\u001b[0m\u001b[0mfspath\u001b[0m\u001b[1;33m(\u001b[0m\u001b[0mcwd\u001b[0m\u001b[1;33m)\u001b[0m \u001b[1;32mif\u001b[0m \u001b[0mcwd\u001b[0m \u001b[1;32mis\u001b[0m \u001b[1;32mnot\u001b[0m \u001b[1;32mNone\u001b[0m \u001b[1;32melse\u001b[0m \u001b[1;32mNone\u001b[0m\u001b[1;33m,\u001b[0m\u001b[1;33m\u001b[0m\u001b[0m\n\u001b[1;32m--> 997\u001b[1;33m                                          startupinfo)\n\u001b[0m\u001b[0;32m    998\u001b[0m             \u001b[1;32mfinally\u001b[0m\u001b[1;33m:\u001b[0m\u001b[1;33m\u001b[0m\u001b[0m\n",
      "\u001b[1;31mFileNotFoundError\u001b[0m: [WinError 2] The system cannot find the file specified",
      "\nDuring handling of the above exception, another exception occurred:\n",
      "\u001b[1;31mWebDriverException\u001b[0m                        Traceback (most recent call last)",
      "\u001b[1;32m<ipython-input-377-56d1ccadfca7>\u001b[0m in \u001b[0;36m<module>\u001b[1;34m()\u001b[0m\n\u001b[0;32m      1\u001b[0m \u001b[1;31m# Controlling the browser using selenium web driver\u001b[0m\u001b[1;33m\u001b[0m\u001b[1;33m\u001b[0m\u001b[0m\n\u001b[0;32m      2\u001b[0m \u001b[1;32mfrom\u001b[0m \u001b[0mselenium\u001b[0m \u001b[1;32mimport\u001b[0m \u001b[0mwebdriver\u001b[0m\u001b[1;33m\u001b[0m\u001b[0m\n\u001b[1;32m----> 3\u001b[1;33m \u001b[0mbrowser\u001b[0m \u001b[1;33m=\u001b[0m \u001b[0mwebdriver\u001b[0m\u001b[1;33m.\u001b[0m\u001b[0mFirefox\u001b[0m\u001b[1;33m(\u001b[0m\u001b[1;33m)\u001b[0m\u001b[1;33m\u001b[0m\u001b[0m\n\u001b[0m\u001b[0;32m      4\u001b[0m \u001b[0mbrowser\u001b[0m\u001b[1;33m.\u001b[0m\u001b[0mget\u001b[0m\u001b[1;33m(\u001b[0m\u001b[1;34m'https://www.google.com'\u001b[0m\u001b[1;33m)\u001b[0m\u001b[1;33m\u001b[0m\u001b[0m\n",
      "\u001b[1;32m~\\Anaconda3\\lib\\site-packages\\selenium\\webdriver\\firefox\\webdriver.py\u001b[0m in \u001b[0;36m__init__\u001b[1;34m(self, firefox_profile, firefox_binary, timeout, capabilities, proxy, executable_path, options, service_log_path, firefox_options, service_args, desired_capabilities, log_path, keep_alive)\u001b[0m\n\u001b[0;32m    162\u001b[0m                 \u001b[0mservice_args\u001b[0m\u001b[1;33m=\u001b[0m\u001b[0mservice_args\u001b[0m\u001b[1;33m,\u001b[0m\u001b[1;33m\u001b[0m\u001b[0m\n\u001b[0;32m    163\u001b[0m                 log_path=service_log_path)\n\u001b[1;32m--> 164\u001b[1;33m             \u001b[0mself\u001b[0m\u001b[1;33m.\u001b[0m\u001b[0mservice\u001b[0m\u001b[1;33m.\u001b[0m\u001b[0mstart\u001b[0m\u001b[1;33m(\u001b[0m\u001b[1;33m)\u001b[0m\u001b[1;33m\u001b[0m\u001b[0m\n\u001b[0m\u001b[0;32m    165\u001b[0m \u001b[1;33m\u001b[0m\u001b[0m\n\u001b[0;32m    166\u001b[0m             \u001b[0mcapabilities\u001b[0m\u001b[1;33m.\u001b[0m\u001b[0mupdate\u001b[0m\u001b[1;33m(\u001b[0m\u001b[0moptions\u001b[0m\u001b[1;33m.\u001b[0m\u001b[0mto_capabilities\u001b[0m\u001b[1;33m(\u001b[0m\u001b[1;33m)\u001b[0m\u001b[1;33m)\u001b[0m\u001b[1;33m\u001b[0m\u001b[0m\n",
      "\u001b[1;32m~\\Anaconda3\\lib\\site-packages\\selenium\\webdriver\\common\\service.py\u001b[0m in \u001b[0;36mstart\u001b[1;34m(self)\u001b[0m\n\u001b[0;32m     81\u001b[0m                 raise WebDriverException(\n\u001b[0;32m     82\u001b[0m                     \"'%s' executable needs to be in PATH. %s\" % (\n\u001b[1;32m---> 83\u001b[1;33m                         os.path.basename(self.path), self.start_error_message)\n\u001b[0m\u001b[0;32m     84\u001b[0m                 )\n\u001b[0;32m     85\u001b[0m             \u001b[1;32melif\u001b[0m \u001b[0merr\u001b[0m\u001b[1;33m.\u001b[0m\u001b[0merrno\u001b[0m \u001b[1;33m==\u001b[0m \u001b[0merrno\u001b[0m\u001b[1;33m.\u001b[0m\u001b[0mEACCES\u001b[0m\u001b[1;33m:\u001b[0m\u001b[1;33m\u001b[0m\u001b[0m\n",
      "\u001b[1;31mWebDriverException\u001b[0m: Message: 'geckodriver' executable needs to be in PATH. \n"
     ]
    }
   ],
   "source": [
    "# Controlling the browser using selenium web driver\n",
    "from selenium import webdriver\n",
    "\n",
    "browser = webdriver.Firefox()\n",
    "browser.get('https://www.google.com')\n",
    "element = browser.find_element_by_css_selector()\n",
    "element.click()\n",
    "\n",
    "elements = browser.find_elements_by_css_selector()\n",
    "\n",
    "searchElem = browser.find_element_by_css_selector()\n",
    "searchElem.send_keys('text')\n",
    "searchElem.submit()\n",
    "browser.back()\n",
    "browser.forward()\n",
    "browser.refresh()\n",
    "browser.quit()"
   ]
  },
  {
   "cell_type": "code",
   "execution_count": null,
   "metadata": {},
   "outputs": [],
   "source": [
    "# Read the content using selenium\n",
    "elem = browser.find_element_by_css_selector()\n",
    "elem.text\n",
    "elem = browser.find_element_by_css_selector('html')\n",
    "\n",
    "## Read more about this @ selenium-python.readthedocs.org\n"
   ]
  },
  {
   "cell_type": "code",
   "execution_count": 379,
   "metadata": {},
   "outputs": [],
   "source": [
    "## Working with Excel, PDF, and word documents\n",
    "import openpyxl\n",
    "import os\n",
    "workbook = openpyxl.load_workbook('example.xlsx')"
   ]
  },
  {
   "cell_type": "code",
   "execution_count": 383,
   "metadata": {},
   "outputs": [
    {
     "data": {
      "text/plain": [
       "openpyxl.worksheet.worksheet.Worksheet"
      ]
     },
     "execution_count": 383,
     "metadata": {},
     "output_type": "execute_result"
    }
   ],
   "source": [
    "type(workbook)\n",
    "# Deprecated\n",
    "#sheet = workbook.get_sheet_by_name('Sheet1')\n",
    "sheet = workbook['Sheet1']\n",
    "type(sheet)"
   ]
  },
  {
   "cell_type": "code",
   "execution_count": 384,
   "metadata": {},
   "outputs": [
    {
     "data": {
      "text/plain": [
       "['Sheet1', 'Sheet2', 'Sheet3']"
      ]
     },
     "execution_count": 384,
     "metadata": {},
     "output_type": "execute_result"
    }
   ],
   "source": [
    "#Deprecated\n",
    "# workbook.get_sheet_names()\n",
    "workbook.sheetnames"
   ]
  },
  {
   "cell_type": "code",
   "execution_count": 387,
   "metadata": {},
   "outputs": [
    {
     "data": {
      "text/plain": [
       "'2015-04-05 13:34:02'"
      ]
     },
     "execution_count": 387,
     "metadata": {},
     "output_type": "execute_result"
    }
   ],
   "source": [
    "cell = sheet['A1']\n",
    "str(cell.value)"
   ]
  },
  {
   "cell_type": "code",
   "execution_count": 388,
   "metadata": {},
   "outputs": [
    {
     "data": {
      "text/plain": [
       "datetime.datetime(2015, 4, 5, 13, 34, 2)"
      ]
     },
     "execution_count": 388,
     "metadata": {},
     "output_type": "execute_result"
    }
   ],
   "source": [
    "cell.value"
   ]
  },
  {
   "cell_type": "code",
   "execution_count": 389,
   "metadata": {},
   "outputs": [
    {
     "data": {
      "text/plain": [
       "'Apples'"
      ]
     },
     "execution_count": 389,
     "metadata": {},
     "output_type": "execute_result"
    }
   ],
   "source": [
    "str(sheet['B1'].value)"
   ]
  },
  {
   "cell_type": "code",
   "execution_count": 391,
   "metadata": {},
   "outputs": [
    {
     "data": {
      "text/plain": [
       "'73'"
      ]
     },
     "execution_count": 391,
     "metadata": {},
     "output_type": "execute_result"
    }
   ],
   "source": [
    "str(sheet['C1'].value)"
   ]
  },
  {
   "cell_type": "code",
   "execution_count": 393,
   "metadata": {},
   "outputs": [
    {
     "data": {
      "text/plain": [
       "'Apples'"
      ]
     },
     "execution_count": 393,
     "metadata": {},
     "output_type": "execute_result"
    }
   ],
   "source": [
    "# We can get cell values using row and column\n",
    "sheet.cell(row=1,column=2).value"
   ]
  },
  {
   "cell_type": "code",
   "execution_count": 395,
   "metadata": {},
   "outputs": [
    {
     "data": {
      "text/plain": [
       "'Apples'"
      ]
     },
     "execution_count": 395,
     "metadata": {},
     "output_type": "execute_result"
    }
   ],
   "source": [
    "sheet['b1'].value"
   ]
  },
  {
   "cell_type": "code",
   "execution_count": 400,
   "metadata": {},
   "outputs": [
    {
     "name": "stdout",
     "output_type": "stream",
     "text": [
      "497\n"
     ]
    }
   ],
   "source": [
    "totalQuantity = 0\n",
    "\n",
    "for i in range(1,8):\n",
    "    #print(i,sheet.cell(row=i,column=2).value,sheet.cell(row=i,column=3).value)\n",
    "    totalQuantity += sheet.cell(row=i,column=3).value\n",
    "print(totalQuantity)"
   ]
  },
  {
   "cell_type": "code",
   "execution_count": 401,
   "metadata": {},
   "outputs": [
    {
     "name": "stdout",
     "output_type": "stream",
     "text": [
      "1 Apples\n",
      "2 Cherries\n",
      "3 Pears\n",
      "4 Oranges\n",
      "5 Apples\n",
      "6 Bananas\n",
      "7 Strawberries\n"
     ]
    }
   ],
   "source": [
    "for i in range(1,8):\n",
    "    print(i,sheet.cell(row=i,column=2).value)"
   ]
  },
  {
   "cell_type": "code",
   "execution_count": 402,
   "metadata": {},
   "outputs": [
    {
     "data": {
      "text/plain": [
       "<openpyxl.workbook.workbook.Workbook at 0x21d15272400>"
      ]
     },
     "execution_count": 402,
     "metadata": {},
     "output_type": "execute_result"
    }
   ],
   "source": [
    "## Editing And Creating Excel Workbook\n",
    "import  openpyxl\n",
    "wb = openpyxl.Workbook()\n",
    "wb"
   ]
  },
  {
   "cell_type": "code",
   "execution_count": 403,
   "metadata": {},
   "outputs": [
    {
     "data": {
      "text/plain": [
       "['Sheet']"
      ]
     },
     "execution_count": 403,
     "metadata": {},
     "output_type": "execute_result"
    }
   ],
   "source": [
    "wb.sheetnames"
   ]
  },
  {
   "cell_type": "code",
   "execution_count": 404,
   "metadata": {},
   "outputs": [
    {
     "data": {
      "text/plain": [
       "<Worksheet \"Sheet\">"
      ]
     },
     "execution_count": 404,
     "metadata": {},
     "output_type": "execute_result"
    }
   ],
   "source": [
    "sheet = wb['Sheet']\n",
    "sheet"
   ]
  },
  {
   "cell_type": "code",
   "execution_count": 405,
   "metadata": {},
   "outputs": [],
   "source": [
    "for i in range(1,10):\n",
    "    sheet.cell(row=i,column=1).value = i\n",
    "    "
   ]
  },
  {
   "cell_type": "code",
   "execution_count": 415,
   "metadata": {},
   "outputs": [],
   "source": [
    "wb.save('newxl.xlsx')"
   ]
  },
  {
   "cell_type": "code",
   "execution_count": 414,
   "metadata": {},
   "outputs": [],
   "source": [
    "for i in range(65,75):\n",
    "    sheet.cell(row=i,column=3).value = i"
   ]
  },
  {
   "cell_type": "code",
   "execution_count": 416,
   "metadata": {},
   "outputs": [],
   "source": [
    "sheet2 = wb.create_sheet()"
   ]
  },
  {
   "cell_type": "code",
   "execution_count": 422,
   "metadata": {},
   "outputs": [
    {
     "data": {
      "text/plain": [
       "['anotherNewSheet', 'Sheet', 'newSheet']"
      ]
     },
     "execution_count": 422,
     "metadata": {},
     "output_type": "execute_result"
    }
   ],
   "source": [
    "wb.sheetnames"
   ]
  },
  {
   "cell_type": "code",
   "execution_count": 418,
   "metadata": {},
   "outputs": [],
   "source": [
    "sheet2.title = 'newSheet'"
   ]
  },
  {
   "cell_type": "code",
   "execution_count": 423,
   "metadata": {},
   "outputs": [],
   "source": [
    "wb.save('newxl.xlsx')"
   ]
  },
  {
   "cell_type": "code",
   "execution_count": 421,
   "metadata": {},
   "outputs": [
    {
     "data": {
      "text/plain": [
       "<Worksheet \"anotherNewSheet\">"
      ]
     },
     "execution_count": 421,
     "metadata": {},
     "output_type": "execute_result"
    }
   ],
   "source": [
    "wb.create_sheet(index=0,title='anotherNewSheet')"
   ]
  },
  {
   "cell_type": "code",
   "execution_count": 425,
   "metadata": {},
   "outputs": [],
   "source": [
    "## Working with PDFs from PyPDF2 module\n",
    "\n",
    "import PyPDF2\n",
    "pdfFile = open('meetingminutes1.pdf','rb')\n",
    "reader = PyPDF2.PdfFileReader(pdfFile) # reader object"
   ]
  },
  {
   "cell_type": "code",
   "execution_count": 426,
   "metadata": {},
   "outputs": [
    {
     "data": {
      "text/plain": [
       "19"
      ]
     },
     "execution_count": 426,
     "metadata": {},
     "output_type": "execute_result"
    }
   ],
   "source": [
    "reader.numPages"
   ]
  },
  {
   "cell_type": "code",
   "execution_count": 448,
   "metadata": {},
   "outputs": [
    {
     "name": "stdout",
     "output_type": "stream",
     "text": [
      "OOFFFFIICCIIAALL  BBOOAARRDD  MMIINNUUTTEESS   Meeting of \n",
      "March 7\n",
      ", 2014\n",
      "        \n",
      "     The Board of Elementary and Secondary Education shall provide leadership and \n",
      "create policies for education that expand opportunities for children, empower \n",
      "families and communities, and advance Louisiana in an increasingly \n",
      "competitive glob\n",
      "al market.\n",
      " BOARD \n",
      " of ELEMENTARY\n",
      " and \n",
      " SECONDARY\n",
      " EDUCATION\n",
      "  \n"
     ]
    }
   ],
   "source": [
    "page = reader.getPage(0)\n",
    "print(page.extractText())"
   ]
  },
  {
   "cell_type": "code",
   "execution_count": 429,
   "metadata": {},
   "outputs": [
    {
     "name": "stdout",
     "output_type": "stream",
     "text": [
      "OOFFFFIICCIIAALL  BBOOAARRDD  MMIINNUUTTEESS   Meeting of \n",
      "March 7\n",
      ", 2014\n",
      "        \n",
      "     The Board of Elementary and Secondary Education shall provide leadership and \n",
      "create policies for education that expand opportunities for children, empower \n",
      "families and communities, and advance Louisiana in an increasingly \n",
      "competitive glob\n",
      "al market.\n",
      " BOARD \n",
      " of ELEMENTARY\n",
      " and \n",
      " SECONDARY\n",
      " EDUCATION\n",
      "  \n",
      " LOUISIANA STATE BOARD OF ELEMENTARY AND SECONDARY EDUCATION\n",
      "   MARCH 7, 2014\n",
      "  \n",
      " The Louisiana Purchase Room\n",
      "  Baton Rouge, LA\n",
      "   \n",
      " \n",
      " \n",
      "The Louisiana State Board of Elementary and Secondary Education met in \n",
      "regular\n",
      " session on\n",
      " March 7, 2014\n",
      ", in the Louisiana Purcha\n",
      "se Room, located in the Claiborne \n",
      "Building in Baton Rouge, Louisiana.  The meeting was called to order at \n",
      "9:17 a.m.\n",
      " by \n",
      "Board President \n",
      "Chas Roemer\n",
      " and opened with a prayer by\n",
      " Ms. Terry Johnson, Bossier \n",
      "Parish School System\n",
      ".  \n",
      "Board members present were \n",
      "Dr. Lottie Beebe, Ms. Holly Boffy, Mr. Jim Garvey, Mr.\n",
      " Jay \n",
      "Guillot, Ms.\n",
      " Carolyn Hill, Mr. Walter Lee, \n",
      "Dr. Judith Miranti, \n",
      "Mr. Chas Roemer\n",
      ", and \n",
      "Ms. Jane Smith\n",
      ".  Ms. Connie Bradford\n",
      " and Ms. Kira Orange Jones were\n",
      " absent.\n",
      "  \n",
      "Dr. Charlie Michel, Lafourche Parish Sch\n",
      "ool System,\n",
      " led the Pledge of Allegiance.\n",
      "  Agenda\n",
      " Item 2.\n",
      " On motion of Mr. Garvey, seconded by Ms. Boffy, the Board approved the \n",
      "agenda, as printed and disseminated.\n",
      " (Schedule 1)\n",
      "  Agenda\n",
      " Item 3.\n",
      " On motion of Ms. Smith, seconded by Ms. Boffy, the Board app\n",
      "roved the \n",
      "minutes of January 15, 2014.\n",
      "  Agenda\n",
      " Item 4.\n",
      " Report by the State Superintendent of Education\n",
      "  State Superintendent of Education John White provided an update on the \n",
      "intense and increased support that the LDE is providing to teachers to \n",
      "assist wi\n",
      "th \n",
      "new academic expectations.  The LDE has established the \n",
      "following support structures:  \n",
      "(1) \n",
      "network teams are working directly with \n",
      "superintendents; \n",
      "(2) \n",
      "district planning teams and district planning guides \n",
      "have been established in every district; and \n",
      "(3) teacher leader team\n",
      "s are\n",
      " doubling to 4,000 next year.  Sample test items are being released.  The \n",
      "curriculum package for next year is being released.\n",
      "  Next year™s \n",
      "assessment guides will be produced in the following weeks.\n",
      "  \n",
      "BOARD MINUTES\n",
      " -2- MARCH 7, 2014\n",
      "     * * * * * * * * * *  On Poin\n",
      "t of Personal Privilege, Ms. Hill recognized the Capitol Senior \n",
      "High School Alumni Association for its dedication to the school and its \n",
      "students throughout several transitions, and presented a Certificate of \n",
      "Appreciation to Mr. W. T. W\n",
      "infield.\n",
      "  Agenda\n",
      " Item 5.\n",
      " Board Committee Reports\n",
      "   Agenda\n",
      " Item 5.1.\n",
      " Academic Goals and Instructional Improvement Committee\n",
      "  (Schedule 2)\n",
      "  5.1.\n",
      "1 On motion of \n",
      "Dr. Miranti,\n",
      " seconded by \n",
      "Mr. Lee,\n",
      " the Board receive\n",
      "d the \n",
      "minutes of the Accountability Commission meetings held Janua\n",
      "ry 9, 2014, \n",
      "and January 27, 2014.\n",
      "  5.1.\n",
      "2 On motion of Dr. Miranti, seconded by Mr. Lee, \n",
      "the Board \n",
      "received\n",
      " the \n",
      "minutes of the \n",
      "Special Education Advisory Panel meeting held \n",
      "February\n",
      " 20, 2014.\n",
      "  5.1.\n",
      "3 On motion of \n",
      "Dr. Beebe, \n",
      "seconded by \n",
      "Mr. Garvey,\n",
      " the \n",
      "Boar\n",
      "d approve\n",
      "d, as a Notice of Intent, revisions to Bulletin 119, \n",
      "Louisiana School \n",
      "Transportation Specifications and Procedures\n",
      ": §2509. Used School \n",
      "Buses\n",
      ", as amended and presented by the LDE\n",
      ".   * * * * * * * * * *  Public comments were received on the followi\n",
      "ng \n",
      "Academic Goals and \n",
      "Instructional Improvement Committee \n",
      "agenda item:\n",
      "  Agenda Item 3.2., ﬁConsideration of policy recommendations relative to \n",
      "the implementation of the Jump Start career education program.ﬂ\n",
      "  Support:\n",
      "  None.\n",
      " Oppose:\n",
      "  None.\n",
      " Information Only/\n",
      "Other:\n",
      "  Ms. \n",
      "Debra Schum, Louisiana Association \n",
      "of Principals.\n",
      "  \n",
      "BOARD MINUTES\n",
      " -3- MARCH 7, 2014\n",
      "    5.1.\n",
      "4 On motion of Dr. Miranti, seconded by Mr. Lee, \n",
      "the Board \n",
      "approved\n",
      ", as a \n",
      "Notice of Intent, the creation of Bulletin 138, \n",
      "Jump Start Program\n",
      ":  §101.  \n",
      "Overview, \n",
      "§201.  Jump Start Program \n",
      "Authorization, \n",
      "§301.  General \n",
      "Provisions, and \n",
      "§303.  Jump Start Instructional Staff, as presented by the \n",
      "LDE.\n",
      "  Further, the \n",
      "Board \n",
      "approved\n",
      ", as a Notice of Intent, \n",
      "the creation of \n",
      "§305.  \n",
      "Student Participation in Jump Start Programs, as amended and \n",
      "presented\n",
      ".  5.1.\n",
      "5 On motion of Dr. Miranti, seconded by Mr. Lee, \n",
      "the Board \n",
      "approved\n",
      ", as a \n",
      "Notice of Intent, revisions to Bulletin 111, \n",
      "The Louisiana School, District, \n",
      "and State Accountability System\n",
      ":  §409.  Calculating a 9\n",
      "-12 Assessment \n",
      "Index, and §613.  Calculat\n",
      "ing a Graduation Index\n",
      ", as presented by the \n",
      "LDE\n",
      ".  5.1.\n",
      "6 On motion of Dr. Miranti, seconded by Mr. Lee, \n",
      "the Board \n",
      "approved\n",
      ", as a \n",
      "Notice of Intent, revisions to Bulletin 746, \n",
      "Louisiana Standards for State \n",
      "Certification of School Personnel\n",
      ":  §501.  Introduct\n",
      "ion; adding a new \n",
      "§505.  Career and Technical Certificate Types Issued after September 1, \n",
      "2014; renumbering and renaming the original §505. to \n",
      "§506.  CTTIE\n",
      "-1 and CTTIE\n",
      "-2 Certificate Eligibility Requirements; adding a new §507.  \n",
      "CTTIE Areas of Specializatio\n",
      "n; renumbering and renaming the original \n",
      "§507. to §509.  CTTIE\n",
      "-1 Certificates Renewal Guidelines for certificates \n",
      "initially issued prior to September 1, 2014; deleting the original §509.  \n",
      "CTTIE\n",
      "-2 Certificates Renewal Guidelines; and §511.  Process for \n",
      "Rein\n",
      "stating Lapsed CTTIE Certificates\n",
      ", as presented by the LDE.\n",
      "  Further, the Board \n",
      "approved\n",
      ", as a Notice of Intent, revisions to §504.  \n",
      "Career and Technical Certificate Types Issued after July 1, 2006, as \n",
      "amended and presented.\n",
      "  5.1.\n",
      "7 On motion of Dr. Mirant\n",
      "i, seconded by Mr. Lee, \n",
      "the Board \n",
      "approved\n",
      ", as a \n",
      "Notice of Intent, revisions to Bulletin 118, \n",
      "Statewide Assessment \n",
      "Standards and Practices\n",
      ":  §701.  Overview of Assessment Programs in \n",
      "Louisiana, §2209.  WorkKeys, and §3501.  Approved Home Study \n",
      "Program Stud\n",
      "ents\n",
      ", as presented by the LDE\n",
      ".  5.1.\n",
      "8 On motion of Dr. Miranti, seconded by Mr. Lee, \n",
      "the Board \n",
      "approved\n",
      ", as a \n",
      "Notice of Intent, revisions to Bulletin 741, \n",
      "Louisiana Handbook for School \n",
      "Administrators\n",
      ":  §2317.  High Schools and §2318.  The College Diploma\n",
      ", as presented by the LDE\n",
      ".  \n",
      "BOARD MINUTES\n",
      " -4- MARCH 7, 2014\n",
      "   5.1.\n",
      "9 On motion of Dr. Miranti, seconded by Mr. Lee, \n",
      "the Board \n",
      "approved\n",
      ", as a \n",
      "Notice of Intent, revisions to Bulletin 1566, \n",
      "Pupil Progression Policies and \n",
      "Procedures\n",
      ":  §503.  Regular Placement\n",
      ", as presented by the LDE\n",
      ".  5.1.\n",
      "10 On motion of Dr. Miranti, seconded by Mr. Lee, \n",
      "the Board \n",
      "approved\n",
      ", as a \n",
      "Notice of Intent, revisions to Bulletin 111, \n",
      "The Louisiana School, District, \n",
      "and State Accountability System\n",
      ": §301. School Performance Score Goal; \n",
      "§303. Transition from Fall 2013 to Sp\n",
      "ring 2015; §413. Dropout/Credit \n",
      "Accumulation Index Calculations; §517. Inclusion of Schools; §521. \n",
      "Pairing/Sharing of Schools with Insufficient Test Data; §603. Determining \n",
      "a Cohort for \n",
      "a Graduation; §611. Documenting a Graduation Index; \n",
      "§1301. Reward Elig\n",
      "ibility; §2301. Schools Requiring \n",
      "Reconstitution/Alternate Governance Plans; §3101. Appeals/Waivers and \n",
      "Data Certification Processes; §3301. Inclusion of New Schools; §3303. \n",
      "Reconfigured Schools; §4101. Valid Data Considerations; §4301. \n",
      "Inclusion of All Di\n",
      "stricts; and §4317. District Accountability Data \n",
      "Corrections\n",
      ", as presented by the LDE\n",
      ".  Dr. Beebe was recorded as being opposed to the motion.\n",
      "  5.1.\n",
      "11 On motion of \n",
      "Dr. Miranti,\n",
      " seconded by \n",
      "Mr. Lee,\n",
      " the Board receive\n",
      "d the \n",
      "Summary of Public Comments and Age\n",
      "ncy Response regarding revisions\n",
      " to Bulletin 135, \n",
      "Health and Safety\n",
      ":  Chapter 5. \n",
      " Injury Management \n",
      "Program Rules for Serious Sports Injuries and Chapter 7: Glossary, and \n",
      "direct\n",
      "ed BESE staff to pr\n",
      "oceed\n",
      " with the final adoption of the January 20, \n",
      "2014, Notic\n",
      "e of Intent regarding revisions to Bulletin 135, \n",
      "Health and \n",
      "Safety\n",
      ", Chapters 5 and\n",
      " 7.  Agenda\n",
      " Item 5.2.\n",
      " Administration and Finance Committee\n",
      " (Schedule 3)\n",
      "   5.2.\n",
      "1 On motion of \n",
      "Mr. Guillot,\n",
      " seconded by \n",
      "Mr. Lee\n",
      ", the Board \n",
      "received\n",
      " the \n",
      "report on 8(g) monitor\n",
      "ing visits conducted by Board staff.\n",
      "  5.2.\n",
      "2 On motion of Mr. Guillot, seconded by Mr. Lee, \n",
      "the Board \n",
      "received\n",
      " the \n",
      "quarterly report from the LDE Director of Internal Audit.\n",
      "  5.2.\n",
      "3 On motion of Mr. Guillot, seconded by Mr. Lee, \n",
      "the Board \n",
      "received\n",
      " the \n",
      "repor\n",
      "t on LDE contracts of $50,000 and under approved by the State \n",
      "Superintendent of Education.\n",
      "  \n"
     ]
    },
    {
     "name": "stdout",
     "output_type": "stream",
     "text": [
      "BOARD MINUTES\n",
      " -5- MARCH 7, 2014\n",
      "    5.2.\n",
      "4 On motion of Mr. Guillot, seconded by Mr. Lee, \n",
      "the Board \n",
      "received\n",
      " the \n",
      "reports requested by the Minimum Foundation Program (MFP) Task \n",
      "Force pertaining to th\n",
      "e regulations governing students with dyslexia and \n",
      "student access to technology.\n",
      "  5.2.\n",
      "5 On motion of Mr. Guillot, seconded by Mr. Lee, \n",
      "the Board ratif\n",
      "ied\n",
      " the \n",
      "Board President's submission of the value\n",
      "-added asses\n",
      "sment model \n",
      "report to the House Committee on\n",
      " Education \n",
      "and the \n",
      "Senate \n",
      "Committee \n",
      "on Education.\n",
      "   * * * * * * * * * *  Public comments were received on the following \n",
      "Administration and \n",
      "Finance Committee \n",
      "agenda item:\n",
      "  Agenda Item 4.1., ﬁ\n",
      "Consideration of the Minimum Foundation Program \n",
      "(MFP) Formula for\n",
      " FY 2014\n",
      "-2015.ﬂ  Support:\n",
      "  None.\n",
      " Oppose:\n",
      "  None.\n",
      " Information Only/Other:\n",
      " Mr. \n",
      "Shawn Fleming, Louisiana \n",
      "Developmental Disabilities Council.\n",
      "  5.2.\n",
      "6 On motion of \n",
      "Mr. Guillot\n",
      ", seconded by \n",
      "Mr. Garvey\n",
      ", the Board\n",
      " deferred \n",
      "until a Special Board Meeting to be held d\n",
      "uring the week of March 10\n",
      "-14, \n",
      "2014:  ﬁConsideration of the Minimum Foundation Program (MFP) \n",
      "Formula for FY 2014\n",
      "-2015.ﬂ  5.2.7\n",
      " On motion of Mr. Guillot, seconded by Mr. Lee, the Board, in recognition \n",
      "that the proposed 2014\n",
      "-2015 MFP formula does not includ\n",
      "e funding for \n",
      "early childhood education, committed to developing a strategy of \n",
      "equitable early childhood education funding in future fiscal years and \n",
      "supports legislation throughout the 2014 Regular Legislative Session that \n",
      "allows for the consideration of \n",
      "4-year\n",
      "-old pre\n",
      "-kindergarten education as a \n",
      "component of elementary and secondary education.\n",
      "  5.2.\n",
      "8 On motion of \n",
      "Mr. Guillot\n",
      ", seconded by \n",
      "Mr. Lee\n",
      ", the Board approve\n",
      "d the \n",
      "revised 8(g) program and budget for FY \n",
      "2013-2014.  Dr. Beebe recused herself from voti\n",
      "ng on this item.\n",
      "  \n",
      "BOARD MINUTES\n",
      " -6- MARCH 7, 2014\n",
      "    5.2.\n",
      "9 On motion of Mr. Guillot, seconded by Mr. Lee, \n",
      "the Board approved the \n",
      "revised program and budget for the 8(g) statewide program, Early \n",
      "Childhood Literacy Program (LDE) (S069), for FY 2013\n",
      "-2014.  Dr. Beebe recused herself from vot\n",
      "ing on this item.\n",
      "  5.2.\n",
      "10 On motion of Mr. Guillot, seconded by Mr. Lee, \n",
      "the Board approved the \n",
      "revised program and budget for the 8(g) statewide program, Compass \n",
      "(LDE) (S067), for FY 2013\n",
      "-2014.  Dr. Beebe was recorded as being opposed to the motion.\n",
      "  5.2.11 On motion of Mr. Guillot, seconded by Mr. Lee,\n",
      " the Board approved the \n",
      "revised program and budget for the 8(g) statewide program, \n",
      "Expanding \n",
      "High School Choice\n",
      " (LDE) (S0\n",
      "73), for FY 2013\n",
      "-2014.  Dr. Beebe recused herself from voting on this item.\n",
      "  5.2.\n",
      "12 On motion of Mr. Guillot, seconded by Mr. Lee, \n",
      "the Board approved the \n",
      "revised program and budget for the 8(g) statewide program, \n",
      "New Schools \n",
      "Incubation Program\n",
      " (LDE) (S07\n",
      "4), for FY 2013\n",
      "-2014.  Dr. Beebe and Ms. Hill were recorded as being opposed to the m\n",
      "otion.\n",
      "    5.2.\n",
      "13 School and District Innovations\n",
      " - Other\n",
      "  On motion of Mr. Guillot, seconded by Mr. Lee, \n",
      "the Board approve\n",
      "d the \n",
      "following allocation:\n",
      "   Allocation:\n",
      "  RSD Charter School Transformation\n",
      " Amount:\n",
      "  $250,000\n",
      ".00\n",
      " Funding Period:\n",
      " 07/01/\n",
      "2013 - 06/30/\n",
      "2014 Source of Funds:\n",
      " IAT \n",
      "- 8(g)\n",
      "  Purpose:  The purpose of these funds is to support RSD transformation \n",
      "activities.\n",
      "  Basis of Allocation:  The \n",
      "LDE \n",
      "supports the efforts of the RSD to create an \n",
      "environment with the conditions necessary for charter \n",
      "schools \n",
      "to succeed \n",
      "and to support the transformation process for low\n",
      "-performing schools. \n",
      "  (Motion continues on page 7)\n",
      "  \n",
      "BOARD MINUTES\n",
      " -7- MARCH 7, 2014\n",
      "   Funds may be used to provide professional development, stabilize school \n",
      "staffing during the transformation process, provide for additional staffi\n",
      "ng \n",
      "resources needed to successfully transition a direct\n",
      "-run school to a charter \n",
      "school, and other activities that support the development of a high \n",
      "performing charter \n",
      "school \n",
      "environment.\n",
      "  Dr. Beebe recused herself from voting on this item.\n",
      "    5.2.\n",
      "14 Depar\n",
      "tmental Support \n",
      "- Other\n",
      "  On motion of Mr. Guillot, seconded by Mr. Lee, \n",
      "the Board approve\n",
      "d the \n",
      "following allocation:\n",
      "   Allocation:\n",
      "  Educator Leader Cadre Substitute Reimbursement\n",
      " Amount:\n",
      "  $1,893.36\n",
      " Funding Period:\n",
      " 10/01/\n",
      "2013 - 12/13/2014\n",
      " Source of Funds:\n",
      " Federal\n",
      "  Purpose:  The purpose of the Teacher Leader Advisors is to develop an \n",
      "understanding of the changes required of Common Core and Compass, \n",
      "including reviewing and creating materials for implementation\n",
      ", serving as \n",
      "a Common Core expert\n",
      ", assisting in bui\n",
      "lding a growing network of teacher \n",
      "leaders throughout the state\n",
      ", and attending face\n",
      "-to-face meetings to \n",
      "provide recommendations and fe\n",
      "edback on resources and tools.\n",
      "  Basis of Allocation:  Allocations to school districts are to reimburse the \n",
      "districts for t\n",
      "he substitutes paid to work while the Teacher Leader \n",
      "Advisors met in Baton Rouge on October 15\n",
      "-16, \n",
      "2013, \n",
      "and December\n",
      " 13, \n",
      "2013, to begin their work for the program.\n",
      "  Dr. Beebe recused herself from voting on this item.\n",
      "  5.2.\n",
      "15 Office of Management and Fina\n",
      "nce \n",
      "Œ Competitive\n",
      "  On motion of Mr. Guillot, seconded by Mr. Lee, \n",
      "the Board approve\n",
      "d the \n",
      "following allocation:\n",
      "   Allocation:\n",
      "  Early Childhood Community Network Pilots\n",
      " Amount:\n",
      "  $676,666.67\n",
      " Funding Period:\n",
      " 03/08/2014 - 06/30/2014\n",
      " Source of Funds:\n",
      " State \n",
      "- IAT\n",
      "  (Motion continues on page 8)\n",
      "  \n",
      "BOARD MINUTES\n",
      " -8- MARCH 7, 2014\n",
      "   Purpose:  The purpose of these funds is to support Early Childhood \n",
      "Community Network Pilots to implement the five strategies outlined in the \n",
      "Early Childhood Care and Education Network \n",
      "- Roadmap to 2015, which \n",
      "are as follows:\n",
      "  1. Unify expectations;\n",
      " 2. Support teachers and providers;\n",
      " 3. Measure and recognize progress;\n",
      " 4. Fund high quality providers; and\n",
      " 5. Provide clear information and high quality choices.\n",
      "  The ultimate goal of the Early Childhood Care and Education Network is \n",
      "to prepare ou\n",
      "r youngest learners for kindergarten.\n",
      "  Basis of Allocation:  Allocations \n",
      "were determined competitively via a \n",
      "request for applications.  The selection of the Community Network Pilots \n",
      "occurred through a two\n",
      "-step process \n",
      "Œ 1. Application review for basic \n",
      "requ\n",
      "irements and 2. Interview with the finalists\n",
      ".  The interview sought to \n",
      "determine networks that could demonstrate their readiness to work on the \n",
      "five strategies listed above.\n",
      "  Dr. Beebe recused herself from voting on this item.\n",
      "  5.2.\n",
      "16 On motion of Mr. Gui\n",
      "llot, seconded by Mr. Lee, \n",
      "the Board \n",
      "approved\n",
      " the \n",
      "following LDE contract:\n",
      "  Contractor:\n",
      "   LSU\n",
      "-Health Science Center\n",
      " Contract Period:\n",
      "  01/31/2014\n",
      " - 09/30/2014\n",
      " Contract Amount:\n",
      "  $102,734\n",
      ".00\n",
      " Fund:\n",
      "    Federal Fund \n",
      "- IDEA Part B\n",
      " Competitive Process:\n",
      " Non Competit\n",
      "ive\n",
      "  Description of Service:  This agreement will provide for activities for the \n",
      "federally funded 2008\n",
      "-2013 Deaf Blind Project for which funding was \n",
      "extended through 9/30/14 to be completed.  Activities will include building \n",
      "capacity of current and future \n",
      "educators working with students who are \n",
      "deaf-blind\n",
      ", facilitation of effective instructional strategies for students with \n",
      "deaf-blindness, and outreach and early intervention identification for \n",
      "families and service providers.\n",
      "  \n",
      "BOARD MINUTES\n",
      " -9- MARCH 7, 2014\n",
      "    5.2.\n",
      "17 On motion of Mr. Guil\n",
      "lot, seconded by Mr. Lee, \n",
      "the Board \n",
      "approved\n",
      " the \n",
      "following LDE contract:\n",
      "  Contractor:\n",
      "   Department of Health and Hospitals\n",
      " Contract Period:\n",
      "  04/01/2014 \n",
      "- 08/31/2014\n",
      " Contract Amount:\n",
      "  $196,252.00\n",
      " Fund:\n",
      "    Federal Funds \n",
      "- USDA\n",
      " Competitive Process:\n",
      " Non Compet\n",
      "itive\n",
      "  Description of Service:  \n",
      "This Interagency Agreement will provide that the \n",
      "Louisiana Department of Health and Hospitals, Office of Public Health \n",
      "(DHH), Sanitarian Services Section\n",
      ", conduct pre\n",
      "-opening inspections of \n",
      "each food service site or preparat\n",
      "ion facility participating in the SFSP.  \n",
      "The sanitarian services will perform at least one (1) other inspection \n",
      "(besides the pre\n",
      "-opening inspection) at each site/facility during the period \n",
      "of operation and record inspection results on the appropriate inspe\n",
      "ction \n",
      "form.\n",
      "  5.2.\n",
      "18 On motion of Mr. Guillot, seconded by Mr. Lee, \n",
      "the Board \n",
      "approved\n",
      " the \n",
      "following LDE contract amendment:\n",
      "  Contractor:\n",
      "   Volunteers of America North LA\n",
      " Contract Period:\n",
      "  07/01/2013\n",
      " - 06/30/2014\n",
      " Previous Amount:\n",
      "  $360,000.00\n",
      " Amended Amoun\n",
      "t:  $38,400.00\n",
      " Contract Amount:\n",
      "  $398,400\n",
      ".00\n",
      " Fund:\n",
      "    Federal \n",
      "- Title IV \n",
      "- 21st Century Community \n",
      "    Learning Centers (21\n",
      "st CCLC)\n",
      " Competitive Process:\n",
      " Competitive\n",
      "/21st CCLC RFP Process\n",
      "  Description of Service:  \n",
      "The c\n",
      "ontract provides before\n",
      "-, during\n",
      "-, and \n",
      "after\n",
      "-school academic enrichment opportunities for children attending low\n",
      "-performing schools through the establishment and operation of 21\n",
      "st Century Community Learning Centers.\n",
      "  5.2.\n",
      "19 On motion of Mr. Guillot, seconded by Mr. Lee, \n",
      "the Board \n",
      "approved\n",
      " the \n",
      "following LDE contract amendment:\n",
      "  Contractor:\n",
      "   Urban Support Agency, Inc.\n",
      " Contract Period:\n",
      "  07/01/2013\n",
      " - 06/30/2014\n",
      "  (Motion continues on page 10)\n",
      "  \n",
      "BOARD MINUTES\n",
      " -10- MARCH 7, 2014\n",
      "   Previous Amount:\n",
      "  $639,000.00\n",
      " Amended Amount:\n",
      "  $133,800.00\n",
      " Contract Amount:\n",
      "  $772,800.00\n",
      " Fund:\n",
      "    Federal \n",
      "- Title IV \n",
      "- 21st Century Community \n",
      "    Learning\n",
      " Centers (21\n",
      "st CCLC)\n",
      " Competitive Process:\n",
      " Competitive/21\n",
      "st CCLC RFP Process\n",
      "  Description of Service:  \n",
      "The c\n",
      "ontract provides before\n",
      "-, during\n",
      "-, and after\n",
      "-school academic enrichment opportunities for children at\n",
      "tending low\n",
      "-performing schools through the establishment and operation of 21\n",
      "st Century Community Learning Centers.\n",
      "  5.2.\n",
      "20 On motion of Mr. Guillot, seconded by Mr. Lee, \n",
      "the Board \n",
      "approved\n",
      " the \n",
      "following LDE contract amendment:\n",
      "  Contractor:\n",
      "   Outreach Comm\n",
      "unity Development \n",
      "Corporation\n",
      " Contract Period:\n",
      "  07/01/2013\n",
      " - 06/30/2014\n",
      " Previous Amount:\n",
      "  $240,000.00\n",
      " Amended Amount:\n",
      "  $6,000.00\n",
      " Contract Amount:\n",
      "  $246,000\n",
      ".00\n",
      " Fund:\n",
      "    Federal \n",
      "- Title IV \n",
      "- 21st Century Community \n",
      "    Learning\n",
      " Centers (21\n",
      "st CCLC)\n",
      " Competitive\n",
      " Process:\n",
      " Competitive/21\n",
      "st CCLC RFP Process\n",
      "  Description of Service:  \n",
      "The c\n",
      "ontract provides before\n",
      "-, during\n",
      "-, and after\n",
      "-school academic enrichment opportunities for children attending low\n",
      "-performing schools through the establishment and operation of 21\n",
      "st Century Community Learning Centers.\n",
      "  5.2.\n",
      "21 On motion of Mr. Guillot, seconded by Mr. Lee, \n",
      "the Board \n",
      "approved\n",
      " the \n",
      "following LDE contract\n",
      " amendment\n",
      ":  Contractor:\n",
      "   NZBC Urban Corporation\n",
      " Contract Period:\n",
      "  07/01/2013 \n",
      "- 06/30/2014\n",
      " Previous Amount:\n",
      "  $180,000.0\n",
      "0 Amended Amount:\n",
      "  $8,400.00\n",
      " Contract Amount:\n",
      "  $188,400.00\n",
      " Fund:\n",
      "    Federal \n",
      "- Title IV \n",
      "- 21st Century Community \n",
      "    Learning Centers (21\n",
      "st CCLC)\n",
      " Competitive Process:\n",
      " Competitive/21\n",
      "st CCLC RFP Process\n",
      "  (Motion continues on page 11)\n"
     ]
    },
    {
     "name": "stdout",
     "output_type": "stream",
     "text": [
      "  \n",
      "BOARD MINUTES\n",
      " -11- MARCH 7, 2014\n",
      "   Description of Service: \n",
      " The c\n",
      "ontract provides before\n",
      "-, during\n",
      "-, and after\n",
      "-school academic enrichment opportunities for children attending low\n",
      "-performing schools through the establishment and operation of 21\n",
      "st Century Community Learning Centers.\n",
      "  5.2.\n",
      "22 On motion of Mr. Guillot,\n",
      " seconded by Mr. Lee, \n",
      "the Board \n",
      "approved\n",
      " the \n",
      "following LDE contract amendment:\n",
      "  Contractor:\n",
      "   Akili Academy/Crescent City Schools\n",
      " Contract Period:\n",
      "  07/01/2013\n",
      " - 06/30/2014\n",
      " Previous Amount:\n",
      "  $492,000.00\n",
      " Amended Amount:\n",
      "  $74,400.00\n",
      " Contract Amount:\n",
      "  $566,400\n",
      ".00\n",
      " Fund:\n",
      "    Federal \n",
      "- Title IV \n",
      "- 21st Century Community \n",
      "    Learning Centers (21\n",
      "st CCLC)\n",
      " Competitive Process:\n",
      " Competitive/21\n",
      "st CCLC RFP Process\n",
      "  Description of Service:  \n",
      "The c\n",
      "ontract provides before\n",
      "-, during\n",
      "-, and after\n",
      "-school academic enrichment opportun\n",
      "ities for children attending low\n",
      "-performing schools through the establishment and operation of 21\n",
      "st Century Community Learning Centers.\n",
      "  5.2.\n",
      "23 On motion of Mr. Guillot, seconded by Mr. Lee, \n",
      "the Board \n",
      "approved\n",
      " the \n",
      "following LDE contract\n",
      " amendment:\n",
      "  Contra\n",
      "ctor:\n",
      "   Karen Boudreaux\n",
      " Contract Period:\n",
      "  02/01/2012 \n",
      "- 01/31/2015\n",
      " Previous Amount:\n",
      "  $79,500.00\n",
      " Amended Amount:\n",
      "  $25,500.00\n",
      " Contract Amount:\n",
      "  $105,000.00\n",
      " Fund:\n",
      "    Federal Fund \n",
      "- Title III\n",
      " Competitive Process:\n",
      " Non Competitive\n",
      "  Description of Service:  The co\n",
      "ntract is being amended for the contractor \n",
      "to calculate the performance of Title III subgrantee Local Education \n",
      "Agencies (LEAs) and the \n",
      "state on ESEA/NCLB Title III Annual \n",
      "Measurable Achievement Objective\n",
      "s (AMAOs) for the 2013\n",
      "-2014 school \n",
      "years, using stud\n",
      "ent assessment data (ELDA, LEAP, \n",
      "iLEAP, etc.).\n",
      "  \n",
      "BOARD MINUTES\n",
      " -12- MARCH 7, 2014\n",
      "    5.2.\n",
      "24 On motion of Mr. Guillot, seconded by Mr. Lee, \n",
      "the Board \n",
      "approved\n",
      " the \n",
      "following RSD contract \n",
      "amendment\n",
      ":  Contractor:\n",
      "   Blitch/Knevel Architects, Inc.\n",
      " Contract Period:\n",
      "  03/09/2012 \n",
      "- 03/09/2015\n",
      " Previo\n",
      "us Amount:\n",
      "  $1,473,321.00\n",
      " Amended Amount:\n",
      "  $15,433.60\n",
      " Contract Amount:\n",
      "  $1,488,754.60\n",
      " Fund:\n",
      "    IAT \n",
      "- FEMA \n",
      " Competitive Process:\n",
      " Competitive\n",
      "  Description of Service:  \n",
      "This amendment provides for the additional \n",
      "service for a Phase II environmental subsurface\n",
      " investigation, and a pre\n",
      "-renovation ACM and LBP survey for Drew\n",
      " Elementary School renovation. \n",
      "It adds three (3) days to the design time due to Hurricane Isaac and \n",
      "fourteen (14) days to design time due to historic preservation revisions.  \n",
      "This amendment pr\n",
      "ovides for reimbursable expenses for regulatory \n",
      "agency approvals and for the printing of bidding documents.\n",
      "  5.2.\n",
      "25 On motion of Mr. Guillot, seconded by Mr. Lee, \n",
      "the Board \n",
      "approved\n",
      " the \n",
      "following RSD contract:\n",
      "  Contractor:\n",
      "   Byron J. Stewart and Associate\n",
      "s, APC \n",
      "     Architects and Planners\n",
      " Contract Period:\n",
      "  03/07/2014 \n",
      "- 03/07/2017\n",
      " Contract Amount:\n",
      "  $105,034.00\n",
      " Fund:\n",
      "    IAT \n",
      "- FEMA \n",
      " Competitive Process:\n",
      " Competitive\n",
      "  Description of Service:  This project \n",
      "provides for \n",
      "the refurbishment of \n",
      "Rosenwald Elementary \n",
      "School.\n",
      "  5.2.\n",
      "26 On motion of Mr. Guillot, seconded by Mr. Lee, \n",
      "the Board \n",
      "approved\n",
      " the \n",
      "following RSD contract amendment:\n",
      "  Contractor:\n",
      "   Jacobs Project Management Company/CSRS \n",
      "     Consortium\n",
      " Contract Period:\n",
      "  12/01/2013 \n",
      "- 11/30/2016\n",
      " Previous Amount:\n",
      "  $23,5\n",
      "90,758.00\n",
      " Amended Amount:\n",
      "  $1,069,673.31\n",
      "  (Motion continues on page 13)\n",
      "  \n",
      "BOARD MINUTES\n",
      " -13- MARCH 7, 2014\n",
      "   Contract Amount:\n",
      "  $24,660,431.31\n",
      " Fund:\n",
      "    IAT \n",
      "- FEMA/Lexington Insurance Proceeds\n",
      " Competitive Process:\n",
      " Competitive\n",
      "  Description of Service:  \n",
      "This amendment provides for additional ser\n",
      "vices \n",
      "as directed by the RSD; additional service for support to RSD and ﬁOPSB \n",
      "v. Lexington, et al.;ﬂ additional service for claims consulting services; and \n",
      "additional service for grants management \n",
      "- Phase 1 \n",
      "- negative \n",
      "balance/grant debt/undocumented advanc\n",
      "es/applied payment proposal \n",
      "for the RSD multi\n",
      "-site Capital Plan.\n",
      "  5.2.\n",
      "27 On motion of Mr. Guillot, seconded by Mr. Lee, \n",
      "the Board \n",
      "approved\n",
      " the \n",
      "following RSD contract amendment:\n",
      "  Contractor:\n",
      "   Mahlum Scairono Martinez Architects, LLC\n",
      " Contract Period:\n",
      "  01/0\n",
      "7/2013 \n",
      "- 01/07/2015\n",
      " Previous Amount:\n",
      "  $35,640.00\n",
      " Amended Amount:\n",
      "  $21,390.00\n",
      " Contract Amount:\n",
      "  $57,030.00\n",
      " Fund:\n",
      "    IAT \n",
      "- FEMA \n",
      " Competitive Process:\n",
      " Competitive\n",
      "  Description of Service:  This amendment provides for the relocation of \n",
      "playground equipment at \n",
      "William Fischer School and the relocation of \n",
      "playground equipment at Little Woods Elementary School.\n",
      "  5.2.\n",
      "28 On motion of Mr. Guillot, seconded by Mr. Lee, \n",
      "the Board \n",
      "approved\n",
      " the \n",
      "following RSD contract amendment:\n",
      "  Contractor:\n",
      "   Richard C Lambert, LLC\n",
      " Cont\n",
      "ract Period:\n",
      "  06/17/2010 \n",
      "- 06/17/2014\n",
      " Previous Amount:\n",
      "  $262,656.51\n",
      " Amended Amount:\n",
      "  $8,032.24\n",
      " Contract Amount:\n",
      "  $270,688.75\n",
      " Fund:\n",
      "    IAT \n",
      "- FEMA \n",
      " Competitive Process:\n",
      " Competitive\n",
      "  Description of Service:  This \n",
      "amendment provides for the adjustment of \n",
      "the \n",
      "basic s\n",
      "ervices \n",
      "fee for Village de L™est Elementary School (\n",
      "roof) and \n",
      "modular \n",
      "demo based on the \n",
      "final \n",
      "construction \n",
      "price of the project. It also \n",
      "provides for prolonged \n",
      "contract \n",
      "administration for the \n",
      "various \n",
      "roof and \n",
      "repair \n",
      "projects based on 48 days of \n",
      "liqui\n",
      "dated \n",
      "damages at no fault of the \n",
      "designer.\n",
      "  \n",
      "BOARD MINUTES\n",
      " -14- MARCH 7, 2014\n",
      "   5.2.\n",
      "29 On motion of Mr. Guillot, seconded by Mr. Lee, \n",
      "the Board \n",
      "approved\n",
      " the \n",
      "following RSD contract amendment:\n",
      "  Contractor:\n",
      "   Shaw Environmental and Infrastructure\n",
      " Contract Period:\n",
      "  02/14/2013 \n",
      "- 02/14/2015\n",
      " Previ\n",
      "ous Amount:\n",
      "  $49,500.00\n",
      " Amended Amount:\n",
      "  $14,640.00\n",
      " Contract Amount:\n",
      "  $64,140.00\n",
      " Fund:\n",
      "    IAT \n",
      "- FEMA \n",
      " Competitive Process:\n",
      " Competitive\n",
      "  Description of Service:  This amendment provides for \n",
      "additional \n",
      "services \n",
      "for \n",
      "corrective \n",
      "action \n",
      "work \n",
      "plan \n",
      "preparation.\n",
      "  5.2.\n",
      "30 On motion of Mr. Guillot, seconded by Mr. Lee, \n",
      "the Board \n",
      "approved\n",
      " the \n",
      "following RSD contract:\n",
      "  Contractor:\n",
      "   VergesRome Architects, APAC\n",
      " Contract Period:\n",
      "  03/07/2014 \n",
      "- 03/07/2017\n",
      " Contract Amount:\n",
      "  $2,696,406.00\n",
      " Fund:\n",
      "    IAT \n",
      "- FEMA \n",
      " Competitive Proce\n",
      "ss: Competitive\n",
      "  Description of Service:  This project consists of the renovation of John \n",
      "McDonogh High School.\n",
      "  5.2.\n",
      "31 On motion of Mr. Guillot, seconded by Mr. Lee, \n",
      "the Board \n",
      "approved\n",
      " the \n",
      "following RSD contract amendment:\n",
      "  Contractor:\n",
      "   VergesRome Archi\n",
      "tects, APAC\n",
      " Contract Period:\n",
      "  10/16/2013 \n",
      "- 10/16/2016\n",
      " Previous Amount:\n",
      "  $265,287.00\n",
      " Amended Amount:\n",
      "  $20,625.00\n",
      " Contract Amount:\n",
      "  $285,912.00\n",
      " Fund:\n",
      "    IAT \n",
      "- FEMA \n",
      " Competitive Process:\n",
      " Competitive\n",
      "  Description of Service:  This\n",
      " amendment provides for the ad\n",
      "ditional \n",
      "services for a water flow test, a \n",
      "Phase \n",
      "I environmental site assessment\n",
      ", lead \n",
      "and asbestos investigation\n",
      ", and a topographic survey for Live Oak \n",
      "Elementary School \n",
      "refurbishment.\n",
      "  \n",
      "BOARD MINUTES\n",
      " -15- MARCH 7, 2014\n",
      "    5.2.\n",
      "32 On motion of Mr. Guillot, seconded by Mr. Lee, \n",
      "the Board \n",
      "approved\n",
      " the \n",
      "following RSD contract amendment:\n",
      "  Contractor:\n",
      "   VergesRome Architects, APAC\n",
      " Contract Period:\n",
      "  09/16/2010 \n",
      "- 09/16/2015\n",
      " Previous Amount:\n",
      "  $944,413.20\n",
      " Amended Amount:\n",
      "  $38,546.20\n",
      " Contract Amount:\n",
      "  $982,959.40\n",
      " Fund:\n",
      "    IAT \n",
      "- FEMA \n",
      " Competitive Proce\n",
      "ss: Competitive\n",
      "  Description of Service:  This amendment adjusts the \n",
      "designer™s \n",
      "fee for \n",
      "basic \n",
      "services for \n",
      "mothballing of \n",
      "closed \n",
      "schools \n",
      "- safe and \n",
      "secure at \n",
      "George Mondy Elementary School based on the revised AFC.  The \n",
      "project was canceled\n",
      ", but is now bei\n",
      "ng reinstated by the \n",
      "owner\n",
      ", and additional scope of work is being added to the project.  It also provides for \n",
      "the addition of a new project and project number \n",
      "for d\n",
      "emolition of \n",
      "the \n",
      "caretaker™s \n",
      "cottage at George Mondy Elementary School and \n",
      "at \n",
      "Andrew \n",
      "J. Bell\n",
      " Junior \n",
      "High School.\n",
      "  5.2.\n",
      "33 On motion of Mr. Guillot, seconded by Mr. Lee, \n",
      "the Board \n",
      "approved\n",
      " the \n",
      "following RSD contract amendment:\n",
      "  Contractor:\n",
      "   Waggonner and Ball Architects, APC\n",
      " Contract Period:\n",
      "  08/15/2012 \n",
      "- 08/15/2015\n",
      " Previous Amount:\n",
      "  $1,151,421.0\n",
      "8 Amended Amount:\n",
      "  $5,500.00\n",
      " Contract Amount:\n",
      "  $1,156,921.08\n",
      " Fund:\n",
      "    IAT \n",
      "- FEMA \n",
      " Competitive Process:\n",
      " Competitive\n",
      "  Description of Service:  This amendment provides for \n",
      "additional \n",
      "services \n",
      "for a land survey at \n",
      "the n\n",
      "ew \n",
      "three\n",
      "-section PK\n",
      "-8 school at Sherwood \n",
      "Forest School (New \n",
      "Œ PK-8).\n",
      "  5.2.\n",
      "34 On motion of Mr. Guillot, seconded by Mr. Lee, \n",
      "the Board:\n",
      "  a. approved\n",
      " the \n",
      "Change \n",
      "Order for the construction contract with C.D.W. \n",
      "Services, L.L.C., for the mothballing of Andrew J. Bell Junior High \n",
      "School (project number 2\n",
      "011-0853-0001) in the amount of \n",
      "  (Motion continues on page 16)\n",
      "  \n",
      "BOARD MINUTES\n",
      " -16- MARCH 7, 2014\n",
      "   $361,334.40 in order to provide for: \n",
      " (1) removal of Regulated \n",
      "Asbestos\n",
      "-Containing Materials (RACM) for all hazardous materials in \n",
      "Building\n",
      "-E (Christy Building) and Building A (Annex Building\n",
      ") due to \n",
      "construction debris and finishes that were dislodged during the \n",
      "necessary repairs to structural walls; \n",
      "(2) installation of a course of \n",
      "brick and mortar cap over the brick wall at the demolished breezeway \n",
      "roof; and \n",
      "(3) general contractor's performa\n",
      "nce and payment bonds \n",
      "and overhead and\n",
      " profit for the additional work; and\n",
      "  b. directed\n",
      " the RSD to submit the approved Change Order for \n",
      "consideration and approval at the next regularly scheduled meeting of \n",
      "\n",
      "the Joint Legislative Committee on the Budget.\n",
      "  5.2.\n",
      "35 On motion of Mr. Guillot, seconded by Mr. Lee, \n",
      "the Board:\n",
      "  a. approved\n",
      " the Change \n",
      "Order for the construction contract with FHP \n",
      "Tectonics Corporation for the refurbishment of Frederick A. Douglass \n",
      "\n",
      "High School (project number: 2012\n",
      "-0868-0001) in the amount o\n",
      "f $378,871.98 in order to provide for: \n",
      " (1) asbestos removal associated \n",
      "with classroom window replacement, due to the uncovering of \n",
      "unforeseen caulk at these openings that consisted of \n",
      "Regulated \n",
      "Asbestos\n",
      "-Containing \n",
      "Material\n",
      "s (RACM)\n",
      "; (2) repair of existing \n",
      "Reinforced \n",
      "Concrete \n",
      "Pipe (RCP); and \n",
      "(3) deletion of the installation of \n",
      "flood gates and \n",
      "Fiber \n",
      "Reinforced \n",
      "Panels (FRP) for the gymnasium, at \n",
      "the owner™\n",
      "s request; and\n",
      "  b. directed\n",
      " the RSD to submit the approved Change Order for \n",
      "consideration and approval at the\n",
      " next regularly scheduled meeting of \n",
      "the Joint Legislative Committee on the Budget.\n",
      "  5.2.\n",
      "36 On motion of Mr. Guillot, seconded by Mr. Lee, \n",
      "the Board \n",
      "received\n",
      " the \n",
      "report on the BESE Budget.\n",
      "  5.2.\n",
      "37 On motion of Mr. Guillot, seconded by Mr. Lee, \n",
      "the Board \n",
      "received\n",
      " the \n",
      "BESE member notification protocol developed by the State \n",
      "Superintendent\n",
      " of Education.\n",
      "  5.2.\n",
      "38 On motion of Mr. Guillot, seconded by Mr. Lee, \n",
      "the Board\n",
      " approved, as a \n",
      "Notice of Intent, revisions to Bulletin 1929, \n",
      "Louisiana Accounting and \n",
      "Unifo\n",
      "rm Governmental Handbook\n",
      ", adding Chapter 15. Expenditure \n",
      "Requirements, §1501. Seventy Percent Expenditure Requirement.\n",
      "  \n",
      "BOARD MINUTES\n",
      " -17- MARCH 7, 2014\n",
      "    Agenda\n",
      " Item 5.3.\n",
      " Educator Effectiveness Committee\n",
      " (Schedule 4)\n",
      "   5.3.\n",
      "1 On motion of \n",
      "Ms. Boffy\n",
      ", seconded by \n",
      "Mr. Guillot\n",
      ", the Board re\n",
      "ceive\n",
      "d the \n",
      "update regarding the study of the state accountability system and \n",
      "value\n",
      "-added model.\n",
      "  5.3.\n",
      "2 On motion of Ms. Boffy, seconded by Mr. Guillot, \n",
      "the Board \n",
      "deferred until \n",
      "April 2014:  ﬁConsideration of\n",
      " revisions to Bulletin 746, \n",
      "Louisiana \n",
      "Standards \n",
      "for State Cer\n",
      "tification of School Personnel,\n",
      " regarding \n",
      "endorsements to existing teaching certificates\n",
      ".ﬂ  Agenda\n",
      " Item 5.4.\n",
      " School Innovation and Turnaround Committee\n",
      " (Schedule 5)\n",
      "   5.4.\n",
      "1 On motion of \n",
      "Mr. Garvey\n",
      ", seconded by\n",
      " Mr. Lee, the Board approve\n",
      "d the\n",
      " request for a material amendment to the charter governing Linwood \n",
      "Public Charter School, operated by Shreveport Charter Schools, Inc., to \n",
      "add kindergarten and first grade in the fall of 2014 and expand an \n",
      "additional grade per year until the school serves \n",
      "grades K\n",
      "-8.   * * * * * * * * * *  Public comments were received on the following \n",
      "School Innovation and \n",
      "Turnaround Committee \n",
      "agenda item:\n",
      "  Agenda Item 3.1., ﬁ\n",
      "Consideration of \n",
      "revisions to Bulletin 126, \n",
      "Charter \n",
      "Schools\n",
      ", regarding charter school renewal and\n",
      " extension, evaluation of \n",
      "alternative charter schools, and streamlining of policies.ﬂ\n",
      "  Support:\n",
      "  None.\n",
      " Oppose:\n",
      "  None.\n",
      " Information Only/Other:\n",
      " Mr. \n",
      "Shawn Fleming, Louisiana \n",
      "Developmental Disabilities Council.\n",
      "  5.4.\n",
      "2 On motion of Mr. Garvey, seconded by Mr. \n",
      "Guillot, the Board approved, \n",
      "as a Notice of Intent, revisions to Bulletin 126, \n",
      "Charter Schools\n",
      ": §103. \n",
      "Definitions\n",
      "; §105. Purpose of Charter Schools\n",
      "; §505. Eligibility to Apply \n",
      "for a Type 4 Charter School\n",
      "; §1101. Charter School Evaluation\n",
      "; §1103. \n",
      "Alternate \n",
      "Evaluation of Charter Schools\n",
      "; §1303. Extension Review\n",
      "; §1503. Charter Renewal Process and Timeline\n",
      "; §1903. Material \n",
      "  (Motion continues on page 18)\n",
      " \n"
     ]
    },
    {
     "name": "stdout",
     "output_type": "stream",
     "text": [
      "BOARD MINUTES\n",
      " -18- MARCH 7, 2014\n",
      "    Amendments for BESE\n",
      "-Authorized Charter Schools\n",
      "; §1905. Non\n",
      "-Material \n",
      "Amendments for BESE\n",
      "-Authorized Charter\n",
      " Schools\n",
      "; §2301. State \n",
      "Funding\n",
      "; §2303. Federal Funding\n",
      "; §2713. At\n",
      "-Risk Students\n",
      "; §2907.  \n",
      "Leave of Absence\n",
      "; and §2909. Employee Benefits, as presented by the \n",
      "LDE.\n",
      "  Dr. Beebe and Ms. Hill were recorded as being opposed to the motion.\n",
      "  Agenda\n",
      " Item 6.\n",
      " Board A\n",
      "dvisory Council Reports\n",
      "   Agenda\n",
      " Item 6.1.\n",
      " Nonpublic School Council\n",
      " (Schedule 6)\n",
      "  On motion of Dr. Miranti, seconded by Mr. Guillot, the Board received the \n",
      "minutes of the Nonpublic School Council meeting held February 4, 2014, \n",
      "and approved the tentative a\n",
      "genda for March 25, 2014.\n",
      "  Agenda\n",
      " Item 6.2.\n",
      " Superintendents™ Advisory Council\n",
      " (Schedule 7)\n",
      "  On motion of \n",
      "Dr. Miranti,\n",
      " seconded by \n",
      "Mr. Guillot,\n",
      " the Board received the \n",
      "minutes of the\n",
      " Superintendents™ Advisory Council meeting held \n",
      "February\n",
      " 13, 2014, and appr\n",
      "oved the tentative agenda for March\n",
      " 20, \n",
      "2014.  With no further business to come before the Board, the meeting was adjourned at \n",
      "10:15\n",
      " a.m.\n",
      "  \n"
     ]
    }
   ],
   "source": [
    "for pageNum in range(reader.numPages):\n",
    "    print(reader.getPage(pageNum).extractText())"
   ]
  },
  {
   "cell_type": "code",
   "execution_count": 431,
   "metadata": {},
   "outputs": [],
   "source": [
    "## Creating PDF Documents\n",
    "\n",
    "import PyPDF2\n",
    "\n",
    "pdf1File = open('meetingminutes1.pdf','rb')\n",
    "pdf2File = open('meetingminutes2.pdf','rb')\n",
    "reader1 = PyPDF2.PdfFileReader(pdf1File)\n",
    "reader2 = PyPDF2.PdfFileReader(pdf2File)"
   ]
  },
  {
   "cell_type": "code",
   "execution_count": 432,
   "metadata": {},
   "outputs": [],
   "source": [
    "writer = PyPDF2.PdfFileWriter()\n",
    "\n",
    "for pageNum in range(reader1.numPages):\n",
    "    page = reader1.getPage(pageNum)\n",
    "    writer.addPage(page)"
   ]
  },
  {
   "cell_type": "code",
   "execution_count": null,
   "metadata": {},
   "outputs": [],
   "source": [
    "for pageNum in range(reader2.numPages):\n",
    "    page = reader2.getPage(pageNum)\n",
    "    writer.addPage(page)"
   ]
  },
  {
   "cell_type": "code",
   "execution_count": 433,
   "metadata": {},
   "outputs": [],
   "source": [
    "outputFile = open('combineminutes.pdf','wb')\n",
    "writer.write(outputFile)\n",
    "outputFile.close()\n",
    "pdf1File.close()\n",
    "pdf2File.close()"
   ]
  },
  {
   "cell_type": "code",
   "execution_count": 435,
   "metadata": {},
   "outputs": [
    {
     "name": "stdout",
     "output_type": "stream",
     "text": [
      "Document Title\n",
      "A plain paragraph having some bold and some italic.\n",
      "Heading, level 1\n",
      "Intense quote\n",
      "first item in unordered list\n",
      "first item in ordered list\n",
      "\n",
      "\n"
     ]
    }
   ],
   "source": [
    "## Reading Word documents and Creating new Doc\n",
    "\n",
    "import docx\n",
    "wordDocument = docx.Document('demo.docx')\n",
    "for document in range(len(wordDocument.paragraphs)):\n",
    "    print(wordDocument.paragraphs[document].text)"
   ]
  },
  {
   "cell_type": "code",
   "execution_count": 436,
   "metadata": {},
   "outputs": [
    {
     "data": {
      "text/plain": [
       "'Document Title'"
      ]
     },
     "execution_count": 436,
     "metadata": {},
     "output_type": "execute_result"
    }
   ],
   "source": [
    "wordDocument.paragraphs[0].text"
   ]
  },
  {
   "cell_type": "code",
   "execution_count": 437,
   "metadata": {},
   "outputs": [
    {
     "data": {
      "text/plain": [
       "[<docx.text.run.Run at 0x21d15700080>,\n",
       " <docx.text.run.Run at 0x21d157000b8>,\n",
       " <docx.text.run.Run at 0x21d15700160>,\n",
       " <docx.text.run.Run at 0x21d157002e8>]"
      ]
     },
     "execution_count": 437,
     "metadata": {},
     "output_type": "execute_result"
    }
   ],
   "source": [
    "para2 = wordDocument.paragraphs[1]\n",
    "para2.runs"
   ]
  },
  {
   "cell_type": "code",
   "execution_count": 438,
   "metadata": {},
   "outputs": [
    {
     "name": "stdout",
     "output_type": "stream",
     "text": [
      "A plain paragraph having some \n",
      "bold\n",
      " and some \n",
      "italic.\n"
     ]
    }
   ],
   "source": [
    "for run in range(len(para2.runs)):\n",
    "    print(para2.runs[run].text)"
   ]
  },
  {
   "cell_type": "code",
   "execution_count": 440,
   "metadata": {},
   "outputs": [
    {
     "data": {
      "text/plain": [
       "' and some '"
      ]
     },
     "execution_count": 440,
     "metadata": {},
     "output_type": "execute_result"
    }
   ],
   "source": [
    "para2.runs[2].underline = True\n",
    "para2.runs[2].text"
   ]
  },
  {
   "cell_type": "code",
   "execution_count": 441,
   "metadata": {},
   "outputs": [],
   "source": [
    "wordDocument.save('demo2.docx')"
   ]
  },
  {
   "cell_type": "code",
   "execution_count": 443,
   "metadata": {},
   "outputs": [
    {
     "data": {
      "text/plain": [
       "<docx.text.paragraph.Paragraph at 0x21d157440b8>"
      ]
     },
     "execution_count": 443,
     "metadata": {},
     "output_type": "execute_result"
    }
   ],
   "source": [
    "## Create new Word Document\n",
    "newDocument = docx.Document()\n",
    "newDocument.add_paragraph('Hello this is a paragraph')"
   ]
  },
  {
   "cell_type": "code",
   "execution_count": 444,
   "metadata": {},
   "outputs": [],
   "source": [
    "newDocument.add_paragraph('This is a new paragraph')\n",
    "newDocument.save('demo3.docx')"
   ]
  },
  {
   "cell_type": "code",
   "execution_count": 445,
   "metadata": {},
   "outputs": [
    {
     "data": {
      "text/plain": [
       "[<docx.text.run.Run at 0x21d157440f0>, <docx.text.run.Run at 0x21d15744e10>]"
      ]
     },
     "execution_count": 445,
     "metadata": {},
     "output_type": "execute_result"
    }
   ],
   "source": [
    "newrun = newDocument.paragraphs[0]\n",
    "newrun.add_run('This is a new run.')\n",
    "newrun.runs"
   ]
  },
  {
   "cell_type": "code",
   "execution_count": 446,
   "metadata": {},
   "outputs": [],
   "source": [
    "newrun.runs[1].bold = True\n",
    "newrun.runs[1].underline = True\n"
   ]
  },
  {
   "cell_type": "code",
   "execution_count": 447,
   "metadata": {},
   "outputs": [],
   "source": [
    "newDocument.save('demo4.docx')"
   ]
  },
  {
   "cell_type": "code",
   "execution_count": 450,
   "metadata": {},
   "outputs": [],
   "source": [
    "## Sending Emails using Python Module\n",
    "# Email Automation\n",
    "# Protocol used for Email is SMTP (Simple Mail Transfer protocol)\n",
    "import smtplib"
   ]
  },
  {
   "cell_type": "code",
   "execution_count": 451,
   "metadata": {},
   "outputs": [],
   "source": [
    "connection = smtplib.SMTP('smtp.gmail.com',587)"
   ]
  },
  {
   "cell_type": "code",
   "execution_count": 452,
   "metadata": {},
   "outputs": [
    {
     "data": {
      "text/plain": [
       "<smtplib.SMTP at 0x21d1570a208>"
      ]
     },
     "execution_count": 452,
     "metadata": {},
     "output_type": "execute_result"
    }
   ],
   "source": [
    "connection"
   ]
  },
  {
   "cell_type": "code",
   "execution_count": 453,
   "metadata": {},
   "outputs": [
    {
     "data": {
      "text/plain": [
       "(250,\n",
       " b'smtp.gmail.com at your service, [60.243.8.179]\\nSIZE 35882577\\n8BITMIME\\nSTARTTLS\\nENHANCEDSTATUSCODES\\nPIPELINING\\nCHUNKING\\nSMTPUTF8')"
      ]
     },
     "execution_count": 453,
     "metadata": {},
     "output_type": "execute_result"
    }
   ],
   "source": [
    "connection.ehlo() #Starting email"
   ]
  },
  {
   "cell_type": "code",
   "execution_count": 454,
   "metadata": {},
   "outputs": [
    {
     "data": {
      "text/plain": [
       "(220, b'2.0.0 Ready to start TLS')"
      ]
     },
     "execution_count": 454,
     "metadata": {},
     "output_type": "execute_result"
    }
   ],
   "source": [
    "connection.starttls() # TLS Encryption for Password"
   ]
  },
  {
   "cell_type": "code",
   "execution_count": 464,
   "metadata": {},
   "outputs": [
    {
     "ename": "SMTPAuthenticationError",
     "evalue": "(535, b'5.7.8 Username and Password not accepted. Learn more at\\n5.7.8  https://support.google.com/mail/?p=BadCredentials m7sm2295219pjb.7 - gsmtp')",
     "output_type": "error",
     "traceback": [
      "\u001b[1;31m---------------------------------------------------------------------------\u001b[0m",
      "\u001b[1;31mSMTPAuthenticationError\u001b[0m                   Traceback (most recent call last)",
      "\u001b[1;32m<ipython-input-464-b9533d53230b>\u001b[0m in \u001b[0;36m<module>\u001b[1;34m()\u001b[0m\n\u001b[1;32m----> 1\u001b[1;33m \u001b[0mconnection\u001b[0m\u001b[1;33m.\u001b[0m\u001b[0mlogin\u001b[0m\u001b[1;33m(\u001b[0m\u001b[1;34m'110298romu@gmail.com'\u001b[0m\u001b[1;33m,\u001b[0m\u001b[1;34m'9891853986'\u001b[0m\u001b[1;33m)\u001b[0m\u001b[1;33m\u001b[0m\u001b[0m\n\u001b[0m\u001b[0;32m      2\u001b[0m \u001b[0mconnection\u001b[0m\u001b[1;33m.\u001b[0m\u001b[0msendmail\u001b[0m\u001b[1;33m(\u001b[0m\u001b[1;34m'110298romu@gmail.com'\u001b[0m\u001b[1;33m,\u001b[0m\u001b[1;34m'tromu98@gmail.com'\u001b[0m\u001b[1;33m,\u001b[0m\u001b[1;34m'Subject: Something\\n\\nDear Romu,\\nIts been so long and thanks.\\n-Romu\\n\\n'\u001b[0m\u001b[1;33m)\u001b[0m\u001b[1;33m\u001b[0m\u001b[0m\n\u001b[0;32m      3\u001b[0m \u001b[1;31m#returns an empty dictionary if all mails are sent properly\u001b[0m\u001b[1;33m\u001b[0m\u001b[1;33m\u001b[0m\u001b[0m\n",
      "\u001b[1;32m~\\Anaconda3\\lib\\smtplib.py\u001b[0m in \u001b[0;36mlogin\u001b[1;34m(self, user, password, initial_response_ok)\u001b[0m\n\u001b[0;32m    728\u001b[0m \u001b[1;33m\u001b[0m\u001b[0m\n\u001b[0;32m    729\u001b[0m         \u001b[1;31m# We could not login successfully.  Return result of last attempt.\u001b[0m\u001b[1;33m\u001b[0m\u001b[1;33m\u001b[0m\u001b[0m\n\u001b[1;32m--> 730\u001b[1;33m         \u001b[1;32mraise\u001b[0m \u001b[0mlast_exception\u001b[0m\u001b[1;33m\u001b[0m\u001b[0m\n\u001b[0m\u001b[0;32m    731\u001b[0m \u001b[1;33m\u001b[0m\u001b[0m\n\u001b[0;32m    732\u001b[0m     \u001b[1;32mdef\u001b[0m \u001b[0mstarttls\u001b[0m\u001b[1;33m(\u001b[0m\u001b[0mself\u001b[0m\u001b[1;33m,\u001b[0m \u001b[0mkeyfile\u001b[0m\u001b[1;33m=\u001b[0m\u001b[1;32mNone\u001b[0m\u001b[1;33m,\u001b[0m \u001b[0mcertfile\u001b[0m\u001b[1;33m=\u001b[0m\u001b[1;32mNone\u001b[0m\u001b[1;33m,\u001b[0m \u001b[0mcontext\u001b[0m\u001b[1;33m=\u001b[0m\u001b[1;32mNone\u001b[0m\u001b[1;33m)\u001b[0m\u001b[1;33m:\u001b[0m\u001b[1;33m\u001b[0m\u001b[0m\n",
      "\u001b[1;32m~\\Anaconda3\\lib\\smtplib.py\u001b[0m in \u001b[0;36mlogin\u001b[1;34m(self, user, password, initial_response_ok)\u001b[0m\n\u001b[0;32m    719\u001b[0m                 (code, resp) = self.auth(\n\u001b[0;32m    720\u001b[0m                     \u001b[0mauthmethod\u001b[0m\u001b[1;33m,\u001b[0m \u001b[0mgetattr\u001b[0m\u001b[1;33m(\u001b[0m\u001b[0mself\u001b[0m\u001b[1;33m,\u001b[0m \u001b[0mmethod_name\u001b[0m\u001b[1;33m)\u001b[0m\u001b[1;33m,\u001b[0m\u001b[1;33m\u001b[0m\u001b[0m\n\u001b[1;32m--> 721\u001b[1;33m                     initial_response_ok=initial_response_ok)\n\u001b[0m\u001b[0;32m    722\u001b[0m                 \u001b[1;31m# 235 == 'Authentication successful'\u001b[0m\u001b[1;33m\u001b[0m\u001b[1;33m\u001b[0m\u001b[0m\n\u001b[0;32m    723\u001b[0m                 \u001b[1;31m# 503 == 'Error: already authenticated'\u001b[0m\u001b[1;33m\u001b[0m\u001b[1;33m\u001b[0m\u001b[0m\n",
      "\u001b[1;32m~\\Anaconda3\\lib\\smtplib.py\u001b[0m in \u001b[0;36mauth\u001b[1;34m(self, mechanism, authobject, initial_response_ok)\u001b[0m\n\u001b[0;32m    640\u001b[0m         \u001b[1;32mif\u001b[0m \u001b[0mcode\u001b[0m \u001b[1;32min\u001b[0m \u001b[1;33m(\u001b[0m\u001b[1;36m235\u001b[0m\u001b[1;33m,\u001b[0m \u001b[1;36m503\u001b[0m\u001b[1;33m)\u001b[0m\u001b[1;33m:\u001b[0m\u001b[1;33m\u001b[0m\u001b[0m\n\u001b[0;32m    641\u001b[0m             \u001b[1;32mreturn\u001b[0m \u001b[1;33m(\u001b[0m\u001b[0mcode\u001b[0m\u001b[1;33m,\u001b[0m \u001b[0mresp\u001b[0m\u001b[1;33m)\u001b[0m\u001b[1;33m\u001b[0m\u001b[0m\n\u001b[1;32m--> 642\u001b[1;33m         \u001b[1;32mraise\u001b[0m \u001b[0mSMTPAuthenticationError\u001b[0m\u001b[1;33m(\u001b[0m\u001b[0mcode\u001b[0m\u001b[1;33m,\u001b[0m \u001b[0mresp\u001b[0m\u001b[1;33m)\u001b[0m\u001b[1;33m\u001b[0m\u001b[0m\n\u001b[0m\u001b[0;32m    643\u001b[0m \u001b[1;33m\u001b[0m\u001b[0m\n\u001b[0;32m    644\u001b[0m     \u001b[1;32mdef\u001b[0m \u001b[0mauth_cram_md5\u001b[0m\u001b[1;33m(\u001b[0m\u001b[0mself\u001b[0m\u001b[1;33m,\u001b[0m \u001b[0mchallenge\u001b[0m\u001b[1;33m=\u001b[0m\u001b[1;32mNone\u001b[0m\u001b[1;33m)\u001b[0m\u001b[1;33m:\u001b[0m\u001b[1;33m\u001b[0m\u001b[0m\n",
      "\u001b[1;31mSMTPAuthenticationError\u001b[0m: (535, b'5.7.8 Username and Password not accepted. Learn more at\\n5.7.8  https://support.google.com/mail/?p=BadCredentials m7sm2295219pjb.7 - gsmtp')"
     ]
    }
   ],
   "source": [
    "connection.login('110298romu@gmail.com','9891853986')\n",
    "connection.sendmail('110298romu@gmail.com','tromu98@gmail.com','Subject: Something\\n\\nDear Romu,\\nIts been so long and thanks.\\n-Romu\\n\\n')\n",
    "#returns an empty dictionary if all mails are sent properly\n"
   ]
  },
  {
   "cell_type": "code",
   "execution_count": 465,
   "metadata": {},
   "outputs": [
    {
     "data": {
      "text/plain": [
       "(221, b'2.0.0 closing connection m7sm2295219pjb.7 - gsmtp')"
      ]
     },
     "execution_count": 465,
     "metadata": {},
     "output_type": "execute_result"
    }
   ],
   "source": [
    "connection.quit()"
   ]
  },
  {
   "cell_type": "code",
   "execution_count": 468,
   "metadata": {},
   "outputs": [],
   "source": [
    "## Checking Mail Inbox\n",
    "# IMAP protocol is used to cmmunicate to ur email address\n",
    "import imapclient\n",
    "#import pyzmail\n",
    "conn = imapclient.IMAPClient('imap.gmail.com',ssl=True)"
   ]
  },
  {
   "cell_type": "code",
   "execution_count": null,
   "metadata": {},
   "outputs": [],
   "source": [
    "conn.login('tromu98@gmail.com','afiuahauadfa')\n",
    "conn.select_folder('INBOX', readonly=True)\n",
    "UIDs = conn.search(['SINCE 20-AUG-2017']) #get UIDs here\n",
    "conn.fetch([UID], ['BODY','FLAGS']) #pass UIDs\n",
    "rawMessage = conn.fetch([UID], ['BODY','FLAGS'])\n",
    "\n",
    "\n",
    "import pyzmail\n",
    "message = pyzmail.PyzMessage.factory(rawMessage[UID][b'BODY[]'])\n",
    "message.get_subject() #get subject\n",
    "message.get_addresses('from') #get addresses\n",
    "message.get_addresses('to')\n",
    "message.get_addresses('bcc')\n",
    "\n",
    "message.text_part # text/plain or html mail\n",
    "message.text_part.get_payload.decode('UTF-8') # to get actual mail\n",
    "\n",
    "conn.logout()# to logout\n",
    "\n",
    "#if we want to get all the folders to look into\n",
    "conn.list_folders() # tuple value\n",
    "# to delete mails\n",
    "conn.select_folder('INBOX',readonly=False)\n",
    "UIDs = conn.search(['ON 24-AUG-2015'])\n",
    "UIDs\n",
    "conn.delete_messages(UIDS) # list of UIDS to pass\n",
    "\n"
   ]
  },
  {
   "cell_type": "code",
   "execution_count": 469,
   "metadata": {},
   "outputs": [],
   "source": [
    "## GUI Automation\n",
    "# using pyautogui module\n",
    "import pyautogui"
   ]
  },
  {
   "cell_type": "code",
   "execution_count": 471,
   "metadata": {},
   "outputs": [],
   "source": [
    "width,height = pyautogui.size()"
   ]
  },
  {
   "cell_type": "code",
   "execution_count": 472,
   "metadata": {},
   "outputs": [
    {
     "data": {
      "text/plain": [
       "1366"
      ]
     },
     "execution_count": 472,
     "metadata": {},
     "output_type": "execute_result"
    }
   ],
   "source": [
    "width"
   ]
  },
  {
   "cell_type": "code",
   "execution_count": 473,
   "metadata": {},
   "outputs": [
    {
     "data": {
      "text/plain": [
       "768"
      ]
     },
     "execution_count": 473,
     "metadata": {},
     "output_type": "execute_result"
    }
   ],
   "source": [
    "height"
   ]
  },
  {
   "cell_type": "code",
   "execution_count": 474,
   "metadata": {},
   "outputs": [
    {
     "data": {
      "text/plain": [
       "Point(x=861, y=633)"
      ]
     },
     "execution_count": 474,
     "metadata": {},
     "output_type": "execute_result"
    }
   ],
   "source": [
    "pyautogui.position()"
   ]
  },
  {
   "cell_type": "code",
   "execution_count": 475,
   "metadata": {},
   "outputs": [
    {
     "data": {
      "text/plain": [
       "Point(x=820, y=707)"
      ]
     },
     "execution_count": 475,
     "metadata": {},
     "output_type": "execute_result"
    }
   ],
   "source": [
    "pyautogui.position()"
   ]
  },
  {
   "cell_type": "code",
   "execution_count": 476,
   "metadata": {},
   "outputs": [],
   "source": [
    "pyautogui.moveTo(100,100)\n",
    "#Will automatically move cursor to position"
   ]
  },
  {
   "cell_type": "code",
   "execution_count": 477,
   "metadata": {},
   "outputs": [],
   "source": [
    "pyautogui.moveTo(100,100,duration=1)\n",
    "## specify duration"
   ]
  },
  {
   "cell_type": "code",
   "execution_count": 479,
   "metadata": {},
   "outputs": [],
   "source": [
    "pyautogui.moveRel(200,0)\n",
    "# move relative to current cursor"
   ]
  },
  {
   "cell_type": "code",
   "execution_count": 480,
   "metadata": {},
   "outputs": [
    {
     "data": {
      "text/plain": [
       "Point(x=891, y=136)"
      ]
     },
     "execution_count": 480,
     "metadata": {},
     "output_type": "execute_result"
    }
   ],
   "source": [
    "pyautogui.position()"
   ]
  },
  {
   "cell_type": "code",
   "execution_count": 481,
   "metadata": {},
   "outputs": [],
   "source": [
    "pyautogui.click(891,136)\n",
    "\n",
    "# We can also do\n",
    "pyautogui.rightClick()\n",
    "pyautogui.middleClick()\n",
    "pyautogui.leftClick()\n",
    "pyautogui.doubleClick()\n",
    "\n",
    "## same arguments for them also\n"
   ]
  },
  {
   "cell_type": "code",
   "execution_count": 490,
   "metadata": {},
   "outputs": [
    {
     "name": "stdout",
     "output_type": "stream",
     "text": [
      "200 0\n",
      "0 175\n",
      "-175 0\n",
      "0 -150\n",
      "150 0\n",
      "0 125\n",
      "-125 0\n",
      "0 -100\n",
      "100 0\n",
      "0 75\n",
      "-75 0\n",
      "0 -50\n",
      "50 0\n",
      "0 25\n",
      "-25 0\n",
      "0 0\n"
     ]
    }
   ],
   "source": [
    "### GUI Mouse controlling program\n",
    "import pyautogui\n",
    "\n",
    "pyautogui.click() # click to put on a drawing board\n",
    "\n",
    "distance = 200\n",
    "while distance > 0:\n",
    "    print(distance,0)\n",
    "    pyautogui.dragRel(distance,0,duration=0.1)\n",
    "    distance -= 25\n",
    "    print(0,distance)\n",
    "    pyautogui.dragRel(0,distance,duration=0.1)\n",
    "    print(-distance,0)\n",
    "    pyautogui.dragRel(-distance,0,duration=0.1)\n",
    "    distance -= 25\n",
    "    print(0,-distance)\n",
    "    pyautogui.dragRel(0,-distance,duration=0.1)\n",
    "    \n"
   ]
  },
  {
   "cell_type": "code",
   "execution_count": 489,
   "metadata": {},
   "outputs": [],
   "source": [
    "pyautogui.displayMousePosition() # dont do this"
   ]
  },
  {
   "cell_type": "code",
   "execution_count": 527,
   "metadata": {},
   "outputs": [
    {
     "data": {
      "text/plain": [
       "Point(x=22, y=69)"
      ]
     },
     "execution_count": 527,
     "metadata": {},
     "output_type": "execute_result"
    }
   ],
   "source": [
    "## Controlling keyboard with python\n",
    "import pyautogui\n",
    "pyautogui.position()"
   ]
  },
  {
   "cell_type": "code",
   "execution_count": 529,
   "metadata": {},
   "outputs": [],
   "source": [
    "## Keyboard Automation\n",
    "\n",
    "pyautogui.click(39,75)\n",
    "pyautogui.typewrite('Hello AbhiShek!! How are you?', interval = 0.2)\n",
    "pyautogui.doubleClick(90,60)\n",
    "pyautogui.typewrite(['backspace','r','o','m','u','space'],interval=0.2)\n",
    "pyautogui.click(200,59)\n",
    "pyautogui.typewrite(['enter','i','space','a','m','space','f','i','n','e'])"
   ]
  },
  {
   "cell_type": "code",
   "execution_count": 498,
   "metadata": {},
   "outputs": [],
   "source": [
    "pyautogui.KEYBOARD_KEYS"
   ]
  },
  {
   "cell_type": "code",
   "execution_count": 513,
   "metadata": {},
   "outputs": [],
   "source": [
    "pyautogui.doubleClick(90,60)\n",
    "pyautogui.typewrite(['backspace','r','o','m','u'],interval=0.2)\n",
    "pyautogui.click(200,59)\n",
    "pyautogui.typewrite(['enter','i','space','a','m','space','f','i','n','e'])"
   ]
  },
  {
   "cell_type": "code",
   "execution_count": 533,
   "metadata": {},
   "outputs": [],
   "source": [
    "pyautogui.click(22,69)\n",
    "pyautogui.typewrite('Hello Divya !', interval = 0.2)\n",
    "#pyautogui.typewrite(['enter'])\n",
    "pyautogui.press('enter')\n",
    "pyautogui.typewrite('Romu loves you', interval= 0.2)\n"
   ]
  },
  {
   "cell_type": "code",
   "execution_count": 538,
   "metadata": {},
   "outputs": [],
   "source": [
    "pyautogui.hotkey('ctrl','j')"
   ]
  },
  {
   "cell_type": "code",
   "execution_count": 539,
   "metadata": {},
   "outputs": [
    {
     "data": {
      "image/png": "[encoded data removed]",
      "text/plain": [
       "<PIL.Image.Image image mode=RGB size=1366x768 at 0x21D16A28E48>"
      ]
     },
     "execution_count": 539,
     "metadata": {},
     "output_type": "execute_result"
    }
   ],
   "source": [
    "## taking screenshot\n",
    "import pyautogui\n",
    "pyautogui.screenshot('imag1.png')"
   ]
  },
  {
   "cell_type": "code",
   "execution_count": 540,
   "metadata": {},
   "outputs": [],
   "source": [
    "pyautogui.locateOnScreen('imag1.png')"
   ]
  },
  {
   "cell_type": "code",
   "execution_count": null,
   "metadata": {},
   "outputs": [],
   "source": []
  },
  {
   "cell_type": "code",
   "execution_count": null,
   "metadata": {},
   "outputs": [],
   "source": []
  },
  {
   "cell_type": "code",
   "execution_count": null,
   "metadata": {},
   "outputs": [],
   "source": []
  },
  {
   "cell_type": "code",
   "execution_count": null,
   "metadata": {},
   "outputs": [],
   "source": []
  },
  {
   "cell_type": "code",
   "execution_count": null,
   "metadata": {},
   "outputs": [],
   "source": []
  },
  {
   "cell_type": "code",
   "execution_count": null,
   "metadata": {},
   "outputs": [],
   "source": []
  },
  {
   "cell_type": "code",
   "execution_count": null,
   "metadata": {},
   "outputs": [],
   "source": []
  },
  {
   "cell_type": "code",
   "execution_count": null,
   "metadata": {},
   "outputs": [],
   "source": []
  },
  {
   "cell_type": "code",
   "execution_count": null,
   "metadata": {},
   "outputs": [],
   "source": []
  }
 ],
 "metadata": {
  "kernelspec": {
   "display_name": "Python 3",
   "language": "python",
   "name": "python3"
  },
  "language_info": {
   "codemirror_mode": {
    "name": "ipython",
    "version": 3
   },
   "file_extension": ".py",
   "mimetype": "text/x-python",
   "name": "python",
   "nbconvert_exporter": "python",
   "pygments_lexer": "ipython3",
   "version": "3.6.5"
  }
 },
 "nbformat": 4,
 "nbformat_minor": 2
}
